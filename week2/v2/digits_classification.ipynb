{
  "nbformat": 4,
  "nbformat_minor": 0,
  "metadata": {
    "kernelspec": {
      "display_name": "Python 3",
      "language": "python",
      "name": "python3"
    },
    "language_info": {
      "codemirror_mode": {
        "name": "ipython",
        "version": 3
      },
      "file_extension": ".py",
      "mimetype": "text/x-python",
      "name": "python",
      "nbconvert_exporter": "python",
      "pygments_lexer": "ipython3",
      "version": "3.6.5"
    },
    "colab": {
      "name": "digits_classification.ipynb",
      "provenance": [],
      "include_colab_link": true
    },
    "accelerator": "GPU"
  },
  "cells": [
    {
      "cell_type": "markdown",
      "metadata": {
        "id": "view-in-github",
        "colab_type": "text"
      },
      "source": [
        "<a href=\"https://colab.research.google.com/github/edahg/intro-to-dl/blob/master/week2/v2/digits_classification.ipynb\" target=\"_parent\"><img src=\"https://colab.research.google.com/assets/colab-badge.svg\" alt=\"Open In Colab\"/></a>"
      ]
    },
    {
      "cell_type": "code",
      "metadata": {
        "id": "a4TCn95uod0e",
        "colab_type": "code",
        "colab": {
          "base_uri": "https://localhost:8080/",
          "height": 306
        },
        "outputId": "fedc46a7-324b-444c-8a63-7c14c5cb53fb"
      },
      "source": [
        "# set tf 1.x for colab\n",
        "%tensorflow_version 1.x\n",
        "! shred -u setup_google_colab.py\n",
        "! wget https://raw.githubusercontent.com/hse-aml/intro-to-dl/master/setup_google_colab.py -O setup_google_colab.py\n",
        "import setup_google_colab\n",
        "# please, uncomment the week you're working on\n",
        "# setup_google_colab.setup_week1()\n",
        "setup_google_colab.setup_week2()\n",
        "# setup_google_colab.setup_week2_honor()\n",
        "# setup_google_colab.setup_week3()\n",
        "# setup_google_colab.setup_week4()\n",
        "# setup_google_colab.setup_week5()\n",
        "# setup_google_colab.setup_week6()"
      ],
      "execution_count": 4,
      "outputs": [
        {
          "output_type": "stream",
          "text": [
            "--2020-07-02 12:19:07--  https://raw.githubusercontent.com/hse-aml/intro-to-dl/master/setup_google_colab.py\n",
            "Resolving raw.githubusercontent.com (raw.githubusercontent.com)... 151.101.0.133, 151.101.64.133, 151.101.128.133, ...\n",
            "Connecting to raw.githubusercontent.com (raw.githubusercontent.com)|151.101.0.133|:443... connected.\n",
            "HTTP request sent, awaiting response... 200 OK\n",
            "Length: 3636 (3.6K) [text/plain]\n",
            "Saving to: ‘setup_google_colab.py’\n",
            "\n",
            "\rsetup_google_colab.   0%[                    ]       0  --.-KB/s               \rsetup_google_colab. 100%[===================>]   3.55K  --.-KB/s    in 0s      \n",
            "\n",
            "2020-07-02 12:19:07 (51.5 MB/s) - ‘setup_google_colab.py’ saved [3636/3636]\n",
            "\n",
            "**************************************************\n",
            "inception_v3_weights_tf_dim_ordering_tf_kernels_notop.h5\n",
            "**************************************************\n",
            "cifar-10-batches-py.tar.gz\n",
            "**************************************************\n",
            "mnist.npz\n"
          ],
          "name": "stdout"
        }
      ]
    },
    {
      "cell_type": "markdown",
      "metadata": {
        "id": "ICrWXDjNod0h",
        "colab_type": "text"
      },
      "source": [
        "# MNIST digits classification with TensorFlow"
      ]
    },
    {
      "cell_type": "markdown",
      "metadata": {
        "id": "c5SAU6A8od0i",
        "colab_type": "text"
      },
      "source": [
        "<img src=\"https://github.com/edahg/intro-to-dl/blob/master/week2/v2/images/mnist_sample.png?raw=1\" style=\"width:30%\">"
      ]
    },
    {
      "cell_type": "code",
      "metadata": {
        "id": "f8Gh7mrIod0i",
        "colab_type": "code",
        "colab": {
          "base_uri": "https://localhost:8080/",
          "height": 51
        },
        "outputId": "942df0e9-1712-4065-888c-d5c98db784fe"
      },
      "source": [
        "import numpy as np\n",
        "from sklearn.metrics import accuracy_score\n",
        "from matplotlib import pyplot as plt\n",
        "%matplotlib inline\n",
        "import tensorflow as tf\n",
        "print(\"We're using TF\", tf.__version__)\n",
        "\n",
        "import sys\n",
        "sys.path.append(\"../..\")\n",
        "import grading\n",
        "\n",
        "import matplotlib_utils\n",
        "from importlib import reload\n",
        "reload(matplotlib_utils)\n",
        "\n",
        "import grading_utils\n",
        "reload(grading_utils)\n",
        "\n",
        "import keras_utils\n",
        "from keras_utils import reset_tf_session"
      ],
      "execution_count": 5,
      "outputs": [
        {
          "output_type": "stream",
          "text": [
            "We're using TF 1.15.2\n"
          ],
          "name": "stdout"
        },
        {
          "output_type": "stream",
          "text": [
            "Using TensorFlow backend.\n"
          ],
          "name": "stderr"
        }
      ]
    },
    {
      "cell_type": "markdown",
      "metadata": {
        "id": "zjEEaqZuod0l",
        "colab_type": "text"
      },
      "source": [
        "# Fill in your Coursera token and email\n",
        "To successfully submit your answers to our grader, please fill in your Coursera submission token and email"
      ]
    },
    {
      "cell_type": "code",
      "metadata": {
        "id": "oDrH3Cu_od0l",
        "colab_type": "code",
        "colab": {}
      },
      "source": [
        "grader = grading.Grader(assignment_key=\"XtD7ho3TEeiHQBLWejjYAA\", \n",
        "                        all_parts=[\"9XaAS\", \"vmogZ\", \"RMv95\", \"i8bgs\", \"rE763\"])"
      ],
      "execution_count": 18,
      "outputs": []
    },
    {
      "cell_type": "code",
      "metadata": {
        "id": "dpKHlpMcod0u",
        "colab_type": "code",
        "colab": {}
      },
      "source": [
        "# token expires every 30 min\n",
        "COURSERA_TOKEN = \"kIyXm8oIyXg8MR4x\"\n",
        "COURSERA_EMAIL = \"edahg.g@gmail.com\""
      ],
      "execution_count": 19,
      "outputs": []
    },
    {
      "cell_type": "markdown",
      "metadata": {
        "id": "5OVXkBpkod0x",
        "colab_type": "text"
      },
      "source": [
        "# Look at the data\n",
        "\n",
        "In this task we have 50000 28x28 images of digits from 0 to 9.\n",
        "We will train a classifier on this data."
      ]
    },
    {
      "cell_type": "code",
      "metadata": {
        "id": "-454VTixod0z",
        "colab_type": "code",
        "colab": {
          "base_uri": "https://localhost:8080/",
          "height": 51
        },
        "outputId": "e765c8c3-2110-4d5a-a23d-d24eab20f3cd"
      },
      "source": [
        "import preprocessed_mnist\n",
        "X_train, y_train, X_val, y_val, X_test, y_test = preprocessed_mnist.load_dataset()"
      ],
      "execution_count": 7,
      "outputs": [
        {
          "output_type": "stream",
          "text": [
            "Downloading data from https://s3.amazonaws.com/img-datasets/mnist.npz\n",
            "11362304/11490434 [============================>.] - ETA: 0s"
          ],
          "name": "stdout"
        }
      ]
    },
    {
      "cell_type": "code",
      "metadata": {
        "id": "wK1wNhiPod02",
        "colab_type": "code",
        "colab": {
          "base_uri": "https://localhost:8080/",
          "height": 683
        },
        "outputId": "526d0095-9e03-43b9-be23-ee9dbad4c0fe"
      },
      "source": [
        "# X contains rgb values divided by 255\n",
        "print(\"X_train [shape %s] sample patch:\\n\" % (str(X_train.shape)), X_train[1, 15:20, 5:10])\n",
        "print(\"A closeup of a sample patch:\")\n",
        "plt.imshow(X_train[1, 15:20, 5:10], cmap=\"Greys\")\n",
        "plt.show()\n",
        "print(\"And the whole sample:\")\n",
        "plt.imshow(X_train[1], cmap=\"Greys\")\n",
        "plt.show()\n",
        "print(\"y_train [shape %s] 10 samples:\\n\" % (str(y_train.shape)), y_train[:10])"
      ],
      "execution_count": null,
      "outputs": [
        {
          "output_type": "stream",
          "text": [
            "X_train [shape (50000, 28, 28)] sample patch:\n",
            " [[0.         0.29803922 0.96470588 0.98823529 0.43921569]\n",
            " [0.         0.33333333 0.98823529 0.90196078 0.09803922]\n",
            " [0.         0.33333333 0.98823529 0.8745098  0.        ]\n",
            " [0.         0.33333333 0.98823529 0.56862745 0.        ]\n",
            " [0.         0.3372549  0.99215686 0.88235294 0.        ]]\n",
            "A closeup of a sample patch:\n"
          ],
          "name": "stdout"
        },
        {
          "output_type": "display_data",
          "data": {
            "image/png": "[encoded data removed]",
            "text/plain": [
              "<Figure size 432x288 with 1 Axes>"
            ]
          },
          "metadata": {
            "tags": [],
            "needs_background": "light"
          }
        },
        {
          "output_type": "stream",
          "text": [
            "And the whole sample:\n"
          ],
          "name": "stdout"
        },
        {
          "output_type": "display_data",
          "data": {
            "image/png": "[encoded data removed]",
            "text/plain": [
              "<Figure size 432x288 with 1 Axes>"
            ]
          },
          "metadata": {
            "tags": [],
            "needs_background": "light"
          }
        },
        {
          "output_type": "stream",
          "text": [
            "y_train [shape (50000,)] 10 samples:\n",
            " [5 0 4 1 9 2 1 3 1 4]\n"
          ],
          "name": "stdout"
        }
      ]
    },
    {
      "cell_type": "markdown",
      "metadata": {
        "id": "UW09g5WZod04",
        "colab_type": "text"
      },
      "source": [
        "# Linear model\n",
        "\n",
        "Your task is to train a linear classifier $\\vec{x} \\rightarrow y$ with SGD using TensorFlow.\n",
        "\n",
        "You will need to calculate a logit (a linear transformation) $z_k$ for each class: \n",
        "$$z_k = \\vec{x} \\cdot \\vec{w_k} + b_k \\quad k = 0..9$$\n",
        "\n",
        "And transform logits $z_k$ to valid probabilities $p_k$ with softmax: \n",
        "$$p_k = \\frac{e^{z_k}}{\\sum_{i=0}^{9}{e^{z_i}}} \\quad k = 0..9$$\n",
        "\n",
        "We will use a cross-entropy loss to train our multi-class classifier:\n",
        "$$\\text{cross-entropy}(y, p) = -\\sum_{k=0}^{9}{\\log(p_k)[y = k]}$$ \n",
        "\n",
        "where \n",
        "$$\n",
        "[x]=\\begin{cases}\n",
        "       1, \\quad \\text{if $x$ is true} \\\\\n",
        "       0, \\quad \\text{otherwise}\n",
        "    \\end{cases}\n",
        "$$\n",
        "\n",
        "Cross-entropy minimization pushes $p_k$ close to 1 when $y = k$, which is what we want.\n",
        "\n",
        "Here's the plan:\n",
        "* Flatten the images (28x28 -> 784) with `X_train.reshape((X_train.shape[0], -1))` to simplify our linear model implementation\n",
        "* Use a matrix placeholder for flattened `X_train`\n",
        "* Convert `y_train` to one-hot encoded vectors that are needed for cross-entropy\n",
        "* Use a shared variable `W` for all weights (a column $\\vec{w_k}$ per class) and `b` for all biases.\n",
        "* Aim for ~0.93 validation accuracy"
      ]
    },
    {
      "cell_type": "code",
      "metadata": {
        "id": "jZ5RRRIMod05",
        "colab_type": "code",
        "colab": {
          "base_uri": "https://localhost:8080/",
          "height": 51
        },
        "outputId": "72dccbe2-57e1-4bac-ead9-e6002df34121"
      },
      "source": [
        "X_train_flat = X_train.reshape((X_train.shape[0], -1))\n",
        "print(X_train_flat.shape)\n",
        "\n",
        "X_val_flat = X_val.reshape((X_val.shape[0], -1))\n",
        "print(X_val_flat.shape)"
      ],
      "execution_count": 8,
      "outputs": [
        {
          "output_type": "stream",
          "text": [
            "(50000, 784)\n",
            "(10000, 784)\n"
          ],
          "name": "stdout"
        }
      ]
    },
    {
      "cell_type": "code",
      "metadata": {
        "id": "P2V61VTdod07",
        "colab_type": "code",
        "colab": {
          "base_uri": "https://localhost:8080/",
          "height": 85
        },
        "outputId": "64b19ef0-cd87-428c-c50c-8d5ce72e1f0e"
      },
      "source": [
        "import keras\n",
        "\n",
        "y_train_oh = keras.utils.to_categorical(y_train, 10)\n",
        "y_val_oh = keras.utils.to_categorical(y_val, 10)\n",
        "\n",
        "print(y_train_oh.shape)\n",
        "print(y_train_oh[:3], y_train[:3])"
      ],
      "execution_count": 9,
      "outputs": [
        {
          "output_type": "stream",
          "text": [
            "(50000, 10)\n",
            "[[0. 0. 0. 0. 0. 1. 0. 0. 0. 0.]\n",
            " [1. 0. 0. 0. 0. 0. 0. 0. 0. 0.]\n",
            " [0. 0. 0. 0. 1. 0. 0. 0. 0. 0.]] [5 0 4]\n"
          ],
          "name": "stdout"
        }
      ]
    },
    {
      "cell_type": "code",
      "metadata": {
        "id": "jlHwihRWod0-",
        "colab_type": "code",
        "colab": {}
      },
      "source": [
        "# run this again if you remake your graph\n",
        "s = reset_tf_session()"
      ],
      "execution_count": 29,
      "outputs": []
    },
    {
      "cell_type": "code",
      "metadata": {
        "id": "jCL2EAdIod1A",
        "colab_type": "code",
        "colab": {}
      },
      "source": [
        "# Model parameters: W and b\n",
        "W = tf.get_variable(name='W', shape=(784,10), trainable=True, dtype=tf.float32)  ### YOUR CODE HERE ### tf.get_variable(...) with shape[0] = 784\n",
        "b = tf.get_variable(name='b', shape=(10), trainable=True) ### YOUR CODE HERE ### tf.get_variable(...)"
      ],
      "execution_count": 50,
      "outputs": []
    },
    {
      "cell_type": "code",
      "metadata": {
        "id": "-Qqpy2nmod1C",
        "colab_type": "code",
        "colab": {}
      },
      "source": [
        "# Placeholders for the input data\n",
        "input_X = tf.placeholder(dtype=tf.float32, shape=[None, 784]) ### YOUR CODE HERE ### tf.placeholder(...) for flat X with shape[0] = None for any batch size\n",
        "input_y = tf.placeholder(dtype=tf.float32, shape=[None, 10]) ### YOUR CODE HERE ### tf.placeholder(...) for one-hot encoded true labels"
      ],
      "execution_count": 30,
      "outputs": []
    },
    {
      "cell_type": "code",
      "metadata": {
        "id": "2unRPIThod1E",
        "colab_type": "code",
        "colab": {
          "base_uri": "https://localhost:8080/",
          "height": 34
        },
        "outputId": "ac7eae1e-c818-4255-dca0-3d04917f7db9"
      },
      "source": [
        "# Compute predictions\n",
        "logits = tf.matmul(input_X,W) + b ### YOUR CODE HERE ### logits for input_X, resulting shape should be [input_X.shape[0], 10]\n",
        "probas = tf.nn.softmax(logits) ### YOUR CODE HERE ### apply tf.nn.softmax to logits\n",
        "classes = tf.argmax(probas, axis=1) ### YOUR CODE HERE ### apply tf.argmax to find a class index with highest probability\n",
        "\n",
        "# Loss should be a scalar number: average loss over all the objects with tf.reduce_mean().\n",
        "# Use tf.nn.softmax_cross_entropy_with_logits on top of one-hot encoded input_y and logits.\n",
        "# It is identical to calculating cross-entropy on top of probas, but is more numerically friendly (read the docs).\n",
        "loss = tf.reduce_mean(tf.nn.softmax_cross_entropy_with_logits(labels=input_y, logits=logits)) ### YOUR CODE HERE ### cross-entropy loss\n",
        "\n",
        "# Use a default tf.train.AdamOptimizer to get an SGD step\n",
        "step = tf.train.AdamOptimizer().minimize(loss) ### YOUR CODE HERE ### optimizer step that minimizes the loss\n",
        "s.run(tf.global_variables_initializer())\n",
        "logits.shape"
      ],
      "execution_count": 51,
      "outputs": [
        {
          "output_type": "execute_result",
          "data": {
            "text/plain": [
              "TensorShape([Dimension(None), Dimension(10)])"
            ]
          },
          "metadata": {
            "tags": []
          },
          "execution_count": 51
        }
      ]
    },
    {
      "cell_type": "code",
      "metadata": {
        "scrolled": false,
        "id": "XAUIUYEZod1H",
        "colab_type": "code",
        "colab": {
          "base_uri": "https://localhost:8080/",
          "height": 309
        },
        "outputId": "eb51ac12-b078-4b52-b6e8-ec18bfd26a1d"
      },
      "source": [
        "s.run(tf.global_variables_initializer())\n",
        "\n",
        "BATCH_SIZE = 512\n",
        "EPOCHS = 40\n",
        "\n",
        "# for logging the progress right here in Jupyter (for those who don't have TensorBoard)\n",
        "simpleTrainingCurves = matplotlib_utils.SimpleTrainingCurves(\"cross-entropy\", \"accuracy\")\n",
        "\n",
        "for epoch in range(EPOCHS):  # we finish an epoch when we've looked at all training samples\n",
        "    \n",
        "    batch_losses = []\n",
        "    for batch_start in range(0, X_train_flat.shape[0], BATCH_SIZE):  # data is already shuffled\n",
        "        _, batch_loss = s.run([step, loss], {input_X: X_train_flat[batch_start:batch_start+BATCH_SIZE], \n",
        "                                             input_y: y_train_oh[batch_start:batch_start+BATCH_SIZE]})\n",
        "        # collect batch losses, this is almost free as we need a forward pass for backprop anyway\n",
        "        batch_losses.append(batch_loss)\n",
        "\n",
        "    train_loss = np.mean(batch_losses)\n",
        "    val_loss = s.run(loss, {input_X: X_val_flat, input_y: y_val_oh})  # this part is usually small\n",
        "    train_accuracy = accuracy_score(y_train, s.run(classes, {input_X: X_train_flat}))  # this is slow and usually skipped\n",
        "    valid_accuracy = accuracy_score(y_val, s.run(classes, {input_X: X_val_flat}))  \n",
        "    simpleTrainingCurves.add(train_loss, val_loss, train_accuracy, valid_accuracy)"
      ],
      "execution_count": 56,
      "outputs": [
        {
          "output_type": "display_data",
          "data": {
            "text/html": [
              "<img src=\"data:image/jpeg;base64,/9j/4AAQSkZJRgABAQEASABIAAD/2wBDAAIBAQEBAQIBAQECAgICAgQDAgICAgUEBAMEBgUGBgYFBgYGBwkIBgcJBwYGCAsICQoKCgoKBggLDAsKDAkKCgr/2wBDAQICAgICAgUDAwUKBwYHCgoKCgoKCgoKCgoKCgoKCgoKCgoKCgoKCgoKCgoKCgoKCgoKCgoKCgoKCgoKCgoKCgr/wAARCAEgA2ADASIAAhEBAxEB/8QAHwAAAQUBAQEBAQEAAAAAAAAAAAECAwQFBgcICQoL/8QAtRAAAgEDAwIEAwUFBAQAAAF9AQIDAAQRBRIhMUEGE1FhByJxFDKBkaEII0KxwRVS0fAkM2JyggkKFhcYGRolJicoKSo0NTY3ODk6Q0RFRkdISUpTVFVWV1hZWmNkZWZnaGlqc3R1dnd4eXqDhIWGh4iJipKTlJWWl5iZmqKjpKWmp6ipqrKztLW2t7i5usLDxMXGx8jJytLT1NXW19jZ2uHi4%2BTl5ufo6erx8vP09fb3%2BPn6/8QAHwEAAwEBAQEBAQEBAQAAAAAAAAECAwQFBgcICQoL/8QAtREAAgECBAQDBAcFBAQAAQJ3AAECAxEEBSExBhJBUQdhcRMiMoEIFEKRobHBCSMzUvAVYnLRChYkNOEl8RcYGRomJygpKjU2Nzg5OkNERUZHSElKU1RVVldYWVpjZGVmZ2hpanN0dXZ3eHl6goOEhYaHiImKkpOUlZaXmJmaoqOkpaanqKmqsrO0tba3uLm6wsPExcbHyMnK0tPU1dbX2Nna4uPk5ebn6Onq8vP09fb3%2BPn6/9oADAMBAAIRAxEAPwD9/KKKKACiiigAooooAKKKKACiiigAooooAKKKKACiiigAooooAKKKKACiiigAooooAKKKKACiiigAooooAKKKKACiiigAooooAKKKKACiiigAooooAKKKKACiiigAooooAKKKKACiiigAooooAKKKKACiiigAooooAKKKKACiiigAooooAKKKKACiiigAooooAKKKKACiiigAooooAKKKKACiiigAooooAKKKKACiiigAooooAKKKKACiiigAooooAKKKKACiiigAooooAKKKKACiiigAooooAKKKKACiiigAooooAKKKKACiiigAooooAKKKKACiiigAooooAKKKKACiiigAooooAKKKKACuN%2BOP7QHwm/Zx8JW/jT4veJ5dPtL7U4dN0u2stLub%2B91K9lDGO1tLO0jluLudlR2EUMbvtR2xhWI7KvFv2u/gP8VPiX4h%2BGfxl%2BBd14fl8X/CrxjPrWmaJ4tu57bTdYhudLvdMubaW4ghmktH8q9aSOdYZtrR7TGyu2ACjpH/AAUr/Y71rxm3w8tvHviCDW7fSodU1bTtR%2BHOvWkmi2EhuAt3qXn2SDTIAbWcNLdmFEKYYqWUGbwn/wAFH/2NfGfg/wAQ%2BOtM%2BLFza6f4Y0e11fVBrnhPVdMuJNPuXMdreWtvd2sU19bzyAxwy2ySpM5CRlmIB86vP2GPjP8AHW0/aRP7Qt74V8My/tB/CPTvBskfgrWLrUzo7RWusWsr%2BbcWtqZ1VNRiZDsXeyygogxuy9Y/Y2/at%2BM%2Btaz8UP2lPh38G9X1e0%2BE6eBtB8E6d4n1QaRrSy6jaXt5fXd2bBJ9PYmyg%2BzxQw3BtnDP50hIwAeyX/7fP7N2k%2BAbH4h6tdeOLSHVPED6Jpeh3Xwj8SR67e3yW5uXjh0dtPGoShYAZTIluUCKzFsA49P8JeOfDfjbwTY/EPRbi5i0rULBbyCTVNPnsZY4iu7MsFykcsDAfeSRVZSCGAIIr41tv2Gf2tJfgpJ4W8feGPCnjS%2Bh%2BIcut%2BC9B1n9ofxXb3fgOxOmxWoi0/xbHp7atcSGUXcreZDGBHeGENsjGfUvB/7Bmq%2BKfgJo3hb9pz46%2BOPEfj5PhtdeFtf8Q6T8Q9at9Muhc2tzbyTPpa3SWN5MiXTBbq4tmmdoopWKuibADc8Mf8FJP2MvF/h7xJ4s0b4tXK6Z4W8GXni6/vr7wlqtpFe6BaruuNU09p7VBqtogK5nsvPQmSMAkyIG4n40f8FdP2YfAf7M/wATf2gfhW%2Bs%2BM7v4b%2BDYfEjeGW8L6xps2r2Nw7R2t3avNYFrixlkRh9vgjmtkVWdnCqSPHfC/8AwSh%2BNC/BPxf8LPFnh3w9J4h/4UL4j8A%2BC/Hmo/tD%2BNvECSXGpWEdp5h0jVUkttGtpDDE8scEl0yeVGqFggz6P%2B1L/wAE5vih%2B0BYeKtE0Pxj4d0q2179le%2B%2BGlrLM87GDVpLiOWGdo1iANqNhBIbzBnhO9AHqkv/AAUU/ZZt/E3hrwJeav41tvEni7TpdQ0HwpefCTxLDq8tnFd/Y5LmSwk08XNvCkxG6SaNEVGWUkRsrmXwN/wUT/Y7%2BJGqarpXhD4tyXB0rQ9Q1lbufw1qVvaapp1iwS8u9NuZrdYdVhhYqHeyedVLqCfmGcXwR8APjz4x/apsf2oPjn4f8HeH5JPg5f8Ag/VNE8J%2BK7vVTBcy6tHcpJDcz6fZl4mgiUsTGjJIdoV1USHwGb9hz9pf4bfs8%2BF/Cnxo1rwIPCP7N3wP8SaB4L1PwrfXcmpeKd2hHTLe4vbeW2ii04JZozSQxS3QknZXDxqgQgH0D4U/4Kl/sL%2BNPBus/ELQ/jLdrouheDj4tutRv/BmsWcdzoIKB9Vs/PtEN/ZxmRBJPbCWOLcPMZc167a/GD4c3vxcuPgVZ%2BIxN4qtPDUGv3emRWsrCHTp55beGd5QnlL5ksE6ohfe3kyEKQjEfFX7I/7P3xC8WfBL4Q/Hb9t/Uvhlovww%2BG/7L9z4fgk07W5wmr6bqmnaWby%2B1X7VBDDpkEVppyq0CS3CZleRplWNVrsP%2BCK3wr8d6P8As76n8evit4tbxFrHjW%2Bg03w54hlgaOS%2B8I6JF/ZWiXBD8/6VDDNqhPd9WcgKCFAB9lUUUUAFFFFABRRRQAUUUUAFFFFABRRRQAUUUUAFFFFABRRRQAUUUUAFFFFABRRRQAUUUUAFFFFABRRRQAUUUUAFFFFABRRRQAV4jpH/AAUY/Y91K716z1P4pXnh5vDnhy58QahJ418I6roMc2k27pHPf2smpWsC31ujyRK0tsZUBljGcuufab2K5ms5YbO6EEzxMsUxj3%2BWxHDbT1wecd6/MTV/%2BCOX7cvxf1bwvrnxu%2BOOhvrfhrwfqFnqHijUPit4m8TjxDrf2zSr611E6XfRQ2Wk20lzpi%2BfYWQCiOTassgVAoB9sv8At/8A7MNr8NG%2BLGseIPFWlaW2uQaNY2eufDLX7DVNTv5kMkMFlptxYpe37SIGdfs8MgZUdgSEYjovAf7VnwP%2BI%2Bv2XhPw54h1SHV7/wAKT%2BJIdI1rwrqWmXaabDd/ZJZZYby3ikgdZ/kMMirL32bea8m%2BJ3wc/bd%2BMTfD342654N%2BFWh/EP4UeOptY8P%2BGbXxxqV/ouuWdxpN3plzHcXz6VDNYzFL2SSN0tbgRmIKfMEjYq/En4Dftwa/8ZfDv7TXgfRvhXaeLL74Yar4L8Y6FqXivUpLDSFuL%2BG6tb%2ByuE04SagYhG6yW8sVoJS4xLFjkA7jSf8Ago3%2ByB4j17wL4W8K/EbVdZ1P4k%2BDdK8W%2BDdO0TwPrN7PeaHqL7LXUZEgtGa1t92PMknEa24ZTN5QYE7Hw1/bc/Zu%2BK/xGufhP4Z8X6tZ6/b6Xc6nDZeJ/BmraIt/Y28iRz3dlLqNrBHfwRvLEHltmkRfMQkgMpPlH7Cn7CXxY/Zh1/4caz488QeGrs%2BDv2UvCPwxv30i5nlZtW0t5muZovMgj3Wrb02MxV22/NGmBXjXw0/4JV/tjeJ/ij4X8TftTfGGz1SLT/AHivwv408TQfF/xJrV54il1exS2/tO10y%2Bhj0/QjlSxtLRSi5UCZxGq0AfUvhP/gov%2ByP410WPxVoPjvXP7DuNV0vT9P8AEt78P9btdK1GXUr2OyspLS%2Bns0tryCW5mijFxBI8IMqFnCsCfS/C3xd%2BHnjX4geKfhd4X8Q/a9c8FyWcfie0S0mC2Ml1B9ogjMrII3doSshRGZkWSMsFEibvmHxx4E%2BIvhX/AIJ7eNPgR/wUM8T/AAq8EeAtB%2BGkWgW3xM8O%2BLbsM06RpbWupPaXVnAmmzLMLeSGCO4umM5REcnaG7X/AIJX/D74seG/2RNK%2BKv7RVglv8TvixfS%2BOviJCtu0X2e/v1jMNpsb5k%2By2MdlZ7TkgWuDQB9G0UUUAFFFFABRRRQAUUUUAFFFFABRRRQAUUUUAFFFFABRRRQAUUUUAFFFFABRRRQAUUUUAFFFFABRRRQAUUUUAFFFFABRRRQAUVzXxik%2BJsPwy1if4Oa1oOneJYrXfpl74m0qa%2BsYirAuZYIJ7eSUeWHwqyx/MVy2M1xXwE%2BKPxg/aG/Yj%2BH/wAa/D9z4a0fxr44%2BHGia40t5pVxcaXZ3l5ZQXEp%2BzLcJNJEpkfbH56sQFBk6tQB61Xi/wAevH/7Rf8Aw0X4F%2BBHwF8Z%2BCvD6a/4K8S69q%2Bp%2BL/Bd3rRJ0670O3hhhjt9SsfLDf2pKzMzPny0AC8kz/safG74i/G3wp4vk%2BIt14f1SXwr4%2BvvDun%2BLfCemz2emeI4raKAy3VvBPPcPEIrmS5snXz5QZrCUq2CFHGa18cvhT4u/4KpfD74W%2BDPiT4e1nWtD%2BDPj6PxJpOla1BcXekTHVvB5ijuYo3L25dVlIEgUny2xnBpNpblwhKo7R7N/dqzrv%2BEH/4KF/9HQfBn/ww%2Brf/ADUUf8IP/wAFC/8Ao6D4M/8Ahh9W/wDmor2aimQeM/8ACD/8FC/%2BjoPgz/4YfVv/AJqKP%2BEH/wCChf8A0dB8Gf8Aww%2Brf/NRXs1FAHjP/CD/APBQv/o6D4M/%2BGH1b/5qKP8AhB/%2BChf/AEdB8Gf/AAw%2Brf8AzUV7NRQB4z/wg/8AwUL/AOjoPgz/AOGH1b/5qKP%2BEH/4KF/9HQfBn/ww%2Brf/ADUV7NRQB4z/AMIP/wAFC/8Ao6D4M/8Ahh9W/wDmoo/4Qf8A4KF/9HQfBn/ww%2Brf/NRXs1FAHjP/AAg//BQv/o6D4M/%2BGH1b/wCaij/hB/8AgoX/ANHQfBn/AMMPq3/zUV7NRQB4z/wg/wDwUL/6Og%2BDP/hh9W/%2Baij/AIQf/goX/wBHQfBn/wAMPq3/AM1FezV598QPH/wM%2BGg1Pxh8ffHHhTw/p51qLT7LUvGGqW1pB5htI5VgjkuWVd5AlfaDkhWOODiZzhTi5TaSXVuy%2B92Rth8PiMXXjRoQlOcnZRinKTfZRipSb0eiTemxzX/CD/8ABQv/AKOg%2BDP/AIYfVv8A5qKP%2BEH/AOChf/R0HwZ/8MPq3/zUVX/4a/8A%2BCcH/R0XwR/8LbR//jtH/DX/APwTg/6Oi%2BCP/hbaP/8AHa5vr%2BA/5/Q/8Dh/8ke1/qlxZ/0LsR/4T1//AJQWP%2BEH/wCChf8A0dB8Gf8Aww%2Brf/NRR/wg/wDwUL/6Og%2BDP/hh9W/%2Baiuw%2BGniT9nL40aFL4p%2BDuv%2BCfFmmW921rPqPhq6s7%2BCOdVV2iaSAsocK6MVJyA6nGCK8n%2BIP7bP7J3wh%2BNfxE%2BEXxY8D6hodp8NPA2neKfEPi2T4f39xpUVlci%2BZi1zBaPFH5aWROWf94ztHHueGVV6YThUipQaafVO6%2B9XR4uIw%2BIwleVGvCUJxdnGScZJ9nGSjJPVaNJ67HUf8IP/AMFC/wDo6D4M/wDhh9W/%2Baij/hB/%2BChf/R0HwZ/8MPq3/wA1FRN%2B03%2ByhbTeG49Y8J69pUPiu4ht9Iv9c%2BD%2Bt2Fos0169lbx3NzcWCQ2TzXChIluHiaXzYWQMs0TPzOu/t0/sU%2BArQn4kzWNvdte%2BK1htfDfgfVtYIs/D%2BqnTdRupRb6bvhSCVohMzL5SF2KSzRKJ2oxOr/4Qf8A4KF/9HQfBn/ww%2Brf/NRR/wAIP/wUL/6Og%2BDP/hh9W/8AmorvtAj%2BDHiu4ntPC8fhjUZraGCa5hsVt5XhjnTzIXdVyVEifMpONy8jIrw/9n79qrRPjR8UtG8L65%2Bzdomh%2BGPHOm67qHwz8SQ6ql3Pq1vpV7DazG7tTaRixaZJ47mBUluN0IfzDC6iMgHZf8IP/wAFC/8Ao6D4M/8Ahh9W/wDmoo/4Qf8A4KF/9HQfBn/ww%2Brf/NRXG%2BLP2qtE8NfHjUfA9v8As3aHc%2BBPD3xE0XwH4n8atqqR3lpr%2Bq2lncWiRaf9kKz2udS02F5zcoyyXRAicRO1bfwh%2BK/i34k6/wDGDwFrH7LPhLS/Enw11OO10LT7bxOtzBron09Ly0aac2Ef2Jn8xEdQk4jySGkxigDX/wCEH/4KF/8AR0HwZ/8ADD6t/wDNRR/wg/8AwUL/AOjoPgz/AOGH1b/5qK80179rfxRYf8E6Ne/bj0T9j/wfe634UsPEN74i8ES%2BMvJtYodGuL6G7MOo/wBmM8xYWLGMG1TcZFDbAC1Rftx/t2eAv2NNf0XQpPgR4Q1OTVPClzrkEPiDxNFo8%2BtPDLDGNI0SP7HP/a2ryGUeXZ7oN26L94N%2BVAPUP%2BEH/wCChf8A0dB8Gf8Aww%2Brf/NRR/wg/wDwUL/6Og%2BDP/hh9W/%2BaiuBH7ZHgu3/AGgB8ONY%2BAnhmy8IS/FF/h3a%2BJJdbjOqSeIF0o6kFOli0wLV0UxrKLkylmR/IETeYM79nT9suT9o6HTdL8P/ALM3gLT9e8a/C2D4hfDDSbvxuJF1HRZJ4oT/AGnJFpjNplwhuLfdHEl4m53VZWMb4APT/wDhB/8AgoX/ANHQfBn/AMMPq3/zUUf8IP8A8FC/%2BjoPgz/4YfVv/morwvVv%2BChM3gz4Q3PxH%2BKP7M3wr8MbfjTqPw/tde1n4nG38KRmxtZmuNQu9Ym0eN7SP7baXWnIhtW33SRpuAlBW/4U/wCCgXh7xz8TPhX8ONM%2BAvwx8OT/ABJ%2BH2leKUg%2BIvxFTRr1lvLqWA2mm2y6ZOdTlVYjKo3Qb1kjyE3HAB7L/wAIP/wUL/6Og%2BDP/hh9W/8Amoo/4Qf/AIKF/wDR0HwZ/wDDD6t/81FcV4c/a9%2BGXjP9pjxP8EvC3gL4ayaV4NnvbbWnu/GkEfia6ktLTzriax0JLN3ubVJmW2Mz3EJ8yOYqjKiGTL/Z%2B/a41T9oO2Ph7Qv2Zfh1Y%2BLtb%2BGmkePvAeiT%2BPfOtdR0O/maNWvbmHS2axuI9o3JHDdRMzqI5nAdkAPSf%2BEH/wCChf8A0dB8Gf8Aww%2Brf/NRR/wg/wDwUL/6Og%2BDP/hh9W/%2BaivJI/26ItF/ZF8WftGeN/2UfC66/pfjXXfDHgrwj4a8T/b4PFd1pkk8M00V5Np1u8MCyWeoPJIbd9lvYyTqJAQh1NT/AG2vh3dfFfwN8GvCfw0%2BGFtrfifwloXiDVLbxz4%2Bg0Ro4tVeVbez0xPsU76regW1yxhCwKAsO6RfOUAA9H/4Qf8A4KF/9HQfBn/ww%2Brf/NRR/wAIP/wUL/6Og%2BDP/hh9W/8AmorifB/7V2l%2BK/jNYeEW/Zm0K38F%2BJfHfiPwR4K8XDWI3u9S8QaJHfNeQT2JtAtrbltK1VI5xcSsxs8tEgkU1rfA74rfE344fB3xT4i039lL4faZ478L%2BOL7w5ceFr7xvI2mStayxq8v9ox6Q0gyjlgotGG5du7B3gA6D/hB/wDgoX/0dB8Gf/DD6t/81FUPA/jj9qzwd%2B1Z4c%2BCPxu%2BI/w98TaN4m%2BHviHXIZvCvw8vtFurS602%2B0S3RWe41e%2BSWN01SUlQiMGiQhsZBi/Ze%2BK9x%2B0f%2BzJd/HTxB8FPD3g%2B8bUNbt9ITw/rJ1KG4gsby4tYdQguXs7RzFObfz48xKfKkjJ%2B8QNTxx/ykL%2BF/wD2Rnx5/wCnbwhQB7NRRRQAV4v/AMFBfi78cP2fv2R/Gnx6%2BAV74Uj1jwToV3rl1B4w0W5vra7tLW2lme3RLa6tmSV2RFEhcqgLEo/Ar2ivOP2sf2cbL9rT4Ea9%2Bz7rXxV8U%2BEdJ8T2Utjrl/4QXTvtdzZSxPFNbbr%2B0uo0R1flkRZAVG115yAUv2r/AIw%2BP/hZ4e8J%2BHPhNHo6%2BKfHvjmy8NaHfeIbKW6sdPaSKe5nuZoIZoZJwltaXBWJZYt8mxS6Akj55vf2/P2q/E3hrUNA%2BHOheAIPF3w/8NeNNX%2BIEmr6TeyWGrv4f1iTTIrWwRLtHshfGCafzpXufsg2IYrkksPoLxv%2BytJ8Svh1Z%2BCPHn7QXjrUdT0nU9O1TQPGJi0eDU9J1KzJK3kIg05LZnkDOsiSwSQskjp5YVip4jxH/wAEyfhDrngfTvBmm/Fj4gaLNHpOv6X4n17SNTskv/Fdlrd59u1aG/eS0dAbi63S%2BbapbywGRxbvArFaAPZ7f4yfDuL4QWfx18U%2BKbDw/wCGbnQ7fVZ9V1%2B9itILO2mjWRWmlkYJGAHAJJxnvXhf7P8A8Uf2yv2q/Al/8a/hL%2B0h8FrbwpeeNvE2m%2BGBH8KtR1cTadp%2BuX2nW0/22HxHDHcmWK1SUyRxohMh2gDFfSumabp%2Bjabb6PpNlHbWtpAkNtbwoFSKNQFVFA4AAAAHtXhf7IQ8z9nXW7didk3x08eRSgHG5H8fasrL9CpIPsaANX/hB/8AgoX/ANHQfBn/AMMPq3/zUUf8IP8A8FC/%2BjoPgz/4YfVv/mop%2Bv8A7UH/AAT98Ka7e%2BFvFP7RHwc03U9Nu5LXUdO1DxdpUM9rPGxSSKSN5QyOrAqysAQQQRkVU/4a/wD%2BCcH/AEdF8Ef/AAttH/8Ajtcrx2BTs6sP/A4//JHvQ4V4pqQU4ZfiGmk01QrtNPVNNUGmmmmmm00002mmWP8AhB/%2BChf/AEdB8Gf/AAw%2Brf8AzUUf8IP/AMFC/wDo6D4M/wDhh9W/%2Bain6B%2B1B/wT98V67ZeFvC37RHwc1LU9Su47XTtO0/xbpU091PIwSOKONJSzuzEKqqCSSABk1e/ar%2BJfwq/ZQ/Zv8a/tJeKfhcuraf4K8PXGq3Wm6RogmuLlYlzsRY42IycZcjai5dyqqzDWlXoV03TmpW7NP8mzz8dleZ5XOMMbh6lJyV0qkJ021tdKcINq%2Bl0mr6XvoZ3/AAg//BQv/o6D4M/%2BGH1b/wCaij/hB/8AgoX/ANHQfBn/AMMPq3/zUVQ0n9rP9j/XPG8vw10vw1r8viG28OLr2oaL/wAKa11brT7B47t4pbqNtPDWrS/YblYo5gkkzxiONXd0VnaZ%2B05%2BzB4mk8O/8Irplgh1nx1N4VvbDxL4S1HR9Rsb6PRrrVzC1lc2AmSU2tusyrcLbxvDJ5iysxijm1OEu/8ACD/8FC/%2BjoPgz/4YfVv/AJqKP%2BEH/wCChf8A0dB8Gf8Aww%2Brf/NRVD4Kftf/ALC/7QWjTeI/ht4m0v8As6Lw/p%2Bupf8AiLwjd6LBc6XfMy2t7BJqNtAtzbyOpQSxF1D4QkMQKu/tG/ERvhXr/g/4afCD4AeGvF3jPxte3iaVpetaqukWMFrZ2rXFzcz3SWd06AfuYlVYXLSXEediB3UAd/wg/wDwUL/6Og%2BDP/hh9W/%2Baij/AIQf/goX/wBHQfBn/wAMPq3/AM1Fc9r/AO1J8LYP2LfDX7X/AIT%2BClleDxePDtvo3h3VDBZ%2BRf6xf2mnwQXdyI5Ft44rm8RZpVWTaschRZDtVuKtf23F8RX1l8LPBP7M3gK8%2BJSeLvEGgeItGvvHK22hadPo9rb3dzs1Qaa8k7NBeWjpGbSNvmm8zyhA5oA9W/4Qf/goX/0dB8Gf/DD6t/8ANRR/wg//AAUL/wCjoPgz/wCGH1b/AOaivJPDv/BRL4G/FXxV8NfDPwV8C/DVj4/8D%2BH/ABWf%2BFg%2BOLbQJhZ6w0otbTT4VtLltTvwttcs8C%2BUi7Ysy/vlx6Bqvxe8X%2BD/ANonSfgl48/ZY8HQWXjCPWz4E1PRvFa3d5dnToll3X1o%2BnxLZRSoygSRz3IR5IkcKZBQBt/8IP8A8FC/%2BjoPgz/4YfVv/moo/wCEH/4KF/8AR0HwZ/8ADD6t/wDNRVL9n/4n6l8RPiz4z%2BA/xm/Z38I%2BGPFHg7RdF1e4/wCEX8QDW9PmtNTe/SFPPlsbN47lG06YyQmLASWB1dxJhfXvBg2aGYFJ2Q313FECc7US5kVV%2BgUAD2FAHl3/AAg//BQv/o6D4M/%2BGH1b/wCaij/hB/8AgoX/ANHQfBn/AMMPq3/zUV7NRQB4z/wg/wDwUL/6Og%2BDP/hh9W/%2Baij/AIQf/goX/wBHQfBn/wAMPq3/AM1FezUUAeM/8IP/AMFC/wDo6D4M/wDhh9W/%2Baij/hB/%2BChf/R0HwZ/8MPq3/wA1FezUUAeM/wDCD/8ABQv/AKOg%2BDP/AIYfVv8A5qKP%2BEH/AOChf/R0HwZ/8MPq3/zUV7NRQB4z/wAIP/wUL/6Og%2BDP/hh9W/8Amoo/4Qf/AIKF/wDR0HwZ/wDDD6t/81FezUUAeM/8IP8A8FC/%2BjoPgz/4YfVv/moo/wCEH/4KF/8AR0HwZ/8ADD6t/wDNRXs1FAHjP/CD/wDBQv8A6Og%2BDP8A4YfVv/moo/4Qf/goX/0dB8Gf/DD6t/8ANRXs1Y/ij4ifD/wPEZ/GvjnR9HQDJfVNTitwB65kYUpSjBXk7I0pUa2IqKFKLlJ9Em39yTf4HmP/AAg//BQv/o6D4M/%2BGH1b/wCaij/hB/8AgoX/ANHQfBn/AMMPq3/zUVL4i/4KEfsKeFZGg1v9sH4bRyJ9%2BGLxlZyuvsVjkYg/hXH6x/wV8/4Js6GSL39rTw6%2B3r9jgurj/wBFQtmuGeaZZS%2BOvBf9vx/%2BSPp8LwHxzjknh8qxM79sPXf/ALiR1f8Awg//AAUL/wCjoPgz/wCGH1b/AOaij/hB/wDgoX/0dB8Gf/DD6t/81FeaTf8ABcT/AIJdwymEftOeYy9fJ8Ga0w/MWeDTf%2BH4v/BMc/d/aHuiPUeB9a/%2BQ6x/t7JP%2Bgmn/wCBx/zPUXhR4oNX/sPF/wDhPV/%2BRPTf%2BEH/AOChf/R0HwZ/8MPq3/zUUf8ACD/8FC/%2BjoPgz/4YfVv/AJqK80i/4Lif8Ev3kEU37SzwMegn8F60ufx%2Bx4q7/wAPqf8AgmJsD/8ADVNhgj/oXdUz%2BX2WhZ5kr2xNP/wOP%2BZMvCvxOg/eyTF/%2BE1b/wCQZ33/AAg//BQv/o6D4M/%2BGH1b/wCaij/hB/8AgoX/ANHQfBn/AMMPq3/zUV5rd/8ABbP/AIJ1Sy/Y/B/xd1fxNd4yLLw94I1WeQ%2Bn3rdV/Wo/%2BHsuk678vw1/YM/aP8SBv9XdWnwxaG2b6yyzDH/fNH9u5P8AZrxl/hvL/wBJjIpeFXiMlerldWku9VQo/wDp%2BrRPTv8AhB/%2BChf/AEdB8Gf/AAw%2Brf8AzUVb/ZW%2BI3xp8Yax8UPAnx01/wAL6tqngH4hRaHZ6r4T8NXOk291ay6Do%2Bpqz29xe3jLIsmoyoWEu0rGh2qc58lP7b3/AAUB8Zny/hR/wSk8SIjdLzxt8QdO0kR%2B5hYM7fQHNdF/wTr1n4yeIdb%2BPOs/tAeDNK8PeLp/jNAdW0bRNRN3bWwHhHw2IgspA3kwiNmPQMzAcCt8NmFDF1HGmpbXu4Sivvkld%2Bh5Gd8IZtw9hY18bOjdvl5IYihVqLRu7hSqVHFaattatLqfSdFFFdx8uFFFFABRRRQAUUUUAFFFFABRRRQAUUUUAFFFFABRRRQAUUUUAYXxM8Hap8QfAep%2BC9G%2BIOs%2BFbjUbfyU8QeH4bOS8swSCzRLe29xbkkAqfMhcYY4AOCPJfCX7DU/gz9ktP2PNJ/a3%2BK66Da%2BCE8K6Vr8M%2BiW2sabYxokUTwXFtpcarMkCCFZShO0lzmXEo93ooA4T9nL4Gx/s5fC2x%2BEen/EfWvEmmaSqQaK2tabpNodOs0ijiis4Y9KsrOBYUCZXMZfLtlyAqr43%2B0BrH9mf8FZP2arLdj%2B0Phd8TLfHriXwvL/AO0q%2Bn6%2BNv2w9XOl/wDBY39jKAthb7wx8ULdz/24aM4H5oK5sZP2dHm84/jKK/U9zh3D/W8z9l/07rP/AMBoVpf%2B2n2TRRRXSeGFFFFABRRRQAUUUUAFFFFABRRRQAVxPiv4RfCf40Qav4W%2BMXww8O%2BLNMt/EEV1Bp3ibRYL%2BCOdbKFFlWOdGUOFd1DAZAdhnBNdtXk/x3/at%2BAX7H3hrUfiX%2B0X49/4R3RL7xXDplre/wBl3V3vun09JVj2WsUjjKQyncVC/LjOSAccRPD06EpV2lBLXmta3nfS3qNY%2BWVP63Gs6Tp686k4OPS6kpRcd91Jb76if8MD/sK/9GWfCX/w3Omf/GKP%2BGB/2Ff%2BjLPhL/4bnTP/AIxXkn/D83/gll/0dF/5ZOuf/IVH/D83/gll/wBHRf8Alk65/wDIVeL9e4V/5%2BUP/Kf%2BRp/xFLE/9D2f/hZV/wDmg%2Bkvhp8IvhP8F9Cl8LfB34YeHfCemXF211Pp3hrRYLCCSdlVGlaOBFUuVRFLEZIRRnAFeK/tK/sL%2BK/jx4u%2BJWp%2BH/jPpuhaP8VfhfYeEPEunXvhCS%2BuIWspdTktru2nW9hVBnU5BJE8Um8RJteMlifSf2aP2rfgF%2B2D4Eu/iX%2Bzp49/4SLRLHV5NMur3%2By7q02XSRRStHsuoo3OEmiO4KV%2BbGcggY/xK/bL%2BGHwr8WeJfAviXQdefWPDkvhiOPT7W1gaTVv7fv307T2tN0yhwbuKaJy5j2eS7H5AGPtYeeHqUIyoNODWnLa1vK2lvQzePlmr%2BtyrOq6mvO5Obl0u5OUnLbdye2%2Bh5V%2B19/wTHl/as%2BPVv8AGW5%2BKXh2zihl8MTW8ev/AA7TWNS0eTR9WOoEaTevdxjTUu8iK42wu7hQQ4wFGx4d/wCCdi6Druq62fi%2BJv7T0H4mab5f/CPbfK/4S7xFDrO/P2g5%2ByeV5G3jz92/MWNh5r49f8FY/h34O8N/HvwN8NNKt4/iX8I/hL4t8X6Tpmt61pOoWmoHRYfnM0Ol6lNdWyedLa5hultJnSY7BlJPL7zVv28NB8P/ABH8SfCnTfh14r8a%2BJdP%2BIFz4f0vwz4T0azgujDbaJpmqXVyZbzUEhlhiXUYQZWaB2eeOFIHZRJLsI9U%2BDPw%2B8R/CzwJpHw71PxTZapYaD4f07TNNkg0l7aY/Z7ZYZJJWM8ivvZAyqqpsB2kyferxz4O/sK%2BOfg/41s/EFl8dNM1DTPBWheItN%2BEWjXXgx1GhDVruK5ZtQkW%2BB1MW4git4ljFmfI8wOzyMJl7L9iD9pHVP2nv2Zfh58XfFmjmz1zxb4B03xFqMVjol5b2EZukJ2RSTBlDAq2YTI0qAqXADKT534J/bG%2BNmvfHnQZdW03wsPht4x%2BMXiT4baDp9vptyutWd/o9pqkr6jPdNcmGWGWfRL%2BIW626Miy27mV/nUAG54o/Yb8QeI/jpf%2BN1%2BMltB4H8QfELRPHninwZ/wjBa7vPEGlWlnb2skN/8Aagtvak6bpszwG3kdpLUkTKJXFX/hL%2Bzh%2B0v8N/jZ8W/i5qn7QXgXUofiNsuNG0y3%2BF17bto15b2sVpZSTSnWpBeRJDEPNiVLdpXJZJIB8lcp%2B01%2B2N8bfhX8U/GL/DzTPCzeDfhNovhvU/HdtrOm3M2o6xHql9cRTR2M0dzHHaNbWtv54aSK4E8koixCFMh4vw1/wUO/aF139pnxH8I4/Cugy2lrf%2BNbHSdH/wCEM1SFo20UP9kmh1p7g2OtzXO1Gl0%2BzjW4tPNkWUhrWXIB1Nr%2BwZ%2B0of2APHn7EeqftR%2BB5bzxtH4hsx4tt/hJeRxWVhrUt3LeR/YzrjGSZXvZvKl89VRVQPFIQS1n46/sEfGr49aNcw%2BI/wBpLwxa6h4o%2BFd34A%2BIMsPwylltLrTJ5pHafS4JtUc6ZdbJWVnlkvI3McLNEfKVa4vwx/wUD%2BNkH7KMnxI8b%2BPfBcHjeHWvDVl4vg1v4R674Yt/h1BqbRrLe6rYalfm6uLWMmbZcLJbQP5ZPmKiSOsupf8ABQX4weIP2KdW/ae%2BHPjfwlcXHgrxJ4h0XXLvSvhFrviKw8SyWEsotrqzSwv1k02zuIo1la6na4ghE4zKyKJZAD1DxH%2Bwlpfjb9rDQf2ivF934Hey8KXtve6Imm/DlYPEl1NDYtawxajrj3cj3ltG8klwkKQQnzEg3O4iYSJ8BP2Gm%2BD/AMZvE/7Q2oap8Po/FmsaHc6XpMvgT4XLoFnbpcXCXNxdXkQvJ5NQu5pYbQyTNLGCtqgRIyzs3Exf8FDde8SftPWXwe/4S/wr4K0vSE8LweJ49W8H6nr327UtZhjnjsotWsp4bDTFZZoILee580Xc8rJHH%2B7AkwL7/gpp8VPhj4O1D9o74u%2BGfDV58OtW8GePfEPhHR9Dsp7bVrKPw47vFFd3M1xJDcG8tYpZSyQwC2kCxnzwxlUA9Mtf2EfE3gj4J/BvwD8H/jXZ2Hib4P3bXsHiDxP4UbU7LX76ewurW/u7yyivLZ/Onkvbi5Dx3CmOWRuXRmVsnVv%2BCfHxDuv2cNA/Y%2B0r4%2BaDB8PYNHtbTxWLn4eNLrN9Kl895NLYXa6gkGmqWYLChtZzbBQUYkKVtfBH4/fH344fCrXrnw9%2B0d8K4PFWiX1rPrVxqnwe1/TbXQbCS3aY%2BZZahqcFxeI%2B3MN%2BJLeCWNXdUOwrXn6/t%2B/tV%2BPPhF4f8T/C7wr4Gstbg%2BEeu/EHxDLr2k30llrtjY3n2ewj09VuYpLNNRiV7pLiY3H2aN4QYbgsWUA9Ksf2AZNL/aHj%2BJul/EvTLXwhH8VJ/iMPDNv4S26m3iCbSZNNlLan9pwbVlleUxfZvNLNs8/yv3VP/Z//AGEdQ%2BCPi/xt8X7fxL8PrDxv4n8PHStLv/AHwpTQNL08l5ZmvJrIXs73t1LO8TzSPOodbWFFWLDs%2Bf4s/a7%2BLOh/tF/CbRNBvdJ1HwZ8WZrRrDRrj4b6raXGnWk2mXFyZ38QtdtpslyJbckaeIVuHjkyoIUyNyvjz9rL9tP4PeNfjLpGq6l8O/Hmm/DD4a6dq7z%2BHvh9qelPaavqF1MIop86rem4htrK3e8uEjSOQxzQbGG40Adr4s/4JifAjxn%2By74O/Zx1fW/E0N14D8B3Xhzw54r0bxdq2lXKvc2kcFzd3C6feQfazM8ayyRzM6uxcH77E8t4l/4JV2dxoUHg/wAE/GWOw0vWfht4c8EfEG41zw/Pq%2Bqarp%2BjXVxc20tlfXF95lhcFry5BklF2FAgKKjQhmqfDz/gpFr3jP4ceO/DHgvxb4F%2BIvj/AEbxvB4W8Ca94NsZ7fw/4lnudJg1Jb0Rm7uWW2tInu2ufLuZcpp0mxxJIsK1fE//AAUf%2BMA/Z0%2BAfjnwH4Q8M3vi3x9pvw71z4nJPbXH9n6DpPiHU9N05/IRZvMW4mnvpharI7KEsrl3Mnk7JAD0nwR%2Bw3r/AIQ%2BNuneMZ/jJb3fgjwx4%2B8ReOPBng0eGDHdWGv61HfLeTT3/wBqK3NuG1XVXjhW3iZTe/NK4jWmfBH9lL9qH4Y/C74t%2BDPEn7UnhK71v4iajqmreHfEfhr4X3WmHw5ql9E6vO0M2sXX2uON/IeOMPCw8tw0jbwU4vwv%2B3n8adX/AG%2BI/wBm/UtG0KHw7cfEHU/DQs28I6jE8Vva6HJqMd9Hr7XB069uZJERG0iKIXcUUryv8ltKT9e0AcR4Y%2BFvhH4Hfs42HwW8AWRttC8I%2BC49G0eAnJjtba0EMQJ7nYgye5rkPHH/ACkL%2BF//AGRnx5/6dvCFepeOf%2BRJ1j/sFXH/AKLavLfHH/KQv4X/APZGfHn/AKdvCFAHs1FFFABRRRQAUUUUAFeC/sf/APJvWr/9l78c/wDqwNVr3qvBf2P/APk3rV/%2By9%2BOf/VgarQB1mv/ALE37GXivXb3xT4p/ZH%2BGOpanqV3JdajqOoeAdOmnup5GLySySPCWd2YlmZiSSSScmqn/DA/7Cv/AEZZ8Jf/AA3Omf8AxivO/H//AAWU/wCCbnwv8d638NPHX7R32HW/Dur3OmaxZf8ACIaxL9nureVopY98doyPtdGG5WKnGQSOayP%2BH5v/AASy/wCjov8Ayydc/wDkKvBnjeGFNqU6N7u9/Z3v1vpve9zT/iJuJofulnk48ulvrdVWtpa31hWta1rK1rWVrL2bQP2Jv2MvCmu2Xinwt%2ByP8MdN1PTbuO607UdP8A6dDPazxsHjljkSEMjqwDKykEEAg5Fa37TXwTsv2k/2dPHf7Peoa/LpMPjfwjqGhvqsEAlez%2B1W7wiYISA5QuG2kgNtxkZzXjXgH/gsp/wTc%2BKHjvRfhp4F/aO%2B3a34i1e20zR7L/hENYi%2B0XVxKsUUe%2BS0VE3O6jczBRnJIHNe4/HX4w%2BHP2ffg94j%2BN/jLTNRutG8K6VLqesppUKSTxWcQ3TzBXdAyxxh5WGc7Y22hmwp9DA1strQk8HKDSevJy2v58qWtu5MuJKnEn72eNeJ5NLurKry31teVSpa%2B9k1fe3U8j8RfsTfELx/oPxdl8e/H21i8SfFv4d6b4Zvta8J%2BFZtNh02SzGohbmKKS%2BnkZHF%2BA0RmBxE2JB5g2cN8Ef%2BCU0Xwi8RQ%2BJofiT4QsNvxcHjl9B8BfC%2BPQNIgYeEbzw4bO2tUvJTCG%2B1C7aVnkZnRlI%2BcOnovxn/AOCiHwd%2BC2l%2BLtc1Tw3qeoWPgrxbZ%2BG9Y1EeINB0q0e/uNNi1EJDcavqVnDJsgngDAPv3zBUV9khTkbX/go7pPinx9Hf%2BCbi0uPAWueDPhJrvhHVYtCknvLr/hMPEGraaVmR7uFY4xFZ2ZVgC8DSTOyXOFgruJOr%2BBv7FHiH4BR%2BBLvwj8XLK5v/AAN8DdK%2BHVvLqHhd2hu/sckDG%2BaNLtWXesLAQhzsLg%2BY23a3WftG/ALxx8VPEHg/4mfB/wCJ%2BneEfGfgm9vH0rVNa8NPq9jPa3lq1vc209ql1au4P7mVWWZCslvHnehdG8w8G/8ABRo/Ez9orwf4I8IfB/xNZeAfEfgrxZr9p4s1TQlnbxDDpNxp0Mc%2Blx2VzNOY3%2B1St5U9uk8waBoUIJz6T%2B1J8aPiB8PdG8C%2BFvg4mkQ%2BKPiT43t/Duhah4n0ue4stNzZXmoT3M9rHNbyzbbWwuAsQliJkZAWUZoAp%2BHf2WNY8Bfsu2v7K3gzxT4X1DQ9M8D2GhWP/Cd%2BCW1iO8nj3C7udQgW8gju47hNuYEEOxzI291dUTzuz/4JrxeG/wBnl/gv4RvfhI95q3jKbxJ4jn8TfA%2BHUdGS7eBLeI6ZpIv4o9ONvBDbRQF5LjakHziVnZz0OlftdfFN/wBgnxr%2B0e/w7stY8ceBf%2BEr0y%2B0TR4bgWeoanoepX2myzQxgyTrbyyWRnEQMkqxvsy7jJ5P4I/tmfEf49eD/iZo/gr9pr4QXV/8MNQsrvUPilpfga9vvDOo6PPp5umaO2TWVZJYZEnjeRb2aMeQcqHZo4gCPxT/AMEovDEWhW3gD4R/Ey10DwzqHwy8NeAvGUWreFhqWp6hpOh3M89nJZ3guYRZXbG6uPMneK4BbynSNHiDN2/gH9lf9orwn%2B0944/aM8RftDeDNfbxRDPY6BBf/DG7W%2B8N6Uqk2em29yNY8kwJPtuLgi2SS7kzuaMLCIfMfGf7Tv8AwUC0z/gnl4I/ap0/xD8LdK8d%2BKNF0wQeDdX%2BGWpzx6lq%2Bs3sNvpFmuzXI3sv%2BPu1S4DG5KMJnBCrtr7Mt1uFt41u5UeUIBK8cZVWbHJCkkgZ7ZOPU0AeJfsR/sx/GD9mPwvrejfF/wCNPhrx7qmv6l/aur%2BKdM8CXGj6lq2pOCs93fSS6neJMSiwRRRxJBHbxQJFGvlqiJ654P8A%2BQTN/wBhW%2B/9K5a1Ky/B/wDyCZv%2Bwrff%2BlctAGpRRRQAUUVyvxP%2BOfwV%2BCdguqfGL4ueGvCtvICYpfEOuQWYkx/d8113H2GTUTqQpRcptJLq2kvvbSN8LhcVja8aGGpyqTltGMZSk/SMVJv5JnVUV8seKP8Agsr%2Bwnp%2BpP4b%2BHHjfXviLrY/1eh/DzwpeajPKewR/LWJs%2B0lZjftc/8ABST42j7P%2Bzj/AME918H2U3%2Bo8TfGrxEtmI89PM062zcj14Y%2Blea87y1vlpT9o%2B0E5/8ApKaXzkj7in4YcaRgquOw6wdN682KqU8Mrd0q0o1JL/DRlfpd6H11XNfEj4z/AAg%2BDmm/2x8W/in4d8MWpUstx4g1qCzVh7GVlz%2BFfNS/sJ/ts/Gw/a/2sP8Ago14nsrWX/WeGPg3YR6DbxDvH9sIaeZD0%2BdQccZrp/hv/wAEjP2Afh1qX/CQ3XwGtfFesOwa51jx3ezazNcN/edbp3iz9EFL61mtf%2BDh1Bd6krf%2BSwUn98kX/YPAGV/8jDN5V5LeGEoOS9Pb4mVGHzjSkvVGT4l/4LH/ALFkOrSeGPhFqniz4pa1FwdH%2BGfg%2B71KUnsFcqkTZ9nNUB%2B2F/wUg%2BK//JCf%2BCbE3h%2Bxk/1Ot/Fbxnb2DL6b7GIGcfgx9K%2BqfDXhTwv4M0mPQPB/huw0mwhGIrLTLNIIU%2BiIAo/AVfo%2Bp5nW/jYnl8qcVH/yaXPL8EL/AFj4Hy7TLslVV/zYuvUq/P2VBYel8nKS6a7nySPhD/wWS%2BJA87xf%2B178KfhuJP8Alh4E8BSauYh/vakwy36Zpf8Ah3D%2B0Z4rG74s/wDBVH40Xjt/rT4Pe00BT/uiFH219a0Uf2NhJfxJTn/iqTf4KUV%2BAv8AiJfEVHTBUcLh109lg8NFr/t6dKvP75M%2BSv8Ahzd%2BzdrP/JTPjH8ZfGuf9Z/wlPxPu5fM%2BvleXWz4X/4I2f8ABNLwlKLix/ZZ0u7lzlpNY1a/vt59SLidwfyr6coqo5Jk8Xf6vBvzV398uZmdXxR8R61N0/7XxEYvpCo6cf8AwGkqUfwPLPDn7DP7FvhKNY/Dn7JXw2tCnSSPwTY%2BYfq5i3H8TXY6P8IPhL4eAXQPhd4dsQv3RZ6JBFj/AL5QV0VFdsMLhaXwU4r0jFfkkfMYrPc9xzbxOLq1L/zVasv/AEqpIZBbwW0QhtoUjReiIoAH4Cn0UVueW227sbNDDcIY54VdT1V1BH61S/4RbwxvMn/COWG49W%2Bxpn%2BVX6KTSe6KjUqQXuya9G1%2BTI7WztLKPybK1jhTOdsSBRn6CpKKKexLbbuwrxn9l/8A5Lf%2B0d/2Wax/9QrwvXs1eM/sv/8AJb/2jv8Ass1j/wCoV4XoEezUUUUAFFFFABRRRQAUUUUAFFFFABRRRQAUUUUAFFFFABRRRQAUUUUAFFc58XfEfxA8I/DfVvEvws8E6b4j1%2BztxJp%2BjavrzaZbXJ3Lu8y6S3uGiVU3NkQyE7cBea82j/bMsU/YL8O/tt3nw9n8zxN4G0TW9O8I22oq7vfarFbfZNPFwyKp3XF1FD5xRQM7yoHy0Ae2V8J/8FGdT/sT/grP%2BxBqe7Gbnxxa5/67RaLFj/x6vqD9m747%2BKPjC/jHwj8Sfh9Y%2BF/F/gHxOui%2BJNJ0nX31SyLy2FpqEE9tdSW1s80T297DkvBGyyLKm0hAzfH3/BXbUjov/BSP9hzVAcD/AITrV7Yn0E1/4ei/9mrzc3lyZfOXZx/9Lpn2vh3Q%2BtcYYej/ADxrr78Li/8AI/Q2iiivSPigooooAKKKKACiiigAooooAKKKKACsrw//AMhbXP8AsKJ/6SW9atZ974Y0i/u3v5BcxSyACR7W/mg34GAWEbqGIHGTzigDQorL/wCEP0n/AJ%2B9V/8AB5d//HaP%2BEP0n/n71X/weXf/AMdoA1K8p%2BKv7Hnwq%2BMH7Rvw9/ac8UX%2Bsxa58ORef2fp9jdxpYaoZoysRvomjZp/szNJLBtdPLkkZvm4x6F/wh%2Bk/wDP3qv/AIPLv/47R/wh%2Bk/8/eq/%2BDy7/wDjtAHzVqH/AASS%2BCGsaX4h8M6x8aPiTc6Hrfw98Z%2BDNO0J9S01bbQdL8TzRTal9k2WIkeYSQoY5rl7hl5DmQYA7XxV%2BwT4B1nx9qvxZ8JfFjxv4S8Wap4zufER8ReHbuwM9s1zpNhpVzZRpdWc0RtZYNNtHZXjeRZYw6SIQoX2D/hD9J/5%2B9V/8Hl3/wDHaP8AhD9J/wCfvVf/AAeXf/x2gDk/2cv2ePD/AOzF8K/C3wV8B%2BNfEF94b8IeE7LQdIsdbmtpm8u2DKtzJKkCSSTupVXJbyyI1KorFmbl9A/Ye%2BHXh345r8arPx74rkt7TxJqPiTRPBU11aHRtI12/tZLW81S3UWwufPliuLsFJJ3hVry4ZYlaQmvVP8AhD9J/wCfvVf/AAeXf/x2j/hD9J/5%2B9V/8Hl3/wDHaAPIfiR%2Bwf4E%2BKvjSz8a%2BLfiz41Z5tK0TT/G%2Bn20%2BnxWvjWPSbt7uyOpItnlSs8szP8AYzarKsrRSBogsaw%2BHP2AfAfhX4gjxxpHxi8draafr/iDX/Cfhh7vT20/w1rOtfazfahaf6H57ylr%2B%2BKJczTwx/apAkYXaq%2Byf8IfpP8Az96r/wCDy7/%2BO0f8IfpP/P3qv/g8u/8A47QB5b4Y/Y9vfC6%2BLvEtv%2B1H8SLnxz4ytNKsr/4k3cWhHVLWx06aea1s4IF0tdPSJWu73O60Z2%2B2Sktu2FK13%2BxJbWvwqtfhH4D/AGlviT4VspJdWn8U6josujyXvii51KYz3dzey3enT%2BXK0jylWtBbeWJSsYRUjWP1v/hD9J/5%2B9V/8Hl3/wDHaP8AhD9J/wCfvVf/AAeXf/x2gDxfV/8AgnX8E7vX9Mm8O%2BKPFGgeG7OPw4uqeBdHu7UaXrbaDJHJpT3TTW8l0DCYLdT5NxEJkgjSYSKMGHT/APgm18BxqPiG28WeIPE/iPwzreh%2BJNIsPAut3lsdK0Kz1%2BbztXisxDbxz4nbIBnmmMMbNHB5UbFD7d/wh%2Bk/8/eq/wDg8u//AI7R/wAIfpP/AD96r/4PLv8A%2BO0AfPnjr/gmX4S%2BJfgDxJ4O8b/tRfFXUNR8YXOjL4m8V3FxojX2paZpbTPaaPNEdL%2BxyWHmXE7yxtbl5/OkWZ5EdkO98V/2CfD3xn8P6Tp3jX9oX4ijVLTwvqfhnXfE2my6RZ3viPQ7%2BSN7nTrwQ6csCRnyYlSW1it7iIKxjlRpJGf2X/hD9J/5%2B9V/8Hl3/wDHaP8AhD9J/wCfvVf/AAeXf/x2gDzfxD%2ByNpHi34l6H4x8T/Gbxld%2BG/DOs2mreHfhqBpcOh2F5aweVbyKYbFL11jOZVikunjEmDswqqu14V/Z10PwLp/xDbwZ488Q6drXxJ8R3Guax4oR7SW%2Bs7yS0t7OFrcS27w7be3tbaKJJYpVCwjeJMtnrv8AhD9J/wCfvVf/AAeXf/x2j/hD9J/5%2B9V/8Hl3/wDHaAPI7f8A4J6fsx6/4Q1Tw38e/AenfFy/1zXpNa1jxH8UvD2maneXOoNaQ2a3CoLSO2tylrbwQosEMShIh8pZnZuP1X/gjl/wTy174DeCfgFrv7NnhG9tfAdhoFlpHiO78HaTJq81tpV9DerDNcNaENHdSxy/akVVWYXl1wplLD6M/wCEP0n/AJ%2B9V/8AB5d//HaP%2BEP0n/n71X/weXf/AMdoA8j8P/sHfDjw78ZLX4p2nxG8YSaVp3jW%2B8YaR8P5rqy/sWw128tp7e4vo9tqLtiy3V04he5eBZLhnWIMEK%2B4Vl/8IfpP/P3qv/g8u/8A47R/wh%2Bk/wDP3qv/AIPLv/47QAnjn/kSdY/7Bdx/6LavLvHH/KQv4X/9kZ8ef%2BnbwhXqJ8GaG%2BFna%2BmTIJiuNWuZEb2ZWkKsPYgivLvHH/KQv4X/APZGfHn/AKdvCFAHs1FFFABXn/7S/wAcbn4A/DWLxZovhFfEGtar4h0vQfDehyaj9jjvdR1C9itIFln8uQwQq0vmSyCORlijcqkjBUb0CvPv2l/gddfH74axeE9F8Xr4f1rSvEOl694b1yTTvtkdnqOn3sV3A0tv5kZnhZovKljEkbNFI4V42KuoB59c/t0XWhfsveKfjd4t%2BFMdp4n8HeMT4R1vwlb%2BIhJaR6w%2BpQWEGNQeBMWUhurW4Ny0CtHBKWeIMjR1w3xC/wCCpJ%2BGXgy9PjXwN4D0PxNoHxVk8CeMbrxH8VDY%2BEdCvV0WPWY5Z9cbTiypLbT20SB7RGN1MYCFKbj6T8P/ANlb4jeCPhH4x8A6p8TPB/iHVPHV1qWq%2BIr7Xvh3JPp93qt7MxkMlidRw9gtsIbZbQy%2BZsh3PcuzE1wHgv8A4Joa18JdE0XxB8GPin4P8OeNdN8f3viq8ktvhfs8LTTXOjpo/wBng0W3v4WtY4rKG3WJluy4ZJWdpPPkBAPoD9nn4tSfHr4EeD/jZL4OvvDzeLPDdnqx0TUjmey8%2BFZPKY4GcbuDhSRglVzgea/sf/8AJvWr/wDZevHP/qwNVrr/AINfstfDv4Y/staB%2Byh4ssLPxl4e0nQI9L1CDxDpMMttqSj5n32rBoliL5Kw4KooVRkKK5H/AIJ7%2BCfB/h39mPUfAHhvwvYaZoen/Fr4hWmnaRptqlvbWkEfjTWljiijjAWJECqFCgBdoxjFAHvVFZX/AAh%2Bk/8AP3qn/g8u/wD47S/8IfpP/P3qv/g8u/8A47QBqVU17QtH8UaHe%2BGfEWmxXmn6jaSWt9Z3Cbo54ZFKPGw7qykgj0NVv%2BEP0n/n71X/AMHl3/8AHaP%2BEP0n/n71X/weXf8A8doA%2BfvBP/BMH4UfDT4R%2BA/hh8PPjV8R9K1D4fa3qeqaX45XU9PudbvJb9JoroXUlzZSQSbopvKV1hSWNIYhG6bSTY8Df8ExPgH8P/DXh7wroni3xhJbeGvDXw80Owa71K2eR7bwbqt3qmltI32cbpJZ7yVbhuA6KgjELAu3vP8Awh%2Bk/wDP3qv/AIPLv/47R/wh%2Bk/8/eq/%2BDy7/wDjtAHiHw2/4J3eBfhT8RNL%2BIHhL46/ERV8L%2BG9d0LwHoVxeabJYeFrPVZraaZLRDY75TE9pB5JunuNipsO5Plr0j45/APRPjv4N0vw5q/jTXdE1TQNatdY8PeLNAe1XUdM1CAMq3MQnglt2LRyTROkkLxvHNIpTB46f/hD9J/5%2B9V/8Hl3/wDHaP8AhD9J/wCfvVf/AAeXf/x2gDi/ht%2BzbYfCL4YQ/Cv4e/FXxVYWqadq63Gok2E15dapqV015ca1I8toym9%2B0y3EwAUWxe5k3QOBGE5m5/YV8Aa78FfiD8HfHfxP8ZeI5viq23x/4u1S5sY9U1a38iK2Nofs1pFbQW5tYvs/lwwRjZLKwxLI8p9a/wCEP0n/AJ%2B9V/8AB5d//HaP%2BEP0n/n71X/weXf/AMdoAwPib8C/B/xX8ReBde8T3l%2BkXgDxR/b%2Bk6XaSRpa3V4tlc2kX2hShLpELp5UVWTEscTnOwCuzrL/AOEP0n/n71X/AMHl3/8AHaP%2BEP0n/n71X/weXf8A8doA1KyvB/8AyCZv%2Bwpff%2BlcteM/tJ/tn/sdfsqTLovxW%2BL922vzELZ%2BEtE1m8v9WuXb7iLawyM67ugZ9qk/xV5lZfGj/gpd%2B1DZpo/7NH7PNh8DPB8oxF4z%2BKw%2B0a00ZOTJBpaZEUvOcXBZWyTuzXm181wlGo6UG6lRfZguZr1tpH/t6UfQ%2B1yvgHiHMMFHH4iMcLhZbVsRJUacl15OZOpW9KNKr25kfUnxT%2BMfwn%2BB/hh/Gnxi%2BJGieGNKQ7ft2ualHbRs2M7FLkb2PZVyT2FfNV//AMFW7H4s3kvh39gv9mPxz8ZbxZDEuvW9idH8PxODgh7%2B7VQCD22YYA4bvW18KP8AglP8BNE8VR/Fj9pTXtZ%2BNvjrGW8RfEef7Xb25zkrbWJzBBGDgqpDlMfKwr6asbGx0uzi07TbOK3t4IwkEEEYRI1AwFVRwAB2FZcucYvWUlRj2Vpz%2B9%2B4n6KVu56DreHHD/u0qVTM6y%2B1Nyw2Gv5U4XxNRec6lBP%2BVJnyMv7Nf/BTP9pdvtf7Sn7XVj8KdCm5Pg/4K2hF7sPQSapcZkjkA4PlhkJORjArrvhb/wAEmf2FPhpqTeJdU%2BDMXjbXpiGu/EPxGu31u6uHH8bC5LRBvdY1r6Qoq6eTYBSU6sfaS7zbm/lf3V8oo5cV4k8W1KEsNgqywdB6ezwsY4eLXaTp2qz9alebe5n%2BGvCXhXwXpi6J4O8M6fpNkn3LTTLKOCJfoiAAflWhRRXppKKslZHw9SpUqzc6km5Pdttt%2BrbbfzbCiigkKCzEADqTTICisHXfin8MfC6s/ib4jaDpwX7xv9YhhA%2Bu9hXE61%2B3R%2BxP4ckMGu/tffDG1kHWKbx5p4f/AL587P6VhUxOGpfHUivWUV%2BbRz1cZg6P8SrGPrKK/OSPVKK%2BfvFX/BVb/gnT4Nsmv9X/AGvvBkyJ1XStRN%2B/4JbLIx/AVxS/8Fmv2W9e/ffCn4afFzx3bH/VXvhH4ZXs0Un%2B6ZhGf0rknnOU03Z14X7KSb%2B6PM/wOCpxBkdKXLLEwv2UlJ/dHmf4H1tRXyV/w9Q8Satx4Q/4JoftNXefuSah8OUso29wzznj3o/4eGftY3X73S/%2BCUXxVeE/da71axgf8ULEio/tvLXtJv0hUf8A7jM/9Ysofwzk/SnVf/uI%2BtaK%2BSj%2B3l%2B3Pqf7jwv/AMEk/G80/ZdV8eaZYx/99uGFH/DUn/BWKb/So/8AglhosMbdLWb436a0q/Vlj2n8KP7Zwb%2BGM36Uqn/yKD/WDAP4Y1H6Uar/APbEfWtFfJJ/aM/4K6%2BI/wDQtF/4JxeDvDco4%2B3eIfi9a3kJ99lqgej/AIS7/gt1o3/E11L4Rfs7a1bvyulaRr2r291GP7rSzjyyfccUf2vSfw0qrX/XuX62f4MP7doP4aFZrv7Gf6uL%2B5M%2BtqK%2BSh%2B17/wVB0D9z4p/4JOC/VPvXugfGfS3V/dYnj3j8TR/w3Z%2B3lff6Pof/BJDxjJcDhlv/iJpdrHn2kYEEe9H9s4Pqpr/ALhVP/kA/wBYMvW8aifZ0at//SH%2BZ9a0V8lf8Nq/8FItJP2jxX/wSG1eO3PIbR/jFpF9IB7xogOfxpD%2B3d%2B3f4j/ANE%2BHX/BJbxlLcD5XbxP4903SokbuQ0gbeB7daP7ZwXad%2B3s6l//AEgP9YMu7VL9vY1r/d7M%2Btq8Z/Zf/wCS3/tHf9lmsf8A1CvC9eXN4k/4LT/E8%2BXpHw1%2BCPwutH/1j65rF7rV9GPVPswEDH/e4ro/%2BCdPhv4veEta%2BPOgfHn4kWfi7xZD8ZoG1bxBp%2BjpYQ3Jfwj4beNUgQkII4mjiz1by9x5Y10YbG/WqjUaU4rvKPKvRXd/wR1YTMfrlRxjRqRja/NOPKn5JOXN/wCSpH0pRRRXaeiFFFFABRRRQAUUUUAFFFFABRRRQAUUUUAFFFFABRRRQAUUUUAYHxR0Tx54l%2BH2q6B8MvFOkaJrt5amKw1XXtCl1O0tySAzSW0VzavKNm4ACaPBIOSAVPh3gn9h/wCKFp%2Bw7o/7FPxN%2BPehapb%2BHPBWmaLoPifw74Dm024trvTGt202/aKfUbpHaJrWB3jyFkdSQY1OwfSFFAHmX7N3wH8U/B5/GPi74lfEGx8UeL/H3idda8SatpOgPpdirxWFpp8EFtayXNy8MSW9lDkPPIzSNK%2BQHCr8I/8ABY/4R/Cj4b/trfs8/GjwT8MfD2ja7c69e6p4l1zStFgt7vVHh13wskb3M0aB5yvnPguSRvOOpr9O6/OX/gvV/oOo%2BB/FnT%2BwfAuuahu/u7fFXgdM/wDkSvJz3/kTV32i39zi/wBD9A8KdfEnKofz1ow/8GRq0/8A3Ifo1RRRXrH5%2BFFFFABRRRQAUUUUAFFFFABRRRQAUUUUAFFFFABRRRQAUUUUAFFFFABRRRQAUUUUAFFFFABRRRQAUUUUAFFFFABRRRQAV4z44/5SF/C//sjPjz/07eEK9mrxnxx/ykL%2BF/8A2Rnx5/6dvCFAHs1FFFABRRRQAUUUUAFeM/sH/wDJENc/7LN8R/8A1Ndbr2avGf2D/wDkiGuf9lm%2BI/8A6mut0AezUUUUAFFFFABRRRQAUUUUAFFNmmhtoXuLiVY441LO7tgKBySSegr5I%2BJn/BQzx78cvG19%2Bz9/wTP8D2njvxBaS/Z/EHxI1JmXwt4aJ6lp1/4/JgORHFkHqPM2so5MXjsPgop1Hq9FFK8pPtFLV/glu2kfQ8PcL5xxNWnHBwSp01zVKs5KFGlH%2BarUl7sF2Ws5v3YQnJ2Pcf2mP2tfgJ%2ByL4KHjj45%2BPINLinYx6ZpsSma%2B1ObjEVtbpl5WJIHA2rkFio5r53g0r9v3/gonMt74hv9a/Z1%2BEE53Q6bYShfGWvwnoZZORpiMOdoBccgiRSGqTwj8EP2Ov2GPE5/aT/bu/af0jxd8W7qISS%2BMfHmoRLNbdT5Wl6eCTbxrkhREjOAWwVU7RoTf8FY7P4rs2n/ALEH7JHxL%2BLsrkrba5Fo50bQmboN19eAbOfWMcZrwsRio158uOq%2BzXSlBtzf%2BNwvL/t2HKujmz18XxpwLwBP6vkso4rHLfEVIc6i/wDqFwrjUenSviYSm9HCjT0Z6/8As2fsJfsrfsmwm4%2BC/wAJbC01aUN9s8S3%2BbzVLpm5dnupi0nzHJKqVTJ4UV67XyBD8Av%2BCpP7Ssq6n8ff2p9I%2BDeiOd8fhH4R2AuL/H8In1G4yUcd/K3I3oO1l/8Agk7Hra%2BX4%2B/4KG/tMa3C/E9jJ8T/ACLaZe6tHHAOD04Irtw9evSpKGEwbjDpdwp/%2BS%2B8/v1PzzNOKuJ%2BIsbLG4qlVr1JbzrVYqT%2BU3OSS6L3bLaMdj6J%2BJvx7%2BBvwWtvtnxg%2BMfhfwtGV3KfEGvW9nuH%2ByJXUt9BnNeC%2BK/%2BCy/7BOkai3hzwF8R9X8f63/yx0LwB4XvNSnnPQBGEawsSf8AppW38Mf%2BCS//AAT2%2BFl1/aun/s1aLreoM2%2BfUvGDy6zLNJ/fb7Y8iBv91RXvXhfwd4Q8D6Yui%2BC/Cum6PZp9200uxjt4h9FjAH6VrbO627p015KU3%2BPJH8DzuXiOvvKlSXkp1H97dOP4NHyvF%2B1v/wAFLfjPILv9n7/gnnb%2BFNI%2B9Fq3xj8ULZXE4/umwtwZoT0OWJHapf7W/wCC4%2Bpf8efhL9mHTAf%2Bf%2B/1%2BYj/AL9V9a0U/wCzK0tamJqN%2BTjFfJRg7fex/wBj4ietXGVm/KUYL5KNN2%2B9%2Bp8lHwZ/wW114fZtU%2BM/7PWgo/D3Oh%2BHdVupIvdVuTtY/Wmj9hv9v3xp%2B9%2BLX/BV3xOqv1s/BHgHT9IWIf3RKpZm%2BpGa%2Bt6KP7Hw8v4lSpL1qT/RxD%2BwcLL%2BLVqz/wAVWdvui4HyT/w6S8Oa5%2B8%2BJX7dP7R3idm%2B/Df/ABQeO3%2BixxQrtHtmlH/BEf8A4J96id/jfwF4n8TP/FJr3j/VZCx9/LuEr61oo/sPJ38VCL/xXl/6VKQf6t5C/iw8Zf4ry/8ASpSPmjQv%2BCOv/BNLw6ytp/7JuhSFen26%2Bvbofj5075/Gu20T/gnt%2Bwh4ejEemfsbfDEbejz%2BB7GZx/wKSJm/WvYaK2p5XllL4KEF/wBuR/8AkTopZLk1H%2BHhqa9IQ/8AkWcV4X/Zt/Z18D3qaj4K%2BAfgrR7iP/Vz6X4WtLd1%2BjRxgiu16dKKK7IU6dJWhFJeSS/JI76dGlRjanFRXkkvySCiiirNAooooAKKKKACiiigAooooAK8Z/Zf/wCS3/tHf9lmsf8A1CvC9ezV4z%2By/wD8lv8A2jv%2ByzWP/qFeF6APZqKKKACiiigAooooAKKKKACiiigAooooAKKKKACiiigAooooAKKKKACiud%2BLnxS8G/A/4W%2BIvjH8Q797XQvC2i3OqatPFC0si28ETSPsRctI5CkKigszEAAkiuI%2BHf7YHgjxh4J8c%2BLfG3gTxR4DvPhtE0/jTw34ttrV7/T7f7Et8lwBYXF1DNG8DblMUrnckkZCyRugAPWa/Pn/AILr6P8A254TmstudnwG8XXGP%2BuXijwNL/7JX1b%2BzT%2B114X/AGldU1jw5ZfDPxV4S1bRtG0nWJdL8VLYM8%2Bm6mtw1ldxyWF3dQlZPstwPLaRZU8vLxqHQt89/wDBXXR/7cOo2Wzds/Zd%2BJdxj/rlqXhCXP8A45XnZvD2mU4iPeE//SZH2Xh1ifqniDk9f%2BXFYd/%2BVqX%2BZ9k%2BCNY/4SHwXpGv7t327S7e43eu%2BNW/rWpXBfsq6x/wkP7L/wAN9f37vt3gLR7jd677KFs/rXe12UJ%2B0oQn3Sf3pP8AU%2BbzTDfU80xGH/kqVI/%2BAznH/wBtCiiitThCiiigAooooAKKKKACiiigAooooAKKKKACiiigAooooAKKKKACiiigAooooAKKKKACiiigAooooAKKKKACiiigArxnxx/ykL%2BF/wD2Rnx5/wCnbwhXs1eM%2BOP%2BUhfwv/7Iz48/9O3hCgD2aiiigArz/wDaX%2BONz8AfhrF4s0XwiviDWtV8Q6XoPhvQ5NR%2Bxx3uo6hexWkCyz%2BXIYIVaXzJZBHIyxRuVSRgqN6BXn37S/wOuvj98NYvCei%2BL18P61pXiHS9e8N65Jp32yOz1HT72K7gaW38yMzws0XlSxiSNmikcK8bFXUA8%2Buf26LrQv2XvFPxu8W/CmO08T%2BDvGJ8I634St/EQktI9YfUoLCDGoPAmLKQ3VrcG5aBWjglLPEGRo65DxZ/wVB0nwH4S1HSfG3hfwRo/j7R/ihJ4F1jTtW%2BJ62vhqwvo9Hi1prmbWpbJWS2FjcQAsbTzPtMq2/l5y47/wCH/wCyt8RvBHwj8Y%2BAdU%2BJng/xDqnjq61LVfEV9r3w7kn0%2B71W9mYyGSxOo4ewW2ENstoZfM2Q7nuXZia4Hwh/wTCsfhr4Z0LX/hl4v8FaJ8QtB%2BJlx42tNWs/hkIvDkN3Pop0N7WDRoL2Nre2XTxEiKl35gmhErSPvkRwD6W%2BHPiPU/GHgDRfFmswaRFdanpcF1OmgaydRsQ0iBv9HujFEbmHnKS%2BWm9cNtXOB5n%2Bwf8A8kQ1z/ss3xH/APU11utj4L/sr/D34Yfsv6P%2Byx4wsbDxloNlpbWmqwa7o8L2mpGSRppQ1owaJITI7bIfmWNAiAnaDXM/8E6fDHhrwV%2BzdfeD/Bvh6x0jSNL%2BLfxDtNM0vTLRLe2tII/GetLHFFEgCxoqgKFUAAAACgD3SiiigAooooAKKKKACvOf2nf2rfgd%2ByD8N5fif8c/GUWmWW4x2FlGPMu9SnxxBbQg7pZDx04UcsVUEjyT9sr/AIKbeAv2fvEifAH4FeF7j4ofGXVD5OkeAvDmZjaSEE%2BZfSR58hEUFyn39uCdiEyr4f8ACj/gj58V/wBqL4mR/tPf8FX/AIpS%2BJ9clAax%2BHWhXhj07S4s5Fs8sZ%2B4ucGKAgFhuaWUsxPg43NcROo8NlsFUqrRt/BD/FLq/wC4rvvZF4DMMlhiG8RGdflf8Ok1G77TrNShRj/M1GrVtpCkpWkvF/iT%2B334v/4KM%2BMZPBOt6D41v/BW4NZfAv4QQvc6rrsefkk13VExDZWzfxQxs7JyHVWRZD9K/C/9jn9ub4xeDLDwL4%2B8baT%2BzZ8MLSMLZfC/4MOh1dojyVutVwQkh53NCGEmSWGcmvsX4bfCr4Z/BzwxF4L%2BE/w/0bw3pMH%2Br07Q9NjtYQcY3FY1ALHux5Pc1v1z4Th%2BpzOrjazqTlva8U/JtPm5f7qcI%2BTep18Q53nvFdCGDxtRUMFTd6eEw3NSoRe3NNuTrV6jWkqtao5y2ShG0F4B8E/%2BCXv7DfwJ1AeIvDfwI03WNdaTzZvEfi9n1e%2Bkl7y%2BZdFxG59Ywle/RxxxRrFEgVVACqowAB2FLRXvYfC4XCQ5KEFFeSS/Lf53PHwuCweBp8mGpxgu0Ul99lr822FFFFdB1BRRRQAUUUUAFFFFABRRRQAUUUUAFFFFABRRRQAUUUUAFFFFABRRRQAUUUUAFeM/sv8A/Jb/ANo7/ss1j/6hXhevZq8Z/Zf/AOS3/tHf9lmsf/UK8L0AezUUUUAFFFFABRRRQAUUUUAFFFFABRRRQAUUUUAFFFFABRRRQAUUUUAef/tV/BW6/aM/Zu8bfA7Ttej0q88T%2BHLqx07U5oTLHaXTITBM6AguiyhGZAQWUEZGc15X4U/Z8/at1uH4u%2BL/ABzqfhHwh4v%2BLOgnSre/8H%2BI7vUY/Ci2umG2sLiFrixtzeym5nurh9ywCNfJjHmlWc/SlFAHzN/wT/8A2OPFv7LfiLxbruofDH4c/DzSNe0HQdPtvAfws1C4udMa%2BsReC51qV5rO0xd3aXFtE4ETNs0%2BIyTTMRs4T9uX4M%2BG9P8Ajd4m1bSNQ8Qz3vi79lL4qrfQar4u1G/tImE3hlV%2By2tzPJBZD5zlbdIg2F3A7Vx9qV86/tN6P/wkP7VvhnQNm77d%2Bzr8Srfb6777wmuP1rDFQ9phqkO8ZL74tfqepkeI%2Bp55hMR/JVpS/wDAatOX/tp0f/BOjWP7c/YI%2BDV8W3Ffhpo0BPvFZxRH/wBAr2evm/8A4JDax/bn/BNr4S3u/ds8OPb5/wCuVzNFj/xyvpCufKp%2B0yuhLvCH/pMT2OPcP9U46zah/LisQv8AyvV/zCiiiu8%2BTCiiigAooooAKKKKACiiigAooooAKKKKACiiigAooooAKKKKACiiigAooooAKKKKACiiigAooooAKKKKACiiigArxnxx/wApC/hf/wBkZ8ef%2BnbwhXs1eM%2BOP%2BUhfwv/AOyM%2BPP/AE7eEKAPZqKKKACiiigAooooAK8Z/YP/AOSIa5/2Wb4j/wDqa63Xs1eM/sH/APJENc/7LN8R/wD1NdboA9mooooAKKK4r9ob9oP4WfsufCTVvjX8Y/ES6domkQ7pGADS3Mp4jghTI8yV2%2BVVHfkkAEiKlSnRpupUdopXbeySM6tWlQpSq1JKMYptt6JJbtnQeN/HHg74a%2BEtQ8e/EDxNZaNoulWzXGo6pqNwsUFvEvVmZjgenuSAOTX5m/HX/gpR%2B09/wUg%2BMa/saf8ABNDTNQ8PaJeJu1/4kXkb29yLAkBrlDjdZW5BBVv9fLuQIEJ2txn7Qvjb9rb/AIKVfHLSPg/qPhdbK/ugmo%2BHPhJNIX0/whYNgprniZgMS3JRg0NiRxvXemG8q4/Rz9jH9jP4XfsV/CweA/Avm6jq2oSi78V%2BKr9Qb3W70g7ppWySFBLBI8kID3YszfIyxOP4jxDoYZulhou05bTl/dj/AC36/aSetm1FfRYXIKVDJoZvn0ZQp1o82Gwt3CrXi9sRiGmp0cK/%2BXVNclfF2vzUcOpTqZX7D3/BP34EfsJ%2BBW0L4b6W2oeItRQN4l8Z6mgbUNVlJDNufny4t3KxKdo6nc5Z29zoor6rDYbD4OhGjRioxWyX9fe931Z4Tae0VFdFFKMUuyjFJJLokkl97ZRRRW4gooooAKKKKACiiigAooooAKKKKACiiigAooooAKKKKACiiigAooooAKKKKACiiigAooooAK8Z/Zf/AOS3/tHf9lmsf/UK8L17NXjP7L//ACW/9o7/ALLNY/8AqFeF6APZqKKKACiiigAooooAKKKKACiiigAooooAKKKKACiiigAooooAKKKKACiud%2BLnxS8G/A/4W%2BIvjH8Q797XQvC2i3OqatPFC0si28ETSPsRctI5CkKigszEAAkiuS%2BD/wC1T4Q%2BKGh%2BLb/xV4L8QfD/AFHwHKo8X6B44%2BxR3WmQvaJeR3LvZ3NxbvC8D7g6TMAUkRtrxuqgHp9eLfECCK5/4KCfDK2nTcknwW8eq6nuDq3hAEV1P7Pvx4vf2gPDj%2BMY/gf408I6RcW1vdaDfeL4tPiOs2k6s8dxDDbXc80A2hWMd1HBMvmKDGDuC8z44/5SF/C//sjPjz/07eEKBptO6PNP%2BCIc8qf8E1vAmh3LkzaRf63ZSk9cpq94QPyYV9Y18l/8EbP9A/Zj8VeE%2Bn9g/F/xPp%2B3%2B7tvS%2BP/ACJX1pXk5F/yJcOu0Evuuv0PvvFZL/iJecTX28RUn/4Mcan/ALkCiiivWPgAooooAKKKKACiiigAooooAKKKKACiiigAooooAKKKKACiiigAooooAKKKKACiiigAooooAKKKKACiiigAooooAK8Z8cf8pC/hf/2Rnx5/6dvCFezV4z44/wCUhfwv/wCyM%2BPP/Tt4QoA9mooooAK8/wD2l/jjc/AH4axeLNF8Ir4g1rVfEOl6D4b0OTUfscd7qOoXsVpAss/lyGCFWl8yWQRyMsUblUkYKjegV59%2B0v8AA66%2BP3w1i8J6L4vXw/rWleIdL17w3rkmnfbI7PUdPvYruBpbfzIzPCzReVLGJI2aKRwrxsVdQDz65/boutC/Ze8U/G7xb8KY7TxP4O8YnwjrfhK38RCS0j1h9SgsIMag8CYspDdWtwbloFaOCUs8QZGjrI1f/gomvhb4IfEPxT4j%2BF%2Bn3PxE%2BHvjOTwfP4C8OeKze22p66dNt9Uhgt797WJzD9iuo555Wtla3SC6LRt9nO7p/h/%2Byt8RvBHwj8Y%2BAdU%2BJng/xDqnjq61LVfEV9r3w7kn0%2B71W9mYyGSxOo4ewW2ENstoZfM2Q7nuXZia8/0D/gkZ8Bf%2BFS6p4Q8XXj2niPVdX1PVhrXwyuNS8Gafpt3eabbaZstNP0q/TZapZ2VrH9nlmlD7JGZi0zkgH0b8GPiH/wALd%2BD3hP4sf2P/AGf/AMJP4asNW%2BwfaPN%2BzfabdJvK37V37d%2B3dtXOM4HSvPv2D/8AkiGuf9lm%2BI//AKmut10Hwm/Zl%2BHvw9/Ze8Ofsp%2BLrGLxn4e0Xwta6LfxeK0fUY9USKNVYzJeSTl0ZlyI3dwg2oDtUY5H/gnT4Y8NeCv2br7wf4N8PWOkaRpfxb%2BIdppml6ZaJb21pBH4z1pY4ookAWNFUBQqgAAAAUAe6UUUjMqKXdgABkknpQBifEr4keCPg/4B1f4ofEnxFb6ToWhWMl3qmoXTYSGJBknjlieAFGSzEAAkgV%2BWHxr%2BMnx5/bi%2BOfhHxbp3hBv%2BEg8Qu037PPww1VA0Ggafkh/GmtR4ZdwUFraNwRkBlDhR5/X/ALdX7VukftW32r%2BNJbKTVfgL8MfEEen6Po1vuP8AwtjxqTi106ILzLYwv877ch1ViA%2BUMf1n%2BwB%2Bx7rPwD8Oal8Z/jjqEet/GD4g%2BXe%2BOdcZF22Y2gxaXagcR20ChUCrwxQH7qxqvxuLq1uIccsLQdqMdXJddd/PVNU1s2pVHdRgn7/CmW5bXwj4szmmqmCo1HDC0JfDjcTCzc6i0vg8K3GU1tXq8lJPl52ut/Y6/Y9%2BHf7Hfw2k8KeGLq41jxBrFx9u8Z%2BMdUYvf6/qDZMlxM7EtjczbUyQoJ5LMzN65RRX1lChRwtGNKlG0Vol/X4vdu7bbZwZtmuY55mVXH4%2Bq6lao%2BaUnu3%2BCSSSUYpKMYqMYpRikiiiitjzwooooAKKKKACiiigAooooAKKKKACiiigAooooAKKKKACiiigAooooAKKKKACiiigAooooAKKKKACvGf2X/8Akt/7R3/ZZrH/ANQrwvXs1eM/sv8A/Jb/ANo7/ss1j/6hXhegD2aiiigAooooAKKKKACiiigAooooAKKKKACiiigAooooAKKKKACiiigDz/8Aar%2BCt1%2B0Z%2Bzd42%2BB2na9HpV54n8OXVjp2pzQmWO0umQmCZ0BBdFlCMyAgsoIyM5ryvwp%2BzB8c/iFD8Xbz9orTPCOlXPxp0E6DrVt4O8T3d9HoenQ6YbODyZLiwtzeSyS3N7K5ZYBErQoBMVZz9KUUAfMn7AH7HPxG/Zh8Qa9rXizw14H8L2N/wCEtB0VfDvw/wBVuru11S/sDefadfujcW1uUvbtbmFHXbK%2B21TzLmc7fL1L/wCGPhvwd/wU28F%2BM9J1LxDNeeIfg944kv4dV8XajfWkRTVvCWBbWtzPJBZA7jlbdIw2BuB2rj6Hrxnxx/ykL%2BF//ZGfHn/p28IUAeY/8Eof%2BJav7RXhNuP7N/ae8VeSvpDJ9mdP619aV8l/8E6P%2BJV%2B0x%2B1V4T6eT8YU1Db/wBfVmj5/HbX1pXk5JplkI9nNfdUqH6B4o%2B9xxiav/PyGHn/AOB4TCP9GFFFFesfn4UUUUAFFFFABRRRQAUUUUAFFFFABRRRQAUUUUAFFFFABRRRQAUUUUAFFFFABRRRQAUUUUAFFFFABRRRQAUUUUAFeM%2BOP%2BUhfwv/AOyM%2BPP/AE7eEK9mrxnxx/ykL%2BF//ZGfHn/p28IUAezUUUUAFFFFABRRRQAV4z%2Bwf/yRDXP%2ByzfEf/1Ndbr2avGf2D/%2BSIa5/wBlm%2BI//qa63QB7NXyT/wAFEfjF45%2BJ/i3Rv%2BCcP7OWvGz8X/ECza58c%2BIbc5/4RTwuDtublz/DLMMxRgkZ3HlS8bV9B/tEfGvwz%2Bzj8DPFfx08YMP7P8L6JPfyxb9pndFPlwqf70khSNf9pxX54S%2BGfi14Z/Z/0jwQurNcftKfto6is/ibV2jIk8OeHmjDzKq53QwW1mwjCZDbnk2kmFQPns9xrhT%2BrRvqrytvy35VFf3qkmoLsueXQeXZHjOM%2BI8Nw3hZ%2Bz9teVao9qOHhd1aja29yM9d1FSt70onpH7D3wb8CftO/HjS/i14H8Pra/Af4BLL4c%2BCOmEZi1vVk%2BW911%2BP3pD5CSHO5z5nyurg/fVcz8GvhJ4K%2BA3wp8P/AAb%2BHWmi00Tw3pcVjp8PG4oi4LuR952OXZurMzE8mumr0MrwP1HCqMrc8tZW2vZKy/uxSUYrpFebPqOLc8wmcZhCjl9P2WCw0FRw1P8AkowvZtLT2lR81Wq1vUqNbQjYooor0T5YKKKKACiiigAooooAKKKKACiiigAooooAKKKKACiiigAooooAKKKKACiiigAooooAKKKKACiiigAooooAK8Z/Zf8A%2BS3/ALR3/ZZrH/1CvC9ezV4z%2By//AMlv/aO/7LNY/wDqFeF6APZqKKKACiiigAooooAKKKKACiiigAooooAKKKKACiiigAooooAKKKKACis3xn4x8K/Dvwfq3xA8c6/a6VomhabPqGsapeyhIbO1hjaSWaRjwqIisxPYA1znwQ/aE%2BFX7RGiahrvwt1jUZl0jUBY6tYa34dvtIvrG4MMU6pPZ38MNxFuhmhlQvGA6So6kqwNAHa14t47ubdP%2BCifwstHmUSyfBbx8yITywXV/B%2BSPpuH512nwk/aJ%2BDXx21vxh4e%2BE3jaPWbrwD4mk8PeKxBaTollqUcUckluJJEVJiqyKGaIuquGQsHR1X5Q/4KK/GK7%2BBH/BUT9jvxxLcNHpOpQeNPDutkcIIdRl8PQRs5/hRZ/Ick8fKK58ViIYWg6stla/zaX6nLjMVDBYd1p7K1/nKMb/LmTOw/Y0/4lP8AwUt/a58MnhWvvBmoQj%2B952kSFz/30AK%2BtK%2BS/gV/xJv%2BCwPx403p/bXw68L6hj%2B95KyQZ/XFfWlcOTaYWce1Sqv/ACo3%2Bp%2BleJPv55hq38%2BDwMv/AC0pwf402FFFFesfn4UUUUAFFFFABRRRQAUUUUAFFFFABRRRQAUUUUAFFFFABRRRQAUUUUAFFFFABRRRQAUUUUAFFFFABRRRQAUUUUAFeM%2BOP%2BUhfwv/AOyM%2BPP/AE7eEK9mrxnxx/ykL%2BF//ZGfHn/p28IUAezUUUUAFcd8ePjZ4a/Z%2B%2BHUvxE8TaRqeqbtSsdM0zRdEhjkvdU1C9uorS0tIFlkjj8ySeaNd0jpGgJd3RFZh2NeX/tb/Bvxn8Z/hhYWPw1vNMi8TeGvGGi%2BJdAj1ueSKyurjT7%2BG5NrPJFHI8STRpJD5qxyGIyCQJJs2MAZsP7bHwyX9nfVf2hdW8J%2BJdPXRNfbw/qvg%2B6s7dtYg1v%2B0E06PTNkU7wNNLdSwxxusxgcTxyCXy231Bpn7Y954j8Jahq3gv8AZZ%2BJWt%2BIdB8TSaF4s8CWDaGuqaDdraQ3o%2B0yTapHZMr211aTIYbmUut1HgZ3BeW8HfswfFdfgT8RfA/xc%2BGfgLxPqfxG1zUPE2q6KPGd/b6emoz3CeRYpdJp/nxRwW9vaFdQSMTfaEaRbeLC482tv2G/2wPhn8AvFPgf4FT%2BEbDW/i18Tzr/AMUIbz4q62ZrLSP7MtNPax0/XJ9Purye7mi0%2B3El9PCkifaLhohGwhaMA%2Bt/g58WPBnx4%2BEvhn42fDq9muNA8W6Daavo01xbtFI9tcRLLGXjb5kbawyp5ByD0rz39g//AJIhrn/ZZviP/wCprrddl4X%2BFum3HwF0r4Pa74Sg8JWcHh62019C8BeKLy2h0mKKNUW3sr63W0uEjjVAiSIsLbVHyr0rz7/gnZoOm%2BDf2a7/AMNaddXslppnxZ%2BIdvDPquqT3tw0cfjPWlDS3Fy7zTPgZaSR2djksxJJoA8p/wCClOsad8fPjn8Lf2CZ9Qjj0HULxvHXxZkkfEcHhvTGLrHN6Rz3C7M9miU9Ksf8E59C1T9pv4teM/8Agpr4%2B02WKPxaW8PfCXT7pMNpvhi1lKiUKfuPczK0jDtg4O2SvlvxX448XftC%2BCPH3xy8IXDp4s/a2%2BI0Xw2%2BFjMpLWHg2yk8m7uwvBWN1STzlHRiG7mv1M%2BGvw%2B8M/Cb4eaF8L/BdiLbSPDukW%2Bm6ZB/cghjWNAfU7VGT3OTXyGWr%2B1M1nipfArSX3ONL7oc1T1qRfY%2Bp4abyLw9xGdbYnOakqdN9Y4DDtKTXZYivaLfWFOS2bNuiiivrz5YKKKKACiiigAooooAKKKKACiiigAooooAKKKKACiiigAooooAKKKKACiiigAooooAKKKKACiiigAooooAKKKKACvGf2X/APkt/wC0d/2Wax/9QrwvXs1eM/sv/wDJb/2jv%2ByzWP8A6hXhegD2aiiigAooooAKKKKACiiigAooooAKKKKACiiigAooooAKKKKACiiigDzD9tT4Q%2BKvj5%2ByZ8Q/g74Fe1Gt%2BIPCl5a6PHfSlLea6MZMUUrAErE7hUdsHCsxwcYPmHw18CftLeOfEvxm%2BIs3w/134Ra18VNJt9L8KX2pyaRqs/heSx0swxandw2l%2B8UzvdXMpjhikkDR2aGVoTJtX6eooA%2BW/wDgnV%2Byr%2B0H%2By144%2BLOjfFXWPCF14Z1PWdDHgyTwt4Wn00XUNroNhZSTlZ9Vv5QN1v5RWUiR5IZZi7LMqr47/wVT/Zj8Y/FT4lX0EPxZ8Sa5ev8BvHGv%2BEdFvrbTkh0G707WPCF2qWT21pFOxl8vyybiWc8jaVy2f0Grxfx9FFcf8FBvhjBPGro/wAF/HqujjIYHVvCGQR3Fc%2BKw8MXhZ0J7STX3pr/AIPyOXG4WnjsHUw09pxcX801%2BGj%2BR80/D/49QaV%2B2X8Ef25NcEX/AAiH7RXwnsvCF5fJ8qaR4jST7TFDIemJX326j%2B8jHIC8/f1fnZ%2Bzp%2BzTZfGn9kv49/8ABL3V777Fq/wo%2BIl4fAN60hEmmwXDtqOj3YYfMmZDLuK87GYA819Rf8E8v2nNS/al/Zo0zxT41tjZ%2BNPD11N4e%2BIOlyKFks9ZsyI7gMo%2B7v8AllA7CUDsa8HI8TOM/Z1f%2BXic1/jVo1o/KUedeUn2Pvp4iXGHhvl2ff8AMRg4wweJS7R9osPVt2dq1CT254U3vPX3Giiivpj4sKKKKACiiigAooooAKKKKACiiigAooooAKKKKACiiigAooooAKKKKACiiigAooooAKKKKACiiigAooooAKKKKACvGfHH/KQv4X/9kZ8ef%2BnbwhXs1eM%2BOP8AlIX8L/8AsjPjz/07eEKAPZqKKKACiiigAooooAK%2BRbP4mf8ACnf%2BCZPxr%2BJUdx5U%2BleLfiy9k%2Bcf6S3i3XkgGfeVkH419dV%2BaX7cPjS20L/glJ4h%2BH9zeGAePf2nPFugM6thhGfH2tXUmP8AgFqwPsTXnZviHhcrr1VuoSt62svxaPPzadanllZ0Vebi1FLdylaEEvNynFLzaLH/AASS%2BGR%2BKfxm0DxldW27w3%2Bz18MrHwjoCEfuz4n1CAXetTL6SRGV7ZvUMhr9Ja%2BXv%2BCNfgNfBX/BO7wFqV5BnVPFEd34g1q7YfPeXF3dSyCVz3byfJXPogr6hrl4dw31fKKTe80pP5pWXyior5M/R/ED2GD4heS4Z/uMuhDBUuzjhl7Oc/WrWVeq/Oavqgooor2z4gKKKKACiiigAooooAKKKKACiiigAooooAKKKKACiiigAooooAKKKKACiiigAooooAKKKKACiiigAooooAKKKKACvGf2X/8Akt/7R3/ZZrH/ANQrwvXs1eM/sv8A/Jb/ANo7/ss1j/6hXhegD2aiiigAooooAKKKKACiiigAooooAKKKKACiiigAooooAKKKKACiiigAoqO9vbPTrOXUNQu4oLeCJpJ55pAqRooyzMx4AABJJ6VzPgH46fBH4reAp/ip8LvjH4V8SeF7YzC58SaB4htrywi8kZl3XELtGuwctlvlHXFAHVV4z44/5SF/C/8A7Iz48/8ATt4QrvvhP8cPgt8etAm8V/Az4v8AhfxppdvdG2uNS8J%2BILbUbeKYKrGJpLd3VXCsp2k5wwPcVwPjj/lIX8L/APsjPjz/ANO3hCgDyT9rTwP8a/2Rf2kr7/goz8BPCj%2BLtA1XQrXTPjJ4Es4v9OnsrUnytUsz/wAtJoYztaM9UU9mLR8hqHiDxV8MPGmof8FQv%2BCfkcPxM%2BGPxItba5%2BKfw%2B0pNt95luhRtSsV7XSAsJrdgGZg2QS26L7wr5F%2BJH7C/xz/Z7%2BJGtftCf8E1/Hul6Bda7dfbfFnwk8RwZ8Pa9OB80sJTDWNww/iTCscZKKCD81mGXVqM3VoczjzOdo254T6zgnpJS%2B3TfxXbjq2jTh7Psy4FzOticNQWKweITjiMNLVTjJqUnGzUk%2BaKmuVqdOpFVKTb56dT6E/Z7/AGifhB%2B1J8MLD4vfBLxhBrGjXwwXj%2BWW1lAG%2BCeM/NFKuRlG55BGQQT21fly/j34eT/HS/8AF/wu8c6h%2ByH%2B0XeSK/iXwD48Uf8ACJ%2BMJsn52fb9nlEjEhbiPa5LMyo7N5lfSHw4/wCCouneAfENp8Iv%2BChPw0uPg74tnYR2eu3JafwxrZxxLaaguUjUj5ispAQEAuWyKvBZ/QnHlxLUWtOZfA32d9acv7lRR12lJWPt4cMZXxbh55hwTXeLprWeGemModXGdLR1ox1XtaMZOyvUo03c%2BtqKr6Vq2l67psGs6JqVveWd1Esttd2syyRTIwyGVlJDAjkEHBqxX0Saauj4WUZQk4yVmujCiiigQUUUUAFFFFABRRRQAUUUUAFFFFABRRRQAUUUUAFFFFABRRRQAUUUUAFFFFABRRRQAUUUUAFFFFABXjPjj/lIX8L/APsjPjz/ANO3hCvZq8Z8cf8AKQv4X/8AZGfHn/p28IUAezUUUUAFcd8ePjZ4a/Z%2B%2BHUvxE8TaRqeqbtSsdM0zRdEhjkvdU1C9uorS0tIFlkjj8ySeaNd0jpGgJd3RFZh2NeX/tb/AAb8Z/Gf4YWFj8NbzTIvE3hrxhoviXQI9bnkisrq40%2B/huTazyRRyPEk0aSQ%2BaschiMgkCSbNjAGbD%2B2x8Ml/Z31X9oXVvCfiXT10TX28P6r4PurO3bWINb/ALQTTo9M2RTvA00t1LDHG6zGBxPHIJfLbfWPc/t%2B%2BD49DhtLL4HePbzxzJ41m8Ky/Cu1TSTrltqUWmrqsiyO2oCwWMae8N15v2soUuIVDGWRYzj%2BDv2YPiuvwJ%2BIvgf4ufDPwF4n1P4ja5qHibVdFHjO/t9PTUZ7hPIsUuk0/wA%2BKOC3t7QrqCRib7QjSLbxYXHn3wy/4J9/HX4Fz2Xx4%2BGNl4RufiHJ8UdS8U6x4T1/x/q93pklreaDb6KbX%2B27m0uL64nVLGyujdTWxMknnx7I0dGjAPq/4PfFbwd8dPhX4e%2BMfw%2Bu5ptF8TaRBqOmtcwGKVY5UDBJI25jkXJV0PKsrKeQa/I7/gpF46SX4L%2BGfhlv3W1j8RPjf4i1QbseS6%2BJ9ZsrGT6/aLkgHsa/UD4Bfs0RfDH9krw7%2BzT418UXt7NZaCttrur%2BHdVu9Jknu3Yy3MttNbSx3FspmeQpskDqhALHkn8dPiJ4fsfiJ8WfHPwX0q4v7rT9E%2BJNx8L7VdT1Se%2BnM%2Bp/ErWdVDSXFw7zTTNDaYaSR2dxksScmvl%2BL6ko5LKnHebUfzf6L7z2uE8HSzPjvI8DV%2BCpjcM5/wDXulU%2Bs1Puhhm2ftJ%2Byz4G/wCFY/sy/Dv4cmHy20LwPpVhIuOd8VpEjZ98qSfeu8oACgKoAAHAFFfSUqcaNKNOO0Ul9yS/Q4MfjKuY4%2Bti6vxVZzm/WcpTf4yYUUUVocgUUUUAFFFFABRRRQAUUUUAFFFFABRRRQAUUUUAFFFFABRRRQAUUUUAFFFFABRRRQAUUUUAFFFFABRRRQAUUUUAFeM/sv8A/Jb/ANo7/ss1j/6hXhevZq8Z/Zf/AOS3/tHf9lmsf/UK8L0AezUUUUAFFFFABRRRQAUUUUAFFFFABRRRQAUUUUAFFFFABRRRQAUUUUAeRft9/D7xp8Vv2KPin8OPh5o0up6zrPgbUbWy0iBwr6mWgbdZqWIUGdd0I3EL%2B85IGTXnH7O/jXSpvil8a/jjN8IfHem%2BDPF8dhLo%2Bjap8MdWtbvVX0zR44764NhLarMjSI1vZxJKiPcmxKwrIqoT9SUUAfMf/BPLxHqHxj8SfEP9qHxv4D8W%2BE/FPjiXS47nwh4l%2BH%2BraH/YWlWkdwmn2jSahawLf3mJbiS5lgMkcbzJCrNHFFJLq3%2Bm/Fe0/wCCm3gu88beNPD2oaFcfB7xwfDWnaV4Yns7uwQat4S8xbm5kvZkuycpgpDbhdpyG3Db9D14z44/5SF/C/8A7Iz48/8ATt4QoA9mooooA5T4wfAz4O/tAeE5PA3xr%2BGmjeJ9KkyRaaxYJMI2IxvjJG6N/R0IYdjXyl46/wCCTfjXwJ4avfC37Hv7S97pfha6B874TfFHTU8S%2BGJV/wCeMaXIaW1Tody73yOD6fbFFcGLyzA4181WHvbcy0lbtdWbXk%2BZeRxVsvwtbExxKThWhZxqQlKnUi1qnGcHGSs9Vq15H5C3vwl/4KN/sFahca58K/g9438EWaTNNdQfCu9/4TDwfesTl2GkXbfa7BSclpd7MF%2B6o2ivRvgZ/wAHEHh6xvE8I/tXfCRYruKcW0/iDwDK8iNLj5t%2Bm3vlXcIXnJHmc9BX6aVw/wAXf2Zv2d/j5bG1%2BNXwR8LeKMptWbWtEhnmjHT5JWXeh91INeEsgzLAO%2BXYpxX8s1zR/C1vkkfZS414kxcPZ53Gjma2U8RB08Sv%2B5zDezqz/wC5iliPOTMD4Afty/skftQwRN8Dvj34e1u6lXI0j7Z9nv1/3rWYJMPqUxx1r1evh74sf8G%2Bv/BPz4gTPqHgnS/FXga73b4X8N%2BIWkiR85zsvFmwM84Ur7YrH0L/AIJwf8FO/wBnGEQ/sq/8FO59YsIiBbeHfibojXNvHGP%2BWYlc3RRf%2BuaR%2B2K66eOz/D6YrCqf96lJP/ySfK/ubPAxmOyqT5qOGr0vLmpYiPynD2FS3%2BKlf8z75or4lk/ak/4LJ/BBLqT4zf8ABP3wl8SNPtFAGq/C7xf9leT/AGxbXBmnlJ9FiT8Ky2/4L4/ALwLqEXh79pP9mj4v/DbVH/1kGveFl8tT3ALSJK3/AH6rZ8Q5XS/jylSf9%2BEo/i04/wDkx51PGQqXtTqaf9OqrtpfXlpztbq3ourPu6ivlrwP/wAFpv8Agmf48CJY/tO2GnzNjdDrmj31lsPoXlhVPxDEV654O/bI/ZH%2BIQQeB/2oPh9qrv0isfGNlJIPYoJdwPsRmu2jmeW4j%2BFXhL0lH/Myo5vlWIdqWIg32U43%2B66f4HpNFRWN/Y6nbLe6bexXELjKSwSB1YexHBqWu7c9BNNaBRRRQAUUUUAFFFFABRRRQAUUUUAFFFFABRRRQAUUUUAFFFFABRRRQAUUUUAFeM%2BOP%2BUhfwv/AOyM%2BPP/AE7eEK9mrxnxx/ykL%2BF//ZGfHn/p28IUAezUUUUAFFFFABRRRQAV%2BNf7NPw9fX/23bXTry3/AH3i/wDb3%2BIesohGd9t4aurySOT6CS8nA9wa/ZSvzZ/Y30PSvEX/AAU50fw/pdoqp4O/4W94numBJH2vUPiHrFgSSejGNF4/ugdq8LPqCr06Cf8Az9gvvev4RZ9v4eYaP%2Bsk8yf/ADB4XG1l5S%2BqVKMH8pYlfefpNRRRXunxAUUUUAFFFFABRRRQAUUUUAFFFFABRRRQAUUUUAFFFFABRRRQAUUUUAFFFFABRRRQAUUUUAFFFFABRRRQAUUUUAFFFFABXjP7L/8AyW/9o7/ss1j/AOoV4Xr2avGf2X/%2BS3/tHf8AZZrH/wBQrwvQB7NRRRQAUUUUAFFFFABRRRQAUUUUAFFFFABRRRQAUUUUAFFFFABRRRQAUUUUAFeM%2BOP%2BUhfwv/7Iz48/9O3hCvZq8Z8cf8pC/hf/ANkZ8ef%2BnbwhQB7NRRRQAUUUUAFFFFABRRRQAVU1zQNC8TaZLoviTRbTULOdcTWl9bLLFIPRkcEH8RVuik0mrMqE505KUW01s1o16NWa%2BTPnb4qf8Em/%2BCeHxfeS58S/steHLC5clhd%2BGUk0mRX/AL/%2BhtGCc8/MDnvmvnjx7/wbkfsw3s9xqPwk%2BMXirw9cz8%2BXrmn2Gt28Z7bUmhST85Cfev0QoryMTw9kmLd6uHhfulyv742Ppo8Z8SuHJiK/t47cuIhSxMbdrYmlXdvJSifk1e/8ED/2jfhdO9/8KfFHwy8TuDl7y8vde8O3soH9xbG5eBG%2Bo2ioB%2Byz/wAFCvhFxqnwx/aZsraL/l9%2BGH7StpqNs30sLi380j0y9frZRXmf6n5ZT/gSnD0d1%2BNn%2BJP9r8K4p/7fw7gKje8qdKrhJet8JiKUb/8AcK3kfkoP2hfjj8Ofk8ZftpftZ/DLy/vz/E34DW2qwLjv5iM3mL74Ga6nwR%2B3D8U/EGxfBv8AwXW%2BFWrk9F8dfB%2BPQsn/AGt3l7a/UKuW8b/A74KfEwOPiP8AB/wt4gEn3xrfh%2B2u93181GzR/q/j6X8LEX9XVj/6TVa/8lF9T8I8V8eXY3DP/pxmE5xXpDE0n%2BMz5E8GfF3/AIKh%2BKwn/Cqv2uv2QPHW7/V4vL8mT6fY5G/SuvHjf/gtjo//ACEfgh%2Bz9rOOv9keJdUt93088HFdf4z/AOCT3/BOXx5v/tz9kXwlBv6/2NbSabj6fZHjx%2BFcj/w5h/ZG0P8A5JT4r%2BKHgPH%2Br/4RD4k38Pl/7vnPLR9QzyntKT9K7X4VKL/MP9VPDDEfwM7zGh5VaNKql86VVN/KAg/aG/4K76V/x/8A/BO7wTquOv8AZnxbt4M/Tzozig/tkf8ABTnT%2BNa/4JC3LKOsmnfHDR5s/RfLBoH/AATS%2BNvhj/kmH/BUf472e3/VjxRq9vrQX6iWNMil/wCGWv8Agqv4W58Lf8FPtH16Nf8AV2vif4PWEWB6GW3k3N9aOXOIfF7f5Sw8/wA4xYf8Q8yKt/unF0PSrRr03%2BOFrJfOQn/DfX7bFl/yG/8Agkv8QI8dfsPjHTrn8tuM0f8ADyP9oK0/5C//AASv%2BNyY6/Y7W1uP/QZBml/sj/gt34Y/48PF/wCzh4oiXr/aen6zZTuPbySUB%2BvFH/C7P%2BCxPhv/AJDX7Efwx8S7ev8AwjvxJNnv%2Bn2pDj8aPrGNj8VSuvWhCX/pNw/4hXnlT/deIsHU/wC5jDxf3VaNG3zYn/D0fxxbf8hP/gmJ%2B0smOv2XwDHP/KcUf8PZIYP%2BQj/wTh/astvVn%2BEBK/mLmlH7b3/BQrQ/%2BR3/AOCR/iOIL959A%2BKWlajn3Coqn8KP%2BHnfxN0X/kdP%2BCYH7RNvj7/9ieEYdSx9PLmXNH1%2BpH4sZJf4sO1/7aH/ABCHxJl/AxdGr/gq5dP8sZET/h7t4Ci/4/v2J/2lLX1%2B0fCSUY/KY0H/AILC/BSL/j8/Zn%2BPVv6%2Bf8KrkY/JzS/8Pgfg5p//ACOP7L3x%2B8O4%2B9/bXwquE2/XY70f8Ptf%2BCfdh/yNnj7xPoGPvf2x4A1VNv12W7Uf2nFb5jBetOK/NxD/AIg54yv%2BHhqs/wDBh6VT/wBNYip%2BAn/D5L9m5P8Aj6%2BDfxmg/wCuvwvvB/LNH/D5r9lNf9d4B%2BK8f%2B/8M77/AOJrW0n/AILOf8Eytax9j/as0tM9Ptei6jb/APo22Wul0v8A4Kjf8E8dYx9k/bA8DJnp9q1lYP8A0ZtxWsMfKfw5jSf/AG7D/wCWnDX8L/GDC/xsFiI%2BuBq/omcJ/wAPoP2RBw/hb4nr/vfDW/8A/iKP%2BH0H7IfRfDHxOJ9B8Nb/AP8AiK9c039vX9hzV8DTv2xvhbIx6J/wn2nBv%2B%2BTNmt/Tv2of2Z9Yx/ZH7RPgW6z0%2BzeLrJ8/wDfMprojUxk/hxtN%2BkY/wDy08etwh4h4b%2BNTqR/xYOqvzSPBP8Ah81%2Byq3/AB7/AA/%2BLEvoI/hnfHP5rR/w%2BN/Z/l/48PgJ8b7s9hb/AAtujn8yK%2Bl9P%2BKfwx1bH9l/EbQbnPT7PrEL5/Jq2LS/sL9PMsb2GZf70UgYfpW8aOaz2xUflTj/APJs8urlfE9B2q4hR9aFv/SpI%2BUP%2BHu/gGc40r9ij9pO%2B9PsnwklOfzmFH/D1u/uv%2BQV/wAE0/2qJR2af4UCJT9CbmvrWiq%2BqZq98V91KH6yMfqOdvfG/dRp/rJnyX/w89%2BJs/Nj/wAEvv2i2H/TfwhDEfyM1H/DzD4zHlf%2BCW/x9x76Fbg/l5tfWlFH1LMv%2Bgt/%2BC6Yf2fm/wD0HP8A8FUj5K/4ecfFePm5/wCCXf7QoHfyvC8Dn8hNVT4KftSa5%2B0p/wAFC/Bi63%2BzD8S/hu2ifBnxls/4WHoC2I1HztW8K5%2BzlZH8zy/KG/pjzY%2BuePsCvGfHH/KQv4X/APZGfHn/AKdvCFa0MNjqdVSqYhyXbkgr/Nam%2BGweZUqylVxTnHrF06av846ruezUUUV6B6gVzvxX%2BK/gH4I%2BAr34mfE3XG0/R7B4I5porOa5lklmmSCCCKCBHlnmlmljijijRpJJJERFZmAPRV5B%2B2v8N/H3xD%2BE%2BkX3wy8MtruseE/H/h3xPD4dS7hgfVotP1O3uJ7aOSd0iWYwpIYvNdIzKsYd0Ul1ANyy/as%2BAt/8Crv9pJPHLxeENPa4jv7280i7guba4guGtZbWSykiW6S6W4UwfZmiE3m4jCFiFPOv%2B35%2By8nhOLxYninxFK03iObQB4etvh3rkuupqUVqLyW3fSEsjqEbLbMlwS0AAikjkzskRj4vr3wB/aI8a/sg/F3wPd/Ae9s9d%2BJfja48Vjw1e61pm%2B3sJNTtlfTY7mK6eODVWsLRp0nUm3gurmNluGMRcedH9i/44JpNvq2q/s2fEu68Hf8AC4tX8QWfhLTPi1bwfEOztLjw5a2Ec8/iAaxG8268S9Lp/akkv2WSziLvHCbZQD76%2BH3j7wb8VfAmjfE34d%2BIrfV9A8Q6XBqOi6paMTFd2s0YkilUnBwysDzg8818Af8ABIG0uPF37ev7VPjS7iOzwp4%2B1rw7YyN0K3HirXb6UD6MVz9a%2BuP2ZPg58U/BP7EfgT4GeNvFjeFfFej%2BBNO0q%2B1PwhbWBbTJ4YETFusts9oxQKEz9nMRIJVFBAHz1/wQ/wDhxqPhDRP2kPEmva9e6vf6h%2B1R43sZNZ1KOBbnUY7PVJoxcSi3iiiDvI8xYRxogJO1FGFHnY2m6uJwy6Kbk/lCVvxZ9pwvjYYHI86k/iqYeFKP/cTFUOb74U2n5M%2B5KKKK9E%2BLCiiigAooooAKKKKACiiigAooooAKKKKACiiigAooooAKKKKACiiigAooooAKKKKACiiigAooooAKKKKACiiigAooooAK8Z/Zf/5Lf%2B0d/wBlmsf/AFCvC9ezV4z%2By/8A8lv/AGjv%2ByzWP/qFeF6APZqKKKACiiigAooooAKKKKACiiigAooooAKKKKACiiigAooooAKKKKAPHv8AgoOfHI/Yc%2BLB%2BG/9p/2x/wAIFqf2f%2BxN/wBu2fZ3837N5fz%2Bf5XmeXs%2Bfft2/Nivmz4ReJfh5p3wx/ae8Nf8E5Nf8NQeHdS8LTP8FbDwLdW62F14li8O5vDpKQny3CSvpplMAKrctLvxKZa%2B9KKAPjf/AIJln9nw/GPx7/wxadI/4VP/AMK38FeZ/wAI5t%2Bw/wDCVb9Z/tLzNnH9o/Y/7I%2B17v3u7yfM/eb69Bv9S%2BK93/wU28F2fjbwX4e0/Qrf4PeOB4a1HSvE895d36HVvCXmNc20llCloRhMBJrgNuOSu0bvoevnD9o/V/jXo/7eHwnn%2BB3w/wDC3iLUm%2BEfjtbu08V%2BMLnRYI4P7U8JEuktvp96zvu2jYY1GCTvyApAPo%2BivGf%2BE4/4KF/9Gv8AwZ/8Pxq3/wAy9H/Ccf8ABQv/AKNf%2BDP/AIfjVv8A5l6APZqK8Z/4Tj/goX/0a/8ABn/w/Grf/MvR/wAJx/wUL/6Nf%2BDP/h%2BNW/8AmXoA9mor5x0n9o79u3WPjPr/AMDrf9lD4SLqnh3wvpGu3ly/x11TyJINRudSt4UQjwxuLq2lzlgVAAePBYlgvUf8Jx/wUL/6Nf8Agz/4fjVv/mXoA9morxn/AITj/goX/wBGv/Bn/wAPxq3/AMy9H/Ccf8FC/wDo1/4M/wDh%2BNW/%2BZegD2aivGf%2BE4/4KF/9Gv8AwZ/8Pxq3/wAy9cv4B/aO/bt%2BInivxv4Q0f8AZQ%2BEkNx4D8URaFqslz8ddUCTzyaVp%2Bph4tvhgkp5OowqSwU70cYwAzAH0dRXjP8AwnH/AAUL/wCjX/gz/wCH41b/AOZej/hOP%2BChf/Rr/wAGf/D8at/8y9AHs1FeM/8ACcf8FC/%2BjX/gz/4fjVv/AJl6P%2BE4/wCChf8A0a/8Gf8Aw/Grf/MvQB7NRXzj8Iv2jv27fjL4Uu/F/hz9lD4SW1vZ%2BKNb0KSO9%2BOuqK5n0vVbrTJ3G3www2NNaSMhzkoykhTlR1H/AAnH/BQv/o1/4M/%2BH41b/wCZegD2aivGf%2BE4/wCChf8A0a/8Gf8Aw/Grf/MvR/wnH/BQv/o1/wCDP/h%2BNW/%2BZegD2aivGf8AhOP%2BChf/AEa/8Gf/AA/Grf8AzL1y/wAEf2jv27fjx8GPCHxx8K/sofCS10vxn4X0/XdNttQ%2BOuqLPDBd20dxGkgTwwyhwsgDBWYZBwSOaAPo6ivGf%2BE4/wCChf8A0a/8Gf8Aw/Grf/MvR/wnH/BQv/o1/wCDP/h%2BNW/%2BZegD2aivGf8AhOP%2BChf/AEa/8Gf/AA/Grf8AzL1y/wAbv2jv27fgP8GPF/xx8VfsofCS60vwZ4X1DXdSttP%2BOuqNPNBaW0lxIkYfwwqlysZChmUZIyQOaAPo6ivGf%2BE4/wCChf8A0a/8Gf8Aw/Grf/MvR/wnH/BQv/o1/wCDP/h%2BNW/%2BZegD1LVvA3grXs/274P0u93fe%2B16fHJn/vpTXNap%2BzD%2BzVrmf7a/Z58DXmev2rwlZyZ/76iNcl/wnH/BQv8A6Nf%2BDP8A4fjVv/mXo/4Tj/goX/0a/wDBn/w/Grf/ADL1lOhQqfFBP1Sf5pndQzPM8J/Ar1If4Zzj/wCkziW9T/YF/YZ1fJ1D9jf4XOx6uPAWnq3/AH0IQawNR/4Jd/8ABPLVM/af2PvAy5/599FSH/0Xisv4u/tHft2/BrwpaeL/ABH%2Byh8JLm3vPFGiaFHHZfHXVGcT6pqtrpkDnd4YUbFmu42c5yEViAxwp6j/AITj/goX/wBGv/Bn/wAPxq3/AMy9c8sty6fxUIP/ALcj/wDInsUeNeM8N/CzPEx9MRX/APlzOP1D/gjz/wAE1NSz9p/ZO0Jc/wDPve3kX/oEwrHu/wDgiD/wS/un80fsxrC/Z7bxhrEePwW8xXpH/Ccf8FC/%2BjX/AIM/%2BH41b/5l6P8AhOP%2BChf/AEa/8Gf/AA/Grf8AzL1jLJMmlvhqf/gEf8j1KXih4lUF%2B7zrFr/uZrf/ACbPMv8AhyX/AME/LfjSPAPifT/T7F8QNVXH/fVwaT/hzH%2ByRCc6X4t%2BKFj6fZPiVfjH5ua9O/4Tj/goX/0a/wDBn/w/Grf/ADL1y/j79o79u34d%2BK/BHhDWP2UPhJNcePPFEuhaVJbfHXVCkE8elahqZeXd4YBCeTp0ygqGO90GMEssf2FkvTDwXorfk0bf8RW8S38WcYh/4qnN/wClRkcz/wAOefgZD/yDf2i/jrZ%2BgtfincjH5qaP%2BHRngWL/AI8P22v2lLT0Fv8AFuUY/OE16d/wnH/BQv8A6Nf%2BDP8A4fjVv/mXo/4Tj/goX/0a/wDBn/w/Grf/ADL0f2FlH/PlffJflNB/xFTxEe%2BYzfrGi/8A0rDSPMf%2BHTltF/x5f8FHP2rLf0WP4wHH5G2qn8Ff2Vbz9mT/AIKF%2BCxdftMfFP4irrfwZ8ZbP%2BFmeKRqZ0/ydW8K5%2BzkRp5fmeaN/Xd5UfTbz61/wnH/AAUL/wCjX/gz/wCH41b/AOZeqHgfwP8AtWeMf2rPDnxu%2BN3w4%2BHvhnRvDPw98Q6HDD4V%2BId9rV1d3WpX2iXCMyXGkWKRRomlygsHdi0qALjJG1DKsvw1VVKULSX96b/Bza/A8/NOPuL87wM8HjsVz052uvZYeN7NNe9DDU5rVLaa7O6un7rRRRXoHx4UUUUAFFFFABXg3/BOzwrpfhj4K%2BLptODb9V%2BPPxKvrtmx80reM9YTt2Coo/Cvea%2BSv2SvFn7Z2n/D3xRZ/DH4B/DDV9CT40/EX%2Bz9R174u6jpt3Mv/CZ6yWMltFoFykRDbgAJnyADkE7QnFNpvoXGpUhCUE9JWuu9ndfc9T61orxn/hOP%2BChf/Rr/AMGf/D8at/8AMvR/wnH/AAUL/wCjX/gz/wCH41b/AOZemQezUV4z/wAJx/wUL/6Nf%2BDP/h%2BNW/8AmXo/4Tj/AIKF/wDRr/wZ/wDD8at/8y9AHs1FfOPwR/aO/bt%2BPHwY8IfHHwr%2Byh8JLXS/GfhfT9d0221D466os8MF3bR3EaSBPDDKHCyAMFZhkHBI5rqP%2BE4/4KF/9Gv/AAZ/8Pxq3/zL0AezUV4z/wAJx/wUL/6Nf%2BDP/h%2BNW/8AmXo/4Tj/AIKF/wDRr/wZ/wDD8at/8y9AHs1FfOPxu/aO/bt%2BA/wY8X/HHxV%2Byh8JLrS/BnhfUNd1K20/466o080FpbSXEiRh/DCqXKxkKGZRkjJA5rqP%2BE4/4KF/9Gv/AAZ/8Pxq3/zL0AezUV4z/wAJx/wUL/6Nf%2BDP/h%2BNW/8AmXo/4Tj/AIKF/wDRr/wZ/wDD8at/8y9AHs1FeM/8Jx/wUL/6Nf8Agz/4fjVv/mXrl/i7%2B0d%2B3b8GvClp4v8AEf7KHwkube88UaJoUcdl8ddUZxPqmq2umQOd3hhRsWa7jZznIRWIDHCkA%2BjqK8Z/4Tj/AIKF/wDRr/wZ/wDD8at/8y9H/Ccf8FC/%2BjX/AIM/%2BH41b/5l6APZqK8Z/wCE4/4KF/8ARr/wZ/8AD8at/wDMvR/wnH/BQv8A6Nf%2BDP8A4fjVv/mXoA9mor5x8fftHft2/DvxX4I8Iax%2Byh8JJrjx54ol0LSpLb466oUgnj0rUNTLy7vDAITydOmUFQx3ugxgll6j/hOP%2BChf/Rr/AMGf/D8at/8AMvQB7NRXjP8AwnH/AAUL/wCjX/gz/wCH41b/AOZej/hOP%2BChf/Rr/wAGf/D8at/8y9AHs1FeM/8ACcf8FC/%2BjX/gz/4fjVv/AJl65fVv2jv27dH%2BM%2BgfA64/ZQ%2BEjap4i8L6vrtncp8ddU8iODTrnTbeZHJ8Mbg7NqkBUBSCEkyVIUMAfR1FeM/8Jx/wUL/6Nf8Agz/4fjVv/mXo/wCE4/4KF/8ARr/wZ/8AD8at/wDMvQB7NRXjP/Ccf8FC/wDo1/4M/wDh%2BNW/%2BZej/hOP%2BChf/Rr/AMGf/D8at/8AMvQB7NRXzjpP7R37dusfGfX/AIHW/wCyh8JF1Tw74X0jXby5f466p5EkGo3OpW8KIR4Y3F1bS5ywKgAPHgsSwXqP%2BE4/4KF/9Gv/AAZ/8Pxq3/zL0AezUV4z/wAJx/wUL/6Nf%2BDP/h%2BNW/8AmXo/4Tj/AIKF/wDRr/wZ/wDD8at/8y9AHs1FeM/8Jx/wUL/6Nf8Agz/4fjVv/mXrl/AP7R37dvxE8V%2BN/CGj/sofCSG48B%2BKItC1WS5%2BOuqBJ55NK0/Uw8W3wwSU8nUYVJYKd6OMYAZgD6Oorxn/AITj/goX/wBGv/Bn/wAPxq3/AMy9H/Ccf8FC/wDo1/4M/wDh%2BNW/%2BZegD2avGf2X/wDkt/7R3/ZZrH/1CvC9H/Ccf8FC/wDo1/4M/wDh%2BNW/%2BZerf7K3w5%2BNPg/WPih47%2BOmgeF9J1Tx98Qotcs9K8J%2BJbnVre1tYtB0fTFV7i4srNmkaTTpXKiLaFkQbmOcAHrdFFFABRRRQAUUUUAFFFFABRRRQAUUUUAFFFFABRRRQAUUUUAFFFFABRRRQAV8r/tPftafFz4YfGPxZrXgHw74Pk8MfB/w/wCH73xqda0i4m1XVLfV7%2BVLmCwuI7iNLLyLazjuMyRTi5kKRkQ%2BX5p%2BqK8Z%2BM/7EPw4%2BN3xSPxM1zxz4q0uLUbXSLXxf4a0a6tU07xTBpd7Je2MV8stvJMFjmmlz9nlgMschimMsYVAAezUUUUAFFFFAHzH4c/aV%2BJkP7f/AIo%2BD/xG1jw94T8Nr4gtNE8GRaj8ItZS68YwDQINRxB4ja7XTmlju7nUALQQvJ5dpMAoLNIv05Xlfiz9lqDx/wDGTSPin49%2BN/jXV9K8Pa7HrWgeALg6ZFo1jqEdu8Ec4aGyS9l2eZJIqTXUkYkfds%2BRAvqlABRRRQB4v/wUF%2BLvxw/Z%2B/ZH8afHr4BXvhSPWPBOhXeuXUHjDRbm%2Btru0tbaWZ7dEtrq2ZJXZEUSFyqAsSj8CvP/AB5%2B1p8XPBfx48W6n4U8O%2BEIvh54Q%2BMfhH4feMrObSLg63quq67BoqR6hDdpcLDHHB/bmkxmKS3leRIZ8Sx7UFew/tY/s42X7WnwI179n3Wvir4p8I6T4nspbHXL/wAILp32u5spYnimtt1/aXUaI6vyyIsgKja6854uD9gHwdP8RbP4i%2BKvjj4%2B11jrOk654m0bUJdKisfE%2BuaYkaWOrXsdtYRMtxEILTC2zQQMbG2LxMY8kA97ooooAK8X/bJ%2BLvxw%2BCVr4B8Y/Cy98Kf2NqHxM8OeHvF9j4g0W5ubq5tdV1mx00GzlhuoUtpI1uZZN8iTqSiLs5Jr2ivKv2rv2W3/AGqvDeheF5/j7438DW%2BheJLDXUbwXDo7Pd3tjeQXlm0p1LT7wbYri3jcLGEDcrJvU7QAecfs8/tK/EzW/wBqrxb8Efihq/h7wnp0PinW7fwT4Sk%2BEWs6Zc69bQukpv7fWri7%2Bwag7GSaWWK2gL8l2K4Yn6cryXSf2UQ/xk0X4y/Ef9oDx341m8L3d5d%2BE9C8QjSYbDR7q5t5LWS4iWw0%2B2llf7PNPCvnySqizvtAJBHrVABRRRQB4f8At3fFz48fs/fBrV/jr8KPGPgWx0/wtotzeXui%2BLPDN7f3PiG9yi2emWcltewfZ5riUi3RvKumaWeILCx%2BVvP/AII/tffGfXPiX4K/tbwZ4S0j4aeN/if4o%2BG3hXw1p2lzR6vol/oEOrb557kXDW80EjeH9TRYY7eIxq1sfMkywHp/7Sv7IMH7SXjzwR8QJv2gfHfhC58A3dze6LY%2BGItGns5L2VBGt5NBqenXiPPDH5iwyAKYxPKR8zZFXwH%2Bw18PfAfxlt/i7D8RfF2pQadrup69onhDUrmy/snStb1GN49Q1SBIrVJ/PnE92WV5nhRr65McUfmcAHtdFFFABXy/%2B1z8eP2l/gt8RNP8KaVD4A8a6P45h1q20X4cxeD76TWEtbTQ7q7kv7icXrxXVsLqK3tpIRaxA/b4UExkZEk%2BoK8Om/YmuI/2j/Ff7TWiftV/EvTtX8W6bDp1zpcMHh%2Be00%2BzhgaOG2s2udJlubeJZXe62LNtedy7hwdtADP2EP2g/G/x7%2BHt5dfFfx9o194u04Wba/4bsvhdq/hG80B57ZZRBc2Wr3U9w4Lb/LuAEjkVDtDbSa90rzf4Hfs3ad8GfE/iT4h6x8UvFPjjxV4risbfWPE/i5rBbl7SzE32W1SLT7W1to4o2ublxthDM1xIWZsjHpFABRRRQB8c/wDBQT9uP4qfsYeOf7T1zRdA8Y%2BEX0bUdbt/Csvw51Oylt003Rr7Ukk/4SKa6fTJ7v7Xpo2WKwJdCOZZQNsLSN69%2BzR8Xfjnq3xU8b/s9ftHXPhTUPE/hHSdD1qPWvBWkXNhY3NjqgvI0iMFzc3LrLFcaddqX83EiGJtkZJUVvjr%2Bwl4I/ac1q6tfj/8W/GvijwXcyXEi/DK8k02HRYpJrGayZt9vZR30gEdxMwSW6dA77tvyIF6f9nz9mbSPgHea94iu/ih4s8ceI/Ehs49W8VeNbize%2BltrSIxWtqPsdtbwrFEHlYYj3s88ruzs5NAHpVFFFABXxH%2B1P8AtlftZ/Bv41eIPhR4O8N%2BHPGup2Gi3Gu%2BGAnwP8QRyaKBqOmWqGFvtzjxNILHVLjzv7L8p4WhKyiMTCOvtyvD9e/Yt1PxL49PxO1r9rn4oza3p8F5F4NvCmgAeFVupoZJ/skY0nZOzRwLb7r1bpliZwpV3ZyAdV%2Byx8WH%2BMnwjg8WXvxM0bxVfw6jdWWqX2jeDL7w6La4ilZWtZtN1C4nurOeMYV45nD5%2BbaoYCvRq4b4B/AXw98APDOp6NpXinW/EGo6/r1xrfiTxJ4jmga91W/mCI08ot4oYExHFDEqQxRxqkSAKMEnuaACiiigAooooAKKKKACiiigCj4o8Q2HhLw1qPivVQ5tdMsZru5ES5by40LtgdzhTXzn%2BxN%2B0n8a/H/inR/Bnxs8PeDLMeOvhbZfEbwzD4M0q4tBpkd5cE3en3ZmuJRdzRvc2z/bEEAnaWYmCPaC/wBLXdpa39rLY3tuk0M0bRzRSqGV1IwVIPBBHGK8h/Zm/Yr8Bfswaq%2Br6B8QfFviWW28MWPhnw6PFl7azDQNCs3ke3021Nvbwlo1MnzSzma4kEcXmTP5a4APYqKKKACuF/ag8efEX4Wfs0fET4nfB/wouveLfDngXV9U8LaG1jNdDUdRt7OWW2tjDAyyzCSVETy42DtuwpBINd1Wd4t0S/8AEvhjUPD%2Bl%2BK9R0K5vbSSG31rSFga6sXZSBNELiKWIup5AkjdMj5lYZBAPLv2Kfi1P8UPhnfWWrfELw/rOp%2BHdVXTrzTNE%2BGGp%2BDn0NBbQSRWdxpWqXM9zC4RxIrt5aPFLFsTA3v7FXnnwH/Z20n4HXniXxHc/ETxJ4x8SeL9RhvPEXinxW9mLu6MNulvBEI7G2traKKONAFWOFMlnZizMzH0OgAooooA%2BXP2qP2sfih%2Bzh8XvHFl8StG8JeIvhfYfs7%2BL/HttoVvolwmqu2iDS1ntri5kuXt5op1vpwEFshUImXfLCu3/Zn%2BL/x81T4ueMv2df2ln8JXnijwx4Y8PeJY9V8FaTc2NlJZas%2BpW62xhubm5cyw3GkXYMokCyI8TeXGdy1B8Y/2FfDvx0%2BOrfGXx58dvHMumzeCtT8I33w9hg0X%2BxLvRtSW2%2B32khfTWvSJ2tIHZxdB1KEIyIzIek/Z3/Zd0P8AZ9vta8Rz/FDxb438Q6/a2Flf%2BJ/G1zaSXpsLFJFs7MfZLa3j8qIz3DglDI73Mru7s2aAPT6KKKACvkT41/tL/tbeDNd/aA8CW/hXwZ4svfAXh/wp4k%2BG1jpPw/1O/nWPUdV1KEJeWsV48uozwLpsc6m2FuS5IVflVq%2Bu68Ll/Yo8QxfHTxt8f9C/bQ%2BK2lat430ix0y5sbKz8MNaabbWVxcz2aWwl0V5P3RvLpQZnlLrORJ5hVCoB1f7Knxbm%2BMvwpHibUfido3inUbXVbmx1a60fwRf%2BGzZ3ETfNaz6ZqNxPdWk6KV3JMwYhlbaqsK9JrhPgH8A9A%2BAOhazY6f4t1zxHqvibxBLrnifxN4klt2vdVv5IYYPNkFtDDBGFgt7eFUiijRUhQBc5J7ugAooooA%2BNv2lv2u/2lv2ePjNB8NtZT4Z%2BNb7W4IJvCMOneFr20l8F3mpeIdM8PaRNqcr30wuop21ecFols5HFjdLGGXzDF7j%2Byr8X/iR8Rh4/wDh98Yjok/ir4aePG8NazqvhrTprOw1PzNL07Vre4ht5p55LfNrqlujxtNLiSOTDEEY4W2/4Jq%2BEmuviG/iH9pf4nazb/EnXjrmsW%2BpHQvMs9SiuIZ9Puba6i0tLpTYPb24tI3mkiiWFAyPzn1j4B/AXQ/gH4e1bTbLxfrniTVvEWvTa14n8UeJXtjf6vfSRxQ%2BdMLWCCBdkEFvAiRRRoscEaheCSAd1RRRQAy5%2B0/ZpPsezzth8rzc7d2OM45xmviD4rftc/tp/DT4ia58Nre28B%2BM9e8MXvhq31bx14I%2BCuv6tH4ct9Wa8e9sJdKs9Snu7maOGysbomKdP3d1C0sCAxNJ9vXcMlxay28N1JA8kbKs8QUvGSMBl3ArkdRkEeoNfPfwY/YC8QfAT4bXHw0%2BHf7dXxiijutWfU5tZvLLwnPqEt3K8slzPNM%2BhH7TJO8u6SScSPmNNhQDBAPWfgJ8Q7L4rfB3w/8AEKw%2BIGjeKk1PTxI%2Bv%2BH9JmsLS7kBKyFLWeaaW2KurI0MkjvGysrHcpA6%2BuS%2BBfwX8Jfs%2B/C/TvhT4Kub%2B4srCW6uJr7VbkTXV9d3VzLdXV1M4VQ0s1xPNK%2B1VXdIdqquFHW0AFUfE8PiS58N6hb%2BDdTsbLV5LKVdLvNTsHuraC4KERySwxyxNNGrYLIskZYAgOpO4XqzfGOg3/ijwtf%2BHdL8W6loNzeWrxQa1o4gN1YuRxNELiKWIup5AkjdDj5lYZFAHw98N/27P2tfjB8U9b%2BCXws034fJ4z02112%2Bk8Z%2BK/hdrWhrqmmaRa6LKljLol5fJqGnyvd%2BIdiTTzPH5UMlwkLrOgP2N8Avi1pvx8%2BBPgr466NpstnZ%2BNfCWm69aWcz7ngivLWO4WNiAMlRIAT6ivFtX/4JkeB9a1y%2B%2BIt3%2B0p8U0%2BIGrJeWutfEm2vdIh1a/0y6trW2m0wommizhtillaMPItopVkgWVZQ5Zj9B%2BC/B/hr4eeDtJ8AeDNJi0/R9D0yDT9JsIc7La2hjWOKNc84VFVR9KANOiiigDl/jTqPjjRvhbrWt/DnxDY6Xq1hZm6hvtQ8H3viBEjjIeUDTrGeC5vJGiV1SKGQOXZcK5%2BRvi34S/8ABRH4/eJPGmh6n43uPCPgTwZqU86%2BIPHF58DPEU1trF/Dr91pCJcyrfRp4ZnktbS1/cao0ksDyrG%2BdgSvtv4meDNd8e%2BEpvDnhv4pa/4NvJJY3i1/wzFYvdwbWBKqt/bXMDBgCpDxNwTjBwR4rdf8E5vCmoeD7j4bat%2B0h8TbvwxrmoTX/jzQJrjRxF4wu57xrq4mvpV00XEXmllhaOzltYhDEkaoo3bgD6JooooAKKKKACiiigAooooAKKKKACiiigAooooAKKKKACiiigAooooAKKKKACiiigAooooAKKKKACiiigAooooAKKKKACiiigAooooAKKKKACiiigAooooAKKKKACiiigAooooAKKKKACiiigAooooAKKKKACiiigAooooAKKKKACiiigAooooAKKKKACiiigAooooAKKKKACiiigAooooAKKKKACiiigAooooAKKKKACiiigAooooAKKKKACiiigAooooAKKKKACiiigAooooAKKKKACiiigAooooAKKKKACiiigAooooAKKKKACiiigAooooA/9k%3D\">"
            ]
          },
          "metadata": {
            "tags": []
          }
        }
      ]
    },
    {
      "cell_type": "markdown",
      "metadata": {
        "id": "9CDZzEcWod1N",
        "colab_type": "text"
      },
      "source": [
        "# Submit a linear model"
      ]
    },
    {
      "cell_type": "code",
      "metadata": {
        "id": "zPvsood-od1P",
        "colab_type": "code",
        "colab": {
          "base_uri": "https://localhost:8080/",
          "height": 426
        },
        "outputId": "80dd85c7-293a-4672-8d65-98faa74432da"
      },
      "source": [
        "## GRADED PART, DO NOT CHANGE!\n",
        "# Testing shapes \n",
        "grader.set_answer(\"9XaAS\", grading_utils.get_tensors_shapes_string([W, b, input_X, input_y, logits, probas, classes]))\n",
        "# Validation loss\n",
        "grader.set_answer(\"vmogZ\", s.run(loss, {input_X: X_val_flat, input_y: y_val_oh}))\n",
        "# Validation accuracy\n",
        "grader.set_answer(\"RMv95\", accuracy_score(y_val, s.run(classes, {input_X: X_val_flat})))"
      ],
      "execution_count": 57,
      "outputs": [
        {
          "output_type": "error",
          "ename": "TypeError",
          "evalue": "ignored",
          "traceback": [
            "\u001b[0;31m---------------------------------------------------------------------------\u001b[0m",
            "\u001b[0;31mTypeError\u001b[0m                                 Traceback (most recent call last)",
            "\u001b[0;32m/tensorflow-1.15.2/python3.6/tensorflow_core/python/client/session.py\u001b[0m in \u001b[0;36m__init__\u001b[0;34m(self, fetches, contraction_fn)\u001b[0m\n\u001b[1;32m    304\u001b[0m         self._unique_fetches.append(ops.get_default_graph().as_graph_element(\n\u001b[0;32m--> 305\u001b[0;31m             fetch, allow_tensor=True, allow_operation=True))\n\u001b[0m\u001b[1;32m    306\u001b[0m       \u001b[0;32mexcept\u001b[0m \u001b[0mTypeError\u001b[0m \u001b[0;32mas\u001b[0m \u001b[0me\u001b[0m\u001b[0;34m:\u001b[0m\u001b[0;34m\u001b[0m\u001b[0;34m\u001b[0m\u001b[0m\n",
            "\u001b[0;32m/tensorflow-1.15.2/python3.6/tensorflow_core/python/framework/ops.py\u001b[0m in \u001b[0;36mas_graph_element\u001b[0;34m(self, obj, allow_tensor, allow_operation)\u001b[0m\n\u001b[1;32m   3606\u001b[0m     \u001b[0;32mwith\u001b[0m \u001b[0mself\u001b[0m\u001b[0;34m.\u001b[0m\u001b[0m_lock\u001b[0m\u001b[0;34m:\u001b[0m\u001b[0;34m\u001b[0m\u001b[0;34m\u001b[0m\u001b[0m\n\u001b[0;32m-> 3607\u001b[0;31m       \u001b[0;32mreturn\u001b[0m \u001b[0mself\u001b[0m\u001b[0;34m.\u001b[0m\u001b[0m_as_graph_element_locked\u001b[0m\u001b[0;34m(\u001b[0m\u001b[0mobj\u001b[0m\u001b[0;34m,\u001b[0m \u001b[0mallow_tensor\u001b[0m\u001b[0;34m,\u001b[0m \u001b[0mallow_operation\u001b[0m\u001b[0;34m)\u001b[0m\u001b[0;34m\u001b[0m\u001b[0;34m\u001b[0m\u001b[0m\n\u001b[0m\u001b[1;32m   3608\u001b[0m \u001b[0;34m\u001b[0m\u001b[0m\n",
            "\u001b[0;32m/tensorflow-1.15.2/python3.6/tensorflow_core/python/framework/ops.py\u001b[0m in \u001b[0;36m_as_graph_element_locked\u001b[0;34m(self, obj, allow_tensor, allow_operation)\u001b[0m\n\u001b[1;32m   3695\u001b[0m       raise TypeError(\"Can not convert a %s into a %s.\" %\n\u001b[0;32m-> 3696\u001b[0;31m                       (type(obj).__name__, types_str))\n\u001b[0m\u001b[1;32m   3697\u001b[0m \u001b[0;34m\u001b[0m\u001b[0m\n",
            "\u001b[0;31mTypeError\u001b[0m: Can not convert a set into a Tensor or Operation.",
            "\nDuring handling of the above exception, another exception occurred:\n",
            "\u001b[0;31mTypeError\u001b[0m                                 Traceback (most recent call last)",
            "\u001b[0;32m<ipython-input-57-219638382c95>\u001b[0m in \u001b[0;36m<module>\u001b[0;34m()\u001b[0m\n\u001b[1;32m      6\u001b[0m \u001b[0;31m# Validation accuracy\u001b[0m\u001b[0;34m\u001b[0m\u001b[0;34m\u001b[0m\u001b[0;34m\u001b[0m\u001b[0m\n\u001b[1;32m      7\u001b[0m \u001b[0mgrader\u001b[0m\u001b[0;34m.\u001b[0m\u001b[0mset_answer\u001b[0m\u001b[0;34m(\u001b[0m\u001b[0;34m\"RMv95\"\u001b[0m\u001b[0;34m,\u001b[0m \u001b[0maccuracy_score\u001b[0m\u001b[0;34m(\u001b[0m\u001b[0my_val\u001b[0m\u001b[0;34m,\u001b[0m \u001b[0ms\u001b[0m\u001b[0;34m.\u001b[0m\u001b[0mrun\u001b[0m\u001b[0;34m(\u001b[0m\u001b[0mclasses\u001b[0m\u001b[0;34m,\u001b[0m \u001b[0;34m{\u001b[0m\u001b[0minput_X\u001b[0m\u001b[0;34m:\u001b[0m \u001b[0mX_val_flat\u001b[0m\u001b[0;34m}\u001b[0m\u001b[0;34m)\u001b[0m\u001b[0;34m)\u001b[0m\u001b[0;34m)\u001b[0m\u001b[0;34m\u001b[0m\u001b[0;34m\u001b[0m\u001b[0m\n\u001b[0;32m----> 8\u001b[0;31m \u001b[0ms\u001b[0m\u001b[0;34m.\u001b[0m\u001b[0mrun\u001b[0m\u001b[0;34m(\u001b[0m\u001b[0;34m{\u001b[0m\u001b[0minput_X\u001b[0m\u001b[0;34m[\u001b[0m\u001b[0;36m1\u001b[0m\u001b[0;34m,\u001b[0m\u001b[0;34m:\u001b[0m\u001b[0;34m]\u001b[0m\u001b[0;34m}\u001b[0m\u001b[0;34m)\u001b[0m\u001b[0;34m\u001b[0m\u001b[0;34m\u001b[0m\u001b[0m\n\u001b[0m",
            "\u001b[0;32m/tensorflow-1.15.2/python3.6/tensorflow_core/python/client/session.py\u001b[0m in \u001b[0;36mrun\u001b[0;34m(self, fetches, feed_dict, options, run_metadata)\u001b[0m\n\u001b[1;32m    954\u001b[0m     \u001b[0;32mtry\u001b[0m\u001b[0;34m:\u001b[0m\u001b[0;34m\u001b[0m\u001b[0;34m\u001b[0m\u001b[0m\n\u001b[1;32m    955\u001b[0m       result = self._run(None, fetches, feed_dict, options_ptr,\n\u001b[0;32m--> 956\u001b[0;31m                          run_metadata_ptr)\n\u001b[0m\u001b[1;32m    957\u001b[0m       \u001b[0;32mif\u001b[0m \u001b[0mrun_metadata\u001b[0m\u001b[0;34m:\u001b[0m\u001b[0;34m\u001b[0m\u001b[0;34m\u001b[0m\u001b[0m\n\u001b[1;32m    958\u001b[0m         \u001b[0mproto_data\u001b[0m \u001b[0;34m=\u001b[0m \u001b[0mtf_session\u001b[0m\u001b[0;34m.\u001b[0m\u001b[0mTF_GetBuffer\u001b[0m\u001b[0;34m(\u001b[0m\u001b[0mrun_metadata_ptr\u001b[0m\u001b[0;34m)\u001b[0m\u001b[0;34m\u001b[0m\u001b[0;34m\u001b[0m\u001b[0m\n",
            "\u001b[0;32m/tensorflow-1.15.2/python3.6/tensorflow_core/python/client/session.py\u001b[0m in \u001b[0;36m_run\u001b[0;34m(self, handle, fetches, feed_dict, options, run_metadata)\u001b[0m\n\u001b[1;32m   1163\u001b[0m     \u001b[0;31m# Create a fetch handler to take care of the structure of fetches.\u001b[0m\u001b[0;34m\u001b[0m\u001b[0;34m\u001b[0m\u001b[0;34m\u001b[0m\u001b[0m\n\u001b[1;32m   1164\u001b[0m     fetch_handler = _FetchHandler(\n\u001b[0;32m-> 1165\u001b[0;31m         self._graph, fetches, feed_dict_tensor, feed_handles=feed_handles)\n\u001b[0m\u001b[1;32m   1166\u001b[0m \u001b[0;34m\u001b[0m\u001b[0m\n\u001b[1;32m   1167\u001b[0m     \u001b[0;31m# Run request and get response.\u001b[0m\u001b[0;34m\u001b[0m\u001b[0;34m\u001b[0m\u001b[0;34m\u001b[0m\u001b[0m\n",
            "\u001b[0;32m/tensorflow-1.15.2/python3.6/tensorflow_core/python/client/session.py\u001b[0m in \u001b[0;36m__init__\u001b[0;34m(self, graph, fetches, feeds, feed_handles)\u001b[0m\n\u001b[1;32m    472\u001b[0m     \"\"\"\n\u001b[1;32m    473\u001b[0m     \u001b[0;32mwith\u001b[0m \u001b[0mgraph\u001b[0m\u001b[0;34m.\u001b[0m\u001b[0mas_default\u001b[0m\u001b[0;34m(\u001b[0m\u001b[0;34m)\u001b[0m\u001b[0;34m:\u001b[0m\u001b[0;34m\u001b[0m\u001b[0;34m\u001b[0m\u001b[0m\n\u001b[0;32m--> 474\u001b[0;31m       \u001b[0mself\u001b[0m\u001b[0;34m.\u001b[0m\u001b[0m_fetch_mapper\u001b[0m \u001b[0;34m=\u001b[0m \u001b[0m_FetchMapper\u001b[0m\u001b[0;34m.\u001b[0m\u001b[0mfor_fetch\u001b[0m\u001b[0;34m(\u001b[0m\u001b[0mfetches\u001b[0m\u001b[0;34m)\u001b[0m\u001b[0;34m\u001b[0m\u001b[0;34m\u001b[0m\u001b[0m\n\u001b[0m\u001b[1;32m    475\u001b[0m     \u001b[0mself\u001b[0m\u001b[0;34m.\u001b[0m\u001b[0m_fetches\u001b[0m \u001b[0;34m=\u001b[0m \u001b[0;34m[\u001b[0m\u001b[0;34m]\u001b[0m\u001b[0;34m\u001b[0m\u001b[0;34m\u001b[0m\u001b[0m\n\u001b[1;32m    476\u001b[0m     \u001b[0mself\u001b[0m\u001b[0;34m.\u001b[0m\u001b[0m_targets\u001b[0m \u001b[0;34m=\u001b[0m \u001b[0;34m[\u001b[0m\u001b[0;34m]\u001b[0m\u001b[0;34m\u001b[0m\u001b[0;34m\u001b[0m\u001b[0m\n",
            "\u001b[0;32m/tensorflow-1.15.2/python3.6/tensorflow_core/python/client/session.py\u001b[0m in \u001b[0;36mfor_fetch\u001b[0;34m(fetch)\u001b[0m\n\u001b[1;32m    274\u001b[0m         \u001b[0;32mif\u001b[0m \u001b[0misinstance\u001b[0m\u001b[0;34m(\u001b[0m\u001b[0mfetch\u001b[0m\u001b[0;34m,\u001b[0m \u001b[0mtensor_type\u001b[0m\u001b[0;34m)\u001b[0m\u001b[0;34m:\u001b[0m\u001b[0;34m\u001b[0m\u001b[0;34m\u001b[0m\u001b[0m\n\u001b[1;32m    275\u001b[0m           \u001b[0mfetches\u001b[0m\u001b[0;34m,\u001b[0m \u001b[0mcontraction_fn\u001b[0m \u001b[0;34m=\u001b[0m \u001b[0mfetch_fn\u001b[0m\u001b[0;34m(\u001b[0m\u001b[0mfetch\u001b[0m\u001b[0;34m)\u001b[0m\u001b[0;34m\u001b[0m\u001b[0;34m\u001b[0m\u001b[0m\n\u001b[0;32m--> 276\u001b[0;31m           \u001b[0;32mreturn\u001b[0m \u001b[0m_ElementFetchMapper\u001b[0m\u001b[0;34m(\u001b[0m\u001b[0mfetches\u001b[0m\u001b[0;34m,\u001b[0m \u001b[0mcontraction_fn\u001b[0m\u001b[0;34m)\u001b[0m\u001b[0;34m\u001b[0m\u001b[0;34m\u001b[0m\u001b[0m\n\u001b[0m\u001b[1;32m    277\u001b[0m     \u001b[0;31m# Did not find anything.\u001b[0m\u001b[0;34m\u001b[0m\u001b[0;34m\u001b[0m\u001b[0;34m\u001b[0m\u001b[0m\n\u001b[1;32m    278\u001b[0m     raise TypeError('Fetch argument %r has invalid type %r' %\n",
            "\u001b[0;32m/tensorflow-1.15.2/python3.6/tensorflow_core/python/client/session.py\u001b[0m in \u001b[0;36m__init__\u001b[0;34m(self, fetches, contraction_fn)\u001b[0m\n\u001b[1;32m    307\u001b[0m         raise TypeError('Fetch argument %r has invalid type %r, '\n\u001b[1;32m    308\u001b[0m                         \u001b[0;34m'must be a string or Tensor. (%s)'\u001b[0m \u001b[0;34m%\u001b[0m\u001b[0;34m\u001b[0m\u001b[0;34m\u001b[0m\u001b[0m\n\u001b[0;32m--> 309\u001b[0;31m                         (fetch, type(fetch), str(e)))\n\u001b[0m\u001b[1;32m    310\u001b[0m       \u001b[0;32mexcept\u001b[0m \u001b[0mValueError\u001b[0m \u001b[0;32mas\u001b[0m \u001b[0me\u001b[0m\u001b[0;34m:\u001b[0m\u001b[0;34m\u001b[0m\u001b[0;34m\u001b[0m\u001b[0m\n\u001b[1;32m    311\u001b[0m         raise ValueError('Fetch argument %r cannot be interpreted as a '\n",
            "\u001b[0;31mTypeError\u001b[0m: Fetch argument {<tf.Tensor 'strided_slice:0' shape=(784,) dtype=float32>} has invalid type <class 'set'>, must be a string or Tensor. (Can not convert a set into a Tensor or Operation.)"
          ]
        }
      ]
    },
    {
      "cell_type": "code",
      "metadata": {
        "id": "ENXT3sCJod1T",
        "colab_type": "code",
        "colab": {
          "base_uri": "https://localhost:8080/",
          "height": 34
        },
        "outputId": "c3e89076-f075-4f6c-e1ba-9ae5bb2a9030"
      },
      "source": [
        "# you can make submission with answers so far to check yourself at this stage\n",
        "grader.submit(COURSERA_EMAIL, COURSERA_TOKEN)"
      ],
      "execution_count": 54,
      "outputs": [
        {
          "output_type": "stream",
          "text": [
            "Submitted to Coursera platform. See results on assignment page!\n"
          ],
          "name": "stdout"
        }
      ]
    },
    {
      "cell_type": "markdown",
      "metadata": {
        "id": "0UZcLpwuod1W",
        "colab_type": "text"
      },
      "source": [
        "# MLP with hidden layers"
      ]
    },
    {
      "cell_type": "markdown",
      "metadata": {
        "id": "S6Z2VecSod1W",
        "colab_type": "text"
      },
      "source": [
        "Previously we've coded a dense layer with matrix multiplication by hand. \n",
        "But this is not convenient, you have to create a lot of variables and your code becomes a mess. \n",
        "In TensorFlow there's an easier way to make a dense layer:\n",
        "```python\n",
        "hidden1 = tf.layers.dense(inputs, 256, activation=tf.nn.sigmoid)\n",
        "```\n",
        "\n",
        "That will create all the necessary variables automatically.\n",
        "Here you can also choose an activation function (remember that we need it for a hidden layer!).\n",
        "\n",
        "Now define the MLP with 2 hidden layers and restart training with the cell above.\n",
        "\n",
        "You're aiming for ~0.97 validation accuracy here."
      ]
    },
    {
      "cell_type": "code",
      "metadata": {
        "id": "zQRtpVePod1X",
        "colab_type": "code",
        "colab": {}
      },
      "source": [
        "# write the code here to get a new `step` operation and then run the cell with training loop above.\n",
        "# name your variables in the same way (e.g. logits, probas, classes, etc) for safety.\n",
        "### YOUR CODE HERE ###\n",
        "hidden0 = tf.layers.dense(input_X, 256, activation=tf.nn.sigmoid)\n",
        "hidden1 = tf.layers.dense(hidden0, 256, activation=tf.nn.sigmoid)\n",
        "logits = tf.layers.dense(hidden1, 10)\n",
        "probas = tf.nn.softmax(logits) ### YOUR CODE HERE ### apply tf.nn.softmax to logits\n",
        "classes = tf.argmax(probas, axis=1) ### YOUR CODE HERE ### apply tf.argmax to find a class index with highest probability\n",
        "loss = tf.reduce_mean(tf.nn.softmax_cross_entropy_with_logits(labels=input_y, logits=logits), axis=0) ### YOUR CODE HERE ### cross-entropy loss\n",
        "\n",
        "# Use a default tf.train.AdamOptimizer to get an SGD step\n",
        "step = tf.train.AdamOptimizer().minimize(loss) ### YOUR CODE HERE ### optimizer step that minimizes the loss"
      ],
      "execution_count": 55,
      "outputs": []
    },
    {
      "cell_type": "markdown",
      "metadata": {
        "id": "Vgj6y7Ncod1a",
        "colab_type": "text"
      },
      "source": [
        "# Submit the MLP with 2 hidden layers\n",
        "Run these cells after training the MLP with 2 hidden layers"
      ]
    },
    {
      "cell_type": "code",
      "metadata": {
        "id": "12Cj4iMrod1a",
        "colab_type": "code",
        "colab": {
          "base_uri": "https://localhost:8080/",
          "height": 221
        },
        "outputId": "e674eb33-4b80-4885-8452-deff06c732c0"
      },
      "source": [
        "## GRADED PART, DO NOT CHANGE!\n",
        "# Validation loss for MLP\n",
        "grader.set_answer(\"i8bgs\", s.run(loss, {input_X: X_val_flat, input_y: y_val_oh}))\n",
        "# Validation accuracy for MLP\n",
        "grader.set_answer(\"rE763\", accuracy_score(y_val, s.run(classes, {input_X: X_val_flat})))\n",
        "print(y_val_oh[-3:])\n",
        "s.run(probas, {input_X:X_val_flat[-3:]})"
      ],
      "execution_count": 68,
      "outputs": [
        {
          "output_type": "stream",
          "text": [
            "[[0. 0. 0. 0. 0. 1. 0. 0. 0. 0.]\n",
            " [0. 0. 0. 0. 0. 0. 1. 0. 0. 0.]\n",
            " [0. 0. 0. 0. 0. 0. 0. 0. 1. 0.]]\n"
          ],
          "name": "stdout"
        },
        {
          "output_type": "execute_result",
          "data": {
            "text/plain": [
              "array([[1.15408426e-10, 2.03958272e-08, 1.94241173e-12, 6.78343497e-08,\n",
              "        3.85541349e-10, 9.99999881e-01, 5.62506486e-10, 4.88827590e-11,\n",
              "        1.08430163e-08, 4.22833879e-10],\n",
              "       [1.09065959e-05, 1.77750171e-05, 2.19194299e-05, 2.82104669e-08,\n",
              "        1.17251302e-05, 6.44468455e-05, 9.99873042e-01, 1.27725585e-07,\n",
              "        1.88389855e-08, 7.25663307e-10],\n",
              "       [3.45567387e-05, 2.63675148e-09, 6.55184340e-06, 2.31584949e-07,\n",
              "        9.87851649e-08, 2.16232183e-05, 6.99736846e-09, 5.02136501e-08,\n",
              "        9.99898195e-01, 3.86517313e-05]], dtype=float32)"
            ]
          },
          "metadata": {
            "tags": []
          },
          "execution_count": 68
        }
      ]
    },
    {
      "cell_type": "code",
      "metadata": {
        "id": "-VXFuTSOod1c",
        "colab_type": "code",
        "colab": {
          "base_uri": "https://localhost:8080/",
          "height": 34
        },
        "outputId": "73a45139-dee2-49d3-c1b6-68898b5b409a"
      },
      "source": [
        "# you can make submission with answers so far to check yourself at this stage\n",
        "grader.submit(COURSERA_EMAIL, COURSERA_TOKEN)"
      ],
      "execution_count": 49,
      "outputs": [
        {
          "output_type": "stream",
          "text": [
            "Submitted to Coursera platform. See results on assignment page!\n"
          ],
          "name": "stdout"
        }
      ]
    },
    {
      "cell_type": "code",
      "metadata": {
        "id": "ArLTDmHlod1e",
        "colab_type": "code",
        "colab": {}
      },
      "source": [
        ""
      ],
      "execution_count": null,
      "outputs": []
    }
  ]
}