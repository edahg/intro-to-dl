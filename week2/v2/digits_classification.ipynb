{
  "nbformat": 4,
  "nbformat_minor": 0,
  "metadata": {
    "kernelspec": {
      "display_name": "Python 3",
      "language": "python",
      "name": "python3"
    },
    "language_info": {
      "codemirror_mode": {
        "name": "ipython",
        "version": 3
      },
      "file_extension": ".py",
      "mimetype": "text/x-python",
      "name": "python",
      "nbconvert_exporter": "python",
      "pygments_lexer": "ipython3",
      "version": "3.6.5"
    },
    "colab": {
      "name": "digits_classification.ipynb",
      "provenance": [],
      "include_colab_link": true
    },
    "accelerator": "GPU"
  },
  "cells": [
    {
      "cell_type": "markdown",
      "metadata": {
        "id": "view-in-github",
        "colab_type": "text"
      },
      "source": [
        "<a href=\"https://colab.research.google.com/github/edahg/intro-to-dl/blob/master/week2/v2/digits_classification.ipynb\" target=\"_parent\"><img src=\"https://colab.research.google.com/assets/colab-badge.svg\" alt=\"Open In Colab\"/></a>"
      ]
    },
    {
      "cell_type": "code",
      "metadata": {
        "id": "a4TCn95uod0e",
        "colab_type": "code",
        "colab": {
          "base_uri": "https://localhost:8080/",
          "height": 204
        },
        "outputId": "679a81d2-1409-4e48-e452-071fb7fd700d"
      },
      "source": [
        "# set tf 1.x for colab\n",
        "%tensorflow_version 1.x\n",
        "! shred -u setup_google_colab.py\n",
        "! wget https://raw.githubusercontent.com/hse-aml/intro-to-dl/master/setup_google_colab.py -O setup_google_colab.py\n",
        "import setup_google_colab\n",
        "# please, uncomment the week you're working on\n",
        "# setup_google_colab.setup_week1()\n",
        "# setup_google_colab.setup_week2()\n",
        "# setup_google_colab.setup_week2_honor()\n",
        "# setup_google_colab.setup_week3()\n",
        "# setup_google_colab.setup_week4()\n",
        "# setup_google_colab.setup_week5()\n",
        "# setup_google_colab.setup_week6()"
      ],
      "execution_count": 39,
      "outputs": [
        {
          "output_type": "stream",
          "text": [
            "--2020-07-02 04:28:40--  https://raw.githubusercontent.com/hse-aml/intro-to-dl/master/setup_google_colab.py\n",
            "Resolving raw.githubusercontent.com (raw.githubusercontent.com)... 151.101.0.133, 151.101.64.133, 151.101.128.133, ...\n",
            "Connecting to raw.githubusercontent.com (raw.githubusercontent.com)|151.101.0.133|:443... connected.\n",
            "HTTP request sent, awaiting response... 200 OK\n",
            "Length: 3636 (3.6K) [text/plain]\n",
            "Saving to: ‘setup_google_colab.py’\n",
            "\n",
            "\rsetup_google_colab.   0%[                    ]       0  --.-KB/s               \rsetup_google_colab. 100%[===================>]   3.55K  --.-KB/s    in 0s      \n",
            "\n",
            "2020-07-02 04:28:40 (41.8 MB/s) - ‘setup_google_colab.py’ saved [3636/3636]\n",
            "\n"
          ],
          "name": "stdout"
        }
      ]
    },
    {
      "cell_type": "markdown",
      "metadata": {
        "id": "ICrWXDjNod0h",
        "colab_type": "text"
      },
      "source": [
        "# MNIST digits classification with TensorFlow"
      ]
    },
    {
      "cell_type": "markdown",
      "metadata": {
        "id": "c5SAU6A8od0i",
        "colab_type": "text"
      },
      "source": [
        "<img src=\"https://github.com/edahg/intro-to-dl/blob/master/week2/v2/images/mnist_sample.png?raw=1\" style=\"width:30%\">"
      ]
    },
    {
      "cell_type": "code",
      "metadata": {
        "id": "f8Gh7mrIod0i",
        "colab_type": "code",
        "colab": {
          "base_uri": "https://localhost:8080/",
          "height": 51
        },
        "outputId": "875b75db-c261-49ab-b12f-580ce1874233"
      },
      "source": [
        "import numpy as np\n",
        "from sklearn.metrics import accuracy_score\n",
        "from matplotlib import pyplot as plt\n",
        "%matplotlib inline\n",
        "import tensorflow as tf\n",
        "print(\"We're using TF\", tf.__version__)\n",
        "\n",
        "import sys\n",
        "sys.path.append(\"../..\")\n",
        "import grading\n",
        "\n",
        "import matplotlib_utils\n",
        "from importlib import reload\n",
        "reload(matplotlib_utils)\n",
        "\n",
        "import grading_utils\n",
        "reload(grading_utils)\n",
        "\n",
        "import keras_utils\n",
        "from keras_utils import reset_tf_session"
      ],
      "execution_count": null,
      "outputs": [
        {
          "output_type": "stream",
          "text": [
            "We're using TF 1.15.2\n"
          ],
          "name": "stdout"
        },
        {
          "output_type": "stream",
          "text": [
            "Using TensorFlow backend.\n"
          ],
          "name": "stderr"
        }
      ]
    },
    {
      "cell_type": "markdown",
      "metadata": {
        "id": "zjEEaqZuod0l",
        "colab_type": "text"
      },
      "source": [
        "# Fill in your Coursera token and email\n",
        "To successfully submit your answers to our grader, please fill in your Coursera submission token and email"
      ]
    },
    {
      "cell_type": "code",
      "metadata": {
        "id": "oDrH3Cu_od0l",
        "colab_type": "code",
        "colab": {}
      },
      "source": [
        "grader = grading.Grader(assignment_key=\"XtD7ho3TEeiHQBLWejjYAA\", \n",
        "                        all_parts=[\"9XaAS\", \"vmogZ\", \"RMv95\", \"i8bgs\", \"rE763\"])"
      ],
      "execution_count": 99,
      "outputs": []
    },
    {
      "cell_type": "code",
      "metadata": {
        "id": "dpKHlpMcod0u",
        "colab_type": "code",
        "colab": {}
      },
      "source": [
        "# token expires every 30 min\n",
        "COURSERA_TOKEN = \"894IrGuz8NHGG3MG\"\n",
        "COURSERA_EMAIL = \"edahg.g@gmail.com\""
      ],
      "execution_count": 98,
      "outputs": []
    },
    {
      "cell_type": "markdown",
      "metadata": {
        "id": "5OVXkBpkod0x",
        "colab_type": "text"
      },
      "source": [
        "# Look at the data\n",
        "\n",
        "In this task we have 50000 28x28 images of digits from 0 to 9.\n",
        "We will train a classifier on this data."
      ]
    },
    {
      "cell_type": "code",
      "metadata": {
        "id": "-454VTixod0z",
        "colab_type": "code",
        "colab": {
          "base_uri": "https://localhost:8080/",
          "height": 51
        },
        "outputId": "89424767-b889-4152-c3bd-caf829909a12"
      },
      "source": [
        "import preprocessed_mnist\n",
        "X_train, y_train, X_val, y_val, X_test, y_test = preprocessed_mnist.load_dataset()"
      ],
      "execution_count": null,
      "outputs": [
        {
          "output_type": "stream",
          "text": [
            "Downloading data from https://s3.amazonaws.com/img-datasets/mnist.npz\n",
            "10821632/11490434 [===========================>..] - ETA: 0s"
          ],
          "name": "stdout"
        }
      ]
    },
    {
      "cell_type": "code",
      "metadata": {
        "id": "wK1wNhiPod02",
        "colab_type": "code",
        "colab": {
          "base_uri": "https://localhost:8080/",
          "height": 683
        },
        "outputId": "526d0095-9e03-43b9-be23-ee9dbad4c0fe"
      },
      "source": [
        "# X contains rgb values divided by 255\n",
        "print(\"X_train [shape %s] sample patch:\\n\" % (str(X_train.shape)), X_train[1, 15:20, 5:10])\n",
        "print(\"A closeup of a sample patch:\")\n",
        "plt.imshow(X_train[1, 15:20, 5:10], cmap=\"Greys\")\n",
        "plt.show()\n",
        "print(\"And the whole sample:\")\n",
        "plt.imshow(X_train[1], cmap=\"Greys\")\n",
        "plt.show()\n",
        "print(\"y_train [shape %s] 10 samples:\\n\" % (str(y_train.shape)), y_train[:10])"
      ],
      "execution_count": null,
      "outputs": [
        {
          "output_type": "stream",
          "text": [
            "X_train [shape (50000, 28, 28)] sample patch:\n",
            " [[0.         0.29803922 0.96470588 0.98823529 0.43921569]\n",
            " [0.         0.33333333 0.98823529 0.90196078 0.09803922]\n",
            " [0.         0.33333333 0.98823529 0.8745098  0.        ]\n",
            " [0.         0.33333333 0.98823529 0.56862745 0.        ]\n",
            " [0.         0.3372549  0.99215686 0.88235294 0.        ]]\n",
            "A closeup of a sample patch:\n"
          ],
          "name": "stdout"
        },
        {
          "output_type": "display_data",
          "data": {
            "image/png": "[encoded data removed]",
            "text/plain": [
              "<Figure size 432x288 with 1 Axes>"
            ]
          },
          "metadata": {
            "tags": [],
            "needs_background": "light"
          }
        },
        {
          "output_type": "stream",
          "text": [
            "And the whole sample:\n"
          ],
          "name": "stdout"
        },
        {
          "output_type": "display_data",
          "data": {
            "image/png": "[encoded data removed]",
            "text/plain": [
              "<Figure size 432x288 with 1 Axes>"
            ]
          },
          "metadata": {
            "tags": [],
            "needs_background": "light"
          }
        },
        {
          "output_type": "stream",
          "text": [
            "y_train [shape (50000,)] 10 samples:\n",
            " [5 0 4 1 9 2 1 3 1 4]\n"
          ],
          "name": "stdout"
        }
      ]
    },
    {
      "cell_type": "markdown",
      "metadata": {
        "id": "UW09g5WZod04",
        "colab_type": "text"
      },
      "source": [
        "# Linear model\n",
        "\n",
        "Your task is to train a linear classifier $\\vec{x} \\rightarrow y$ with SGD using TensorFlow.\n",
        "\n",
        "You will need to calculate a logit (a linear transformation) $z_k$ for each class: \n",
        "$$z_k = \\vec{x} \\cdot \\vec{w_k} + b_k \\quad k = 0..9$$\n",
        "\n",
        "And transform logits $z_k$ to valid probabilities $p_k$ with softmax: \n",
        "$$p_k = \\frac{e^{z_k}}{\\sum_{i=0}^{9}{e^{z_i}}} \\quad k = 0..9$$\n",
        "\n",
        "We will use a cross-entropy loss to train our multi-class classifier:\n",
        "$$\\text{cross-entropy}(y, p) = -\\sum_{k=0}^{9}{\\log(p_k)[y = k]}$$ \n",
        "\n",
        "where \n",
        "$$\n",
        "[x]=\\begin{cases}\n",
        "       1, \\quad \\text{if $x$ is true} \\\\\n",
        "       0, \\quad \\text{otherwise}\n",
        "    \\end{cases}\n",
        "$$\n",
        "\n",
        "Cross-entropy minimization pushes $p_k$ close to 1 when $y = k$, which is what we want.\n",
        "\n",
        "Here's the plan:\n",
        "* Flatten the images (28x28 -> 784) with `X_train.reshape((X_train.shape[0], -1))` to simplify our linear model implementation\n",
        "* Use a matrix placeholder for flattened `X_train`\n",
        "* Convert `y_train` to one-hot encoded vectors that are needed for cross-entropy\n",
        "* Use a shared variable `W` for all weights (a column $\\vec{w_k}$ per class) and `b` for all biases.\n",
        "* Aim for ~0.93 validation accuracy"
      ]
    },
    {
      "cell_type": "code",
      "metadata": {
        "id": "jZ5RRRIMod05",
        "colab_type": "code",
        "colab": {
          "base_uri": "https://localhost:8080/",
          "height": 51
        },
        "outputId": "77e6de50-be90-4bb9-ea58-2bdddc80473e"
      },
      "source": [
        "X_train_flat = X_train.reshape((X_train.shape[0], -1))\n",
        "print(X_train_flat.shape)\n",
        "\n",
        "X_val_flat = X_val.reshape((X_val.shape[0], -1))\n",
        "print(X_val_flat.shape)"
      ],
      "execution_count": 83,
      "outputs": [
        {
          "output_type": "stream",
          "text": [
            "(50000, 784)\n",
            "(10000, 784)\n"
          ],
          "name": "stdout"
        }
      ]
    },
    {
      "cell_type": "code",
      "metadata": {
        "id": "P2V61VTdod07",
        "colab_type": "code",
        "colab": {
          "base_uri": "https://localhost:8080/",
          "height": 85
        },
        "outputId": "31700686-4496-445a-d2f0-b3e4844b758c"
      },
      "source": [
        "import keras\n",
        "\n",
        "y_train_oh = keras.utils.to_categorical(y_train, 10)\n",
        "y_val_oh = keras.utils.to_categorical(y_val, 10)\n",
        "\n",
        "print(y_train_oh.shape)\n",
        "print(y_train_oh[:3], y_train[:3])"
      ],
      "execution_count": 84,
      "outputs": [
        {
          "output_type": "stream",
          "text": [
            "(50000, 10)\n",
            "[[0. 0. 0. 0. 0. 1. 0. 0. 0. 0.]\n",
            " [1. 0. 0. 0. 0. 0. 0. 0. 0. 0.]\n",
            " [0. 0. 0. 0. 1. 0. 0. 0. 0. 0.]] [5 0 4]\n"
          ],
          "name": "stdout"
        }
      ]
    },
    {
      "cell_type": "code",
      "metadata": {
        "id": "jlHwihRWod0-",
        "colab_type": "code",
        "colab": {}
      },
      "source": [
        "# run this again if you remake your graph\n",
        "s = reset_tf_session()"
      ],
      "execution_count": 93,
      "outputs": []
    },
    {
      "cell_type": "code",
      "metadata": {
        "id": "jCL2EAdIod1A",
        "colab_type": "code",
        "colab": {}
      },
      "source": [
        "# Model parameters: W and b\n",
        "W = tf.get_variable(name='W', shape=(784,10), trainable=True, dtype=tf.float32)  ### YOUR CODE HERE ### tf.get_variable(...) with shape[0] = 784\n",
        "b = tf.get_variable(name='b', shape=(10), trainable=True) ### YOUR CODE HERE ### tf.get_variable(...)"
      ],
      "execution_count": 94,
      "outputs": []
    },
    {
      "cell_type": "code",
      "metadata": {
        "id": "-Qqpy2nmod1C",
        "colab_type": "code",
        "colab": {}
      },
      "source": [
        "# Placeholders for the input data\n",
        "input_X = tf.placeholder(dtype=tf.float32, shape=[None, 784]) ### YOUR CODE HERE ### tf.placeholder(...) for flat X with shape[0] = None for any batch size\n",
        "input_y = tf.placeholder(dtype=tf.float32, shape=[None, 10]) ### YOUR CODE HERE ### tf.placeholder(...) for one-hot encoded true labels"
      ],
      "execution_count": 95,
      "outputs": []
    },
    {
      "cell_type": "code",
      "metadata": {
        "id": "2unRPIThod1E",
        "colab_type": "code",
        "colab": {
          "base_uri": "https://localhost:8080/",
          "height": 34
        },
        "outputId": "5079311d-1c9b-4e5f-cf4f-86ff1c3271e7"
      },
      "source": [
        "# Compute predictions\n",
        "logits = tf.matmul(input_X,W) + b ### YOUR CODE HERE ### logits for input_X, resulting shape should be [input_X.shape[0], 10]\n",
        "probas = tf.nn.softmax(logits) ### YOUR CODE HERE ### apply tf.nn.softmax to logits\n",
        "classes = tf.argmax(probas, axis=1) ### YOUR CODE HERE ### apply tf.argmax to find a class index with highest probability\n",
        "\n",
        "# Loss should be a scalar number: average loss over all the objects with tf.reduce_mean().\n",
        "# Use tf.nn.softmax_cross_entropy_with_logits on top of one-hot encoded input_y and logits.\n",
        "# It is identical to calculating cross-entropy on top of probas, but is more numerically friendly (read the docs).\n",
        "loss = tf.reduce_mean(tf.nn.softmax_cross_entropy_with_logits(labels=input_y, logits=logits)) ### YOUR CODE HERE ### cross-entropy loss\n",
        "\n",
        "# Use a default tf.train.AdamOptimizer to get an SGD step\n",
        "step = tf.train.AdamOptimizer().minimize(loss) ### YOUR CODE HERE ### optimizer step that minimizes the loss\n",
        "s.run(tf.global_variables_initializer())\n",
        "logits.shape"
      ],
      "execution_count": 96,
      "outputs": [
        {
          "output_type": "execute_result",
          "data": {
            "text/plain": [
              "TensorShape([Dimension(None), Dimension(10)])"
            ]
          },
          "metadata": {
            "tags": []
          },
          "execution_count": 96
        }
      ]
    },
    {
      "cell_type": "code",
      "metadata": {
        "scrolled": false,
        "id": "XAUIUYEZod1H",
        "colab_type": "code",
        "colab": {
          "base_uri": "https://localhost:8080/",
          "height": 309
        },
        "outputId": "f2187fc0-764d-4df1-da5f-bb74fba4a5cf"
      },
      "source": [
        "s.run(tf.global_variables_initializer())\n",
        "\n",
        "BATCH_SIZE = 512\n",
        "EPOCHS = 40\n",
        "\n",
        "# for logging the progress right here in Jupyter (for those who don't have TensorBoard)\n",
        "simpleTrainingCurves = matplotlib_utils.SimpleTrainingCurves(\"cross-entropy\", \"accuracy\")\n",
        "\n",
        "for epoch in range(EPOCHS):  # we finish an epoch when we've looked at all training samples\n",
        "    \n",
        "    batch_losses = []\n",
        "    for batch_start in range(0, X_train_flat.shape[0], BATCH_SIZE):  # data is already shuffled\n",
        "        _, batch_loss = s.run([step, loss], {input_X: X_train_flat[batch_start:batch_start+BATCH_SIZE], \n",
        "                                             input_y: y_train_oh[batch_start:batch_start+BATCH_SIZE]})\n",
        "        # collect batch losses, this is almost free as we need a forward pass for backprop anyway\n",
        "        batch_losses.append(batch_loss)\n",
        "\n",
        "    train_loss = np.mean(batch_losses)\n",
        "    val_loss = s.run(loss, {input_X: X_val_flat, input_y: y_val_oh})  # this part is usually small\n",
        "    train_accuracy = accuracy_score(y_train, s.run(classes, {input_X: X_train_flat}))  # this is slow and usually skipped\n",
        "    valid_accuracy = accuracy_score(y_val, s.run(classes, {input_X: X_val_flat}))  \n",
        "    simpleTrainingCurves.add(train_loss, val_loss, train_accuracy, valid_accuracy)"
      ],
      "execution_count": 97,
      "outputs": [
        {
          "output_type": "display_data",
          "data": {
            "text/html": [
              "<img src=\"data:image/jpeg;base64,/9j/4AAQSkZJRgABAQEASABIAAD/2wBDAAIBAQEBAQIBAQECAgICAgQDAgICAgUEBAMEBgUGBgYFBgYGBwkIBgcJBwYGCAsICQoKCgoKBggLDAsKDAkKCgr/2wBDAQICAgICAgUDAwUKBwYHCgoKCgoKCgoKCgoKCgoKCgoKCgoKCgoKCgoKCgoKCgoKCgoKCgoKCgoKCgoKCgoKCgr/wAARCAEgA2ADASIAAhEBAxEB/8QAHwAAAQUBAQEBAQEAAAAAAAAAAAECAwQFBgcICQoL/8QAtRAAAgEDAwIEAwUFBAQAAAF9AQIDAAQRBRIhMUEGE1FhByJxFDKBkaEII0KxwRVS0fAkM2JyggkKFhcYGRolJicoKSo0NTY3ODk6Q0RFRkdISUpTVFVWV1hZWmNkZWZnaGlqc3R1dnd4eXqDhIWGh4iJipKTlJWWl5iZmqKjpKWmp6ipqrKztLW2t7i5usLDxMXGx8jJytLT1NXW19jZ2uHi4%2BTl5ufo6erx8vP09fb3%2BPn6/8QAHwEAAwEBAQEBAQEBAQAAAAAAAAECAwQFBgcICQoL/8QAtREAAgECBAQDBAcFBAQAAQJ3AAECAxEEBSExBhJBUQdhcRMiMoEIFEKRobHBCSMzUvAVYnLRChYkNOEl8RcYGRomJygpKjU2Nzg5OkNERUZHSElKU1RVVldYWVpjZGVmZ2hpanN0dXZ3eHl6goOEhYaHiImKkpOUlZaXmJmaoqOkpaanqKmqsrO0tba3uLm6wsPExcbHyMnK0tPU1dbX2Nna4uPk5ebn6Onq8vP09fb3%2BPn6/9oADAMBAAIRAxEAPwD9/KKKKACiiigAooooAKKKKACiiigAooooAKKKKACiiigAooooAKKKKACiiigAooooAKKKKACiiigAooooAKKKKACiiigAooooAKKKKACiiigAooooAKKKKACiiigAooooAKKKKACiiigAooooAKKKKACiiigAooooAKKKKACiiigAooooAKKKKACiiigAooooAKKKKACiiigAooooAKKKKACiiigAooooAKKKKACiiigAooooAKKKKACiiigAooooAKKKKACiiigAooooAKKKKACiiigAooooAKKKKACiiigAooooAKKKKACiiigAooooAKKKKACiiigAooooAKKKKACiiigAooooAKKKKACuN%2BOP7QHwm/Zx8JW/jT4veJ5dPtL7U4dN0u2stLub%2B91K9lDGO1tLO0jluLudlR2EUMbvtR2xhWI7KvFv2u/gP8VPiX4h%2BGfxl%2BBd14fl8X/CrxjPrWmaJ4tu57bTdYhudLvdMubaW4ghmktH8q9aSOdYZtrR7TGyu2ACjpH/AAUr/Y71rxm3w8tvHviCDW7fSodU1bTtR%2BHOvWkmi2EhuAt3qXn2SDTIAbWcNLdmFEKYYqWUGbwn/wAFH/2NfGfg/wAQ%2BOtM%2BLFza6f4Y0e11fVBrnhPVdMuJNPuXMdreWtvd2sU19bzyAxwy2ySpM5CRlmIB86vP2GPjP8AHW0/aRP7Qt74V8My/tB/CPTvBskfgrWLrUzo7RWusWsr%2BbcWtqZ1VNRiZDsXeyygogxuy9Y/Y2/at%2BM%2Btaz8UP2lPh38G9X1e0%2BE6eBtB8E6d4n1QaRrSy6jaXt5fXd2bBJ9PYmyg%2BzxQw3BtnDP50hIwAeyX/7fP7N2k%2BAbH4h6tdeOLSHVPED6Jpeh3Xwj8SR67e3yW5uXjh0dtPGoShYAZTIluUCKzFsA49P8JeOfDfjbwTY/EPRbi5i0rULBbyCTVNPnsZY4iu7MsFykcsDAfeSRVZSCGAIIr41tv2Gf2tJfgpJ4W8feGPCnjS%2Bh%2BIcut%2BC9B1n9ofxXb3fgOxOmxWoi0/xbHp7atcSGUXcreZDGBHeGENsjGfUvB/7Bmq%2BKfgJo3hb9pz46%2BOPEfj5PhtdeFtf8Q6T8Q9at9Muhc2tzbyTPpa3SWN5MiXTBbq4tmmdoopWKuibADc8Mf8FJP2MvF/h7xJ4s0b4tXK6Z4W8GXni6/vr7wlqtpFe6BaruuNU09p7VBqtogK5nsvPQmSMAkyIG4n40f8FdP2YfAf7M/wATf2gfhW%2Bs%2BM7v4b%2BDYfEjeGW8L6xps2r2Nw7R2t3avNYFrixlkRh9vgjmtkVWdnCqSPHfC/8AwSh%2BNC/BPxf8LPFnh3w9J4h/4UL4j8A%2BC/Hmo/tD%2BNvECSXGpWEdp5h0jVUkttGtpDDE8scEl0yeVGqFggz6P%2B1L/wAE5vih%2B0BYeKtE0Pxj4d0q2179le%2B%2BGlrLM87GDVpLiOWGdo1iANqNhBIbzBnhO9AHqkv/AAUU/ZZt/E3hrwJeav41tvEni7TpdQ0HwpefCTxLDq8tnFd/Y5LmSwk08XNvCkxG6SaNEVGWUkRsrmXwN/wUT/Y7%2BJGqarpXhD4tyXB0rQ9Q1lbufw1qVvaapp1iwS8u9NuZrdYdVhhYqHeyedVLqCfmGcXwR8APjz4x/apsf2oPjn4f8HeH5JPg5f8Ag/VNE8J%2BK7vVTBcy6tHcpJDcz6fZl4mgiUsTGjJIdoV1USHwGb9hz9pf4bfs8%2BF/Cnxo1rwIPCP7N3wP8SaB4L1PwrfXcmpeKd2hHTLe4vbeW2ii04JZozSQxS3QknZXDxqgQgH0D4U/4Kl/sL%2BNPBus/ELQ/jLdrouheDj4tutRv/BmsWcdzoIKB9Vs/PtEN/ZxmRBJPbCWOLcPMZc167a/GD4c3vxcuPgVZ%2BIxN4qtPDUGv3emRWsrCHTp55beGd5QnlL5ksE6ohfe3kyEKQjEfFX7I/7P3xC8WfBL4Q/Hb9t/Uvhlovww%2BG/7L9z4fgk07W5wmr6bqmnaWby%2B1X7VBDDpkEVppyq0CS3CZleRplWNVrsP%2BCK3wr8d6P8As76n8evit4tbxFrHjW%2Bg03w54hlgaOS%2B8I6JF/ZWiXBD8/6VDDNqhPd9WcgKCFAB9lUUUUAFFFFABRRRQAUUUUAFFFFABRRRQAUUUUAFFFFABRRRQAUUUUAFFFFABRRRQAUUUUAFFFFABRRRQAUUUUAFFFFABRRRQAV4jpH/AAUY/Y91K716z1P4pXnh5vDnhy58QahJ418I6roMc2k27pHPf2smpWsC31ujyRK0tsZUBljGcuufab2K5ms5YbO6EEzxMsUxj3%2BWxHDbT1wecd6/MTV/%2BCOX7cvxf1bwvrnxu%2BOOhvrfhrwfqFnqHijUPit4m8TjxDrf2zSr611E6XfRQ2Wk20lzpi%2BfYWQCiOTassgVAoB9sv8At/8A7MNr8NG%2BLGseIPFWlaW2uQaNY2eufDLX7DVNTv5kMkMFlptxYpe37SIGdfs8MgZUdgSEYjovAf7VnwP%2BI%2Bv2XhPw54h1SHV7/wAKT%2BJIdI1rwrqWmXaabDd/ZJZZYby3ikgdZ/kMMirL32bea8m%2BJ3wc/bd%2BMTfD342654N%2BFWh/EP4UeOptY8P%2BGbXxxqV/ouuWdxpN3plzHcXz6VDNYzFL2SSN0tbgRmIKfMEjYq/En4Dftwa/8ZfDv7TXgfRvhXaeLL74Yar4L8Y6FqXivUpLDSFuL%2BG6tb%2ByuE04SagYhG6yW8sVoJS4xLFjkA7jSf8Ago3%2ByB4j17wL4W8K/EbVdZ1P4k%2BDdK8W%2BDdO0TwPrN7PeaHqL7LXUZEgtGa1t92PMknEa24ZTN5QYE7Hw1/bc/Zu%2BK/xGufhP4Z8X6tZ6/b6Xc6nDZeJ/BmraIt/Y28iRz3dlLqNrBHfwRvLEHltmkRfMQkgMpPlH7Cn7CXxY/Zh1/4caz488QeGrs%2BDv2UvCPwxv30i5nlZtW0t5muZovMgj3Wrb02MxV22/NGmBXjXw0/4JV/tjeJ/ij4X8TftTfGGz1SLT/AHivwv408TQfF/xJrV54il1exS2/tO10y%2Bhj0/QjlSxtLRSi5UCZxGq0AfUvhP/gov%2ByP410WPxVoPjvXP7DuNV0vT9P8AEt78P9btdK1GXUr2OyspLS%2Bns0tryCW5mijFxBI8IMqFnCsCfS/C3xd%2BHnjX4geKfhd4X8Q/a9c8FyWcfie0S0mC2Ml1B9ogjMrII3doSshRGZkWSMsFEibvmHxx4E%2BIvhX/AIJ7eNPgR/wUM8T/AAq8EeAtB%2BGkWgW3xM8O%2BLbsM06RpbWupPaXVnAmmzLMLeSGCO4umM5REcnaG7X/AIJX/D74seG/2RNK%2BKv7RVglv8TvixfS%2BOviJCtu0X2e/v1jMNpsb5k%2By2MdlZ7TkgWuDQB9G0UUUAFFFFABRRRQAUUUUAFFFFABRRRQAUUUUAFFFFABRRRQAUUUUAFFFFABRRRQAUUUUAFFFFABRRRQAUUUUAFFFFABRRRQAUUUUAFeL/Hrx/8AtF/8NF%2BBfgR8BfGfgrw%2Bmv8AgrxLr2r6n4v8F3etEnTrvQ7eGGGO31Kx8sN/akrMzM%2BfLQALyT7RXhXxF1pLL/gpV8IdFkUYvfgn8Q2Rs87o9W8GnH5Mx/Ck2luXCEqjtHs392rL/wDwg/8AwUL/AOjoPgz/AOGH1b/5qKP%2BEH/4KF/9HQfBn/ww%2Brf/ADUV7NRTIPGf%2BEH/AOChf/R0HwZ/8MPq3/zUUf8ACD/8FC/%2BjoPgz/4YfVv/AJqK9mooA8Z/4Qf/AIKF/wDR0HwZ/wDDD6t/81FH/CD/APBQv/o6D4M/%2BGH1b/5qK9mooA8Z/wCEH/4KF/8AR0HwZ/8ADD6t/wDNRR/wg/8AwUL/AOjoPgz/AOGH1b/5qK9mooA8Z/4Qf/goX/0dB8Gf/DD6t/8ANRR/wg//AAUL/wCjoPgz/wCGH1b/AOaivZqKAPGf%2BEH/AOChf/R0HwZ/8MPq3/zUUf8ACD/8FC/%2BjoPgz/4YfVv/AJqK9mooA8Z/4Qf/AIKF/wDR0HwZ/wDDD6t/81FH/CD/APBQv/o6D4M/%2BGH1b/5qK9mooA8Z/wCEH/4KF/8AR0HwZ/8ADD6t/wDNRR/wg/8AwUL/AOjoPgz/AOGH1b/5qK9R8ZjfoYgYnZNfWkUoBxuR7mNWX6FSQfY15jr/AO1B/wAE/fCmu3vhbxT%2B0R8HNN1PTbuS11HTtQ8XaVDPazxsUkikjeUMjqwKsrAEEEEZFZVa9Cgk6k1G/dpfm0d2ByvM80nKGCw9Sq4q7VOE6jS2u1CE2lfS7SV9L30Gf8IP/wAFC/8Ao6D4M/8Ahh9W/wDmoo/4Qf8A4KF/9HQfBn/ww%2Brf/NRVf/hr/wD4Jwf9HRfBH/wttH/%2BO1b0D9qD/gn74r12y8LeFv2iPg5qWp6ldx2unadp/i3Spp7qeRgkcUcaSlndmIVVUEkkADJrJY7At2VWH/gcf/kj0J8K8U04Oc8vxCSTbboV0klq226CSSSbbbSSTbaSbGf8IP8A8FC/%2BjoPgz/4YfVv/moo/wCEH/4KF/8AR0HwZ/8ADD6t/wDNRWj%2B1X8S/hV%2Byh%2Bzf41/aS8U/C5dW0/wV4euNVutN0jRBNcXKxLnYixxsRk4y5G1Fy7lVVmHP6T%2B1n%2Bx/rnjeX4a6X4a1%2BXxDbeHF17UNF/4U1rq3Wn2Dx3bxS3UbaeGtWl%2Bw3KxRzBJJnjEcau7ordR4Jf/AOEH/wCChf8A0dB8Gf8Aww%2Brf/NRR/wg/wDwUL/6Og%2BDP/hh9W/%2BaiqWmftOfsweJpPDv/CK6ZYIdZ8dTeFb2w8S%2BEtR0fUbG%2Bj0a61cwtZXNgJklNrbrMq3C28bwyeYsrMYo5m/BT9r/wDYX/aC0abxH8NvE2l/2dF4f0/XUv8AxF4Ru9FgudLvmZbW9gk1G2gW5t5HUoJYi6h8ISGIFAF//hB/%2BChf/R0HwZ/8MPq3/wA1FH/CD/8ABQv/AKOg%2BDP/AIYfVv8A5qKb%2B0b8RG%2BFev8Ag/4afCD4AeGvF3jPxte3iaVpetaqukWMFrZ2rXFzcz3SWd06AfuYlVYXLSXEediB3WbwL8QrD43/ALLXh/8AaE%2BAnwJ0HUtU8UaFY6jpXhnxPeppkcLTmPzYbm6itrkxGANJuMcUu5oiFB3A0AR/8IP/AMFC/wDo6D4M/wDhh9W/%2Baij/hB/%2BChf/R0HwZ/8MPq3/wA1FeI%2BOv8AgofoPgfwX4Vv9c%2BA3wp0LWta%2BKmueBNan8bfE6PSfDun3umQXUsksOqnS5WuUka28lFa2hfzWZGCtGQe08U/tWaT4f8A2yfD/wCyEPhf8G7S91PwboOv3d54j%2BJq6fdXg1C91G3lt9Hs/wCy5DqrwLpzyZMlvv8APiBEeSwAO6/4Qf8A4KF/9HQfBn/ww%2Brf/NRR/wAIP/wUL/6Og%2BDP/hh9W/8AmorxqL/gpD8ILH9ozxV8GPFXwT8J2mneEX8RnW/sXiKK58R6VaaPatcyapqGjfY0%2ByadcKoFtc/aZPNNxa/IvnHZKv7c%2BqaJpr%2BGfiL%2Bxt4Z0Tx3qaeEZ/Cfh7/hLkm0%2B6tvEV3cWlmb2/OnqbOWGa0nW4jjguApMIiecyqAAewf8IP/AMFC/wDo6D4M/wDhh9W/%2Baij/hB/%2BChf/R0HwZ/8MPq3/wA1FeOXX7fuk6ppWn6L4B/Zl8Eaj4vt4PGs3jDS9S8bxWWl6Wvha8tbTUkt9Q/s%2BQ3cjveW8kKtBADEXaZrdkKVYf8A4KG/CXUtcsfFHhP4G%2BHJ/hubzwVZ6r4q1TWorPUo5vFP2X%2BzGttN%2ByOtzAPt1r5sjXEJX9/sSUwMCAet/wDCD/8ABQv/AKOg%2BDP/AIYfVv8A5qKP%2BEH/AOChf/R0HwZ/8MPq3/zUVxfjT9pHxD8JPiZq3gD4u/sp%2BD7ON/AXibxZ4RudA8WC/nvbTRnthIt9C%2BnQiwMovICjRvdIGLKzBggfiP8Ah4P4ct/2IU/bIufhd8CLu3u/FHh3R7aLQ/jKl3o%2BnnVL6ytGfU9UOjoLBrY3m%2BWMQS4WPlhu4APa/wDhB/8AgoX/ANHQfBn/AMMPq3/zUUf8IP8A8FC/%2BjoPgz/4YfVv/morkviV%2B0Hrnw9%2BDvw1%2BM%2Bnfs8fDPxNpPjDxr4d0LxJf%2BGPiALqy02HWdcsdItbvT7j%2Byx/agD38cpVltV2xuA5O0tgfFz9uTwF8Lv2xtP/AGT1%2BBXhG5uLzWdC0%2BOC88SxWviDU11Jypv9L0k2b/2hYWgDPdXH2iLyVt7k7G8kBwD0z/hB/wDgoX/0dB8Gf/DD6t/81FH/AAg//BQv/o6D4M/%2BGH1b/wCaivP/AIS/tZz/ABc8XW2h6X%2Byv4XstP8AGmgeItS%2BEGrXniUY1/8Asm7itmTUEXTydLFx58U8LRm8PkeYzqkiCFuQ0z/gpZ8Ibj4N6l4/vfhn8KpNQj%2BJUfgvQdX0n4kW9x4M1W7bTP7UluF8QPYxBLe2tY7v7Q32ZmjltJIlWRyoIB7f/wAIP/wUL/6Og%2BDP/hh9W/8Amoqh4H8cftWeDv2rPDnwR%2BN3xH%2BHvibRvE3w98Q65DN4V%2BHl9ot1aXWm32iW6Kz3Gr3ySxumqSkqERg0SENjIPW%2BDZ9J8Z/Aq2%2BJkvhjwha6heaE99Bc%2BC9YXVLAHYzRy2l8LeA3EZAVlk8tMg/drB8cf8pC/hf/ANkZ8ef%2BnbwhQB7NRRRQAUUUUAFFFFABXzj8JvFX7d/x10fXvHfhf43/AAk0DS7f4heKtD0vSr/4P6pf3EVrpevX%2BmQtLcJ4igWWR47NXZlijXc5AUACvo6vGf2D/wDkiGuf9lm%2BI/8A6mut0AH/AAg//BQv/o6D4M/%2BGH1b/wCaij/hB/8AgoX/ANHQfBn/AMMPq3/zUV7NRQB4z/wg/wDwUL/6Og%2BDP/hh9W/%2Baij/AIQf/goX/wBHQfBn/wAMPq3/AM1FezUUAeM/8IP/AMFC/wDo6D4M/wDhh9W/%2Baij/hB/%2BChf/R0HwZ/8MPq3/wA1FezUUAeM/wDCD/8ABQv/AKOg%2BDP/AIYfVv8A5qKP%2BEH/AOChf/R0HwZ/8MPq3/zUV7NRQB4z/wAIP/wUL/6Og%2BDP/hh9W/8Amoo/4Qf/AIKF/wDR0HwZ/wDDD6t/81FezUUAeM/8IP8A8FC/%2BjoPgz/4YfVv/moo/wCEH/4KF/8AR0HwZ/8ADD6t/wDNRXs1FAHjP/CD/wDBQv8A6Og%2BDP8A4YfVv/moo/4Qf/goX/0dB8Gf/DD6t/8ANRXs1FAHjP8Awg//AAUL/wCjoPgz/wCGH1b/AOaij/hB/wDgoX/0dB8Gf/DD6t/81FezUUAeM/8ACD/8FC/%2BjoPgz/4YfVv/AJqKP%2BEH/wCChf8A0dB8Gf8Aww%2Brf/NRXs1FAHjP/CD/APBQv/o6D4M/%2BGH1b/5qKP8AhB/%2BChf/AEdB8Gf/AAw%2Brf8AzUV7NRQB4z/wg/8AwUL/AOjoPgz/AOGH1b/5qKP%2BEH/4KF/9HQfBn/ww%2Brf/ADUV7NRQB4z/AMIP/wAFC/8Ao6D4M/8Ahh9W/wDmoo/4Qf8A4KF/9HQfBn/ww%2Brf/NRXrN54k8O6dL5Goa9ZQP8A3JrpFP5E1m658Vfhf4YsG1XxL8SNA061T79zfaxBDGv1Z2AFQ6lOO7S%2Ba/zIlVpwV5SS%2Ba/zPOP%2BEH/4KF/9HQfBn/ww%2Brf/ADUUf8IP/wAFC/8Ao6D4M/8Ahh9W/wDmoqn4l/4KY/8ABP3wnetp%2BsftheAGlX7wsfEUN0FPoTAXAPtnNc5qv/BYT/gmpo0RmvP2s9AcDqLS0u5z%2BUULE1xzzXK4fFXgv%2B34/wDyR5087yWm7TxNNf8AcSH/AMkdf/wg/wDwUL/6Og%2BDP/hh9W/%2Baij/AIQf/goX/wBHQfBn/wAMPq3/AM1FeYt/wW9/4JzXLEeH/i5rerqDjzNN8B6u6k%2BgLWy0n/D6j9ip%2BbeP4gzL2eP4c6iQfzirH%2B3cl/6CIf8AgSf5XMP9ZeH%2BmKpv0kn%2BSZ6f/wAIP/wUL/6Og%2BDP/hh9W/8Amoo/4Qf/AIKF/wDR0HwZ/wDDD6t/81FeYf8AD6L9jyT5bPQviXct/cg%2BG2oE/qgqpqf/AAWy/ZP0ZfM1P4cfFqBMZEk3w5uUUj/gRFJ57kyV/bx%2B9/5FQ4hyOpLlhiIt%2BV3%2BUGetf8IP/wAFC/8Ao6D4M/8Ahh9W/wDmoo/4Qf8A4KF/9HQfBn/ww%2Brf/NRXzz4j/wCDh79grw4h83QPiPcSD/lhF4VjjfPp%2B%2BuEH61yWpf8HJP7Mdwhfwf8B/Gt0P4f7W1HSrEn6j7VIRXNPinh6m7PEx%2BV3%2BSPaw1PGY6N8Lhq9Vf9O8Nipr74YWS/E%2Bs/%2BEH/AOChf/R0HwZ/8MPq3/zUUf8ACD/8FC/%2BjoPgz/4YfVv/AJqK%2BHde/wCDmPw7pTE2X7Htxcpn5CPiPalj%2BEVvJirfhT/g4m%2BI/jWUR%2BGP%2BCanirUwx%2BT%2ByfFM1yT%2BCabWC4x4ccuVVrvyjN/lFnrS4a4whQ9tLJ8cofzPBYpL75UYo%2B1/%2BEH/AOChf/R0HwZ/8MPq3/zUUf8ACD/8FC/%2BjoPgz/4YfVv/AJqK%2BXZ/%2BCxf7bOqWyyeEP8AgjJ8V5/MXKz3n29I/wAMaWQw/EVnH/gqJ/wVl1JydH/4JG67ApPyi9W%2ByPqWhStnxPlX2ed%2BlKr/APII86GCziqrwwNd/wDcJx/9LnA%2Bs/8AhB/%2BChf/AEdB8Gf/AAw%2Brf8AzUVb/ZW%2BI3xp8Yax8UPAnx01/wAL6tqngH4hRaHZ6r4T8NXOk291ay6Do%2Bpqz29xe3jLIsmoyoWEu0rGh2qc5%2BUtE/b1/wCC1HiBtun/APBLSwjyePt2sNbfrNMte0f8EyfFfxz8cN8c/FP7Sfwxs/BvjW6%2BMsJ1rw3YahHdRWe3wl4cSHbLG7q2%2BFYpDhjguQcEEDtwObYbMKjhTjNWV7yhKK%2B%2BSSv5GU6eMo1OSvQnT/xKK/KpPX5fM%2BoKKKK9MQUUUUAFFFFABRRRQAUUUUAFFFFABRRRQAUUUUAFFFFABRRRQAUVy3xt8EWPxG%2BFGu%2BDdS1/XtLgu7El77wzr91pd9HsIkHlXVpJHNCSUClo3VipYZGa8h/Zt8R6N4y/4JYfDPxz%2B0D8WtY06yvPgf4f1Xxl40l8WXFheqn9lW091dy6ikizxO2HZ5xIsnzMdwJzQB9D18u/tC6z/Zf/AAVn/Zmsd%2BP7S%2BGPxMt8euJPDEuP/IVdd/wT%2B0/4hR/CTW/Efim48Wp4b17xfc6j8NNK8e6td32t6d4deC3SBLya9d7kvLPHdXaR3DtNDFeRQybWiKL4L%2B1H8SvEl1/wW1/ZL8P6z8KPEGg2FnovxKs7PXdVudOe11sS6fpTb7Vba7lnRUaNAwuYoGPmLtDYbby4yfs6HN5x/GUV%2Bp7vDmG%2Bt5p7LvTrP/wGhWl/7afd1FFFdR4QUUUUAFFFFABRRRQAUUUUAFFFFABRRRQBl%2BMP%2BQTD/wBhWx/9K4q4XX/2Jv2MvFeu3vinxT%2ByP8MdS1PUruS61HUdQ8A6dNPdTyMXklkkeEs7sxLMzEkkkk5Nd14w/wCQTD/2FbH/ANK4q%2BdvH/8AwWU/4JufC/x3rfw08dftHfYdb8O6vc6ZrFl/wiGsS/Z7q3laKWPfHaMj7XRhuVipxkEjmuHHVstowi8ZKCTenPy2v5cyetuxUeJKnDf72GNeG59LqrKlzW1teNSne29m3be3U9E/4YH/AGFf%2BjLPhL/4bnTP/jFW9A/Ym/Yy8Ka7ZeKfC37I/wAMdN1PTbuO607UdP8AAOnQz2s8bB45Y5EhDI6sAyspBBAIORXjP/D83/gll/0dF/5ZOuf/ACFWv4B/4LKf8E3Pih470X4aeBf2jvt2t%2BItXttM0ey/4RDWIvtF1cSrFFHvktFRNzuo3MwUZySBzXnwxvDDmlGdG91a3s736W03vaxX/ETcTX/dPPJy5tLfW6rvfS1vrDve9rWd72s72fsv7TXwTsv2k/2dPHf7Peoa/LpMPjfwjqGhvqsEAlez%2B1W7wiYISA5QuG2kgNtxkZzXl/iL9ib4heP9B%2BLsvj34%2B2sXiT4t/DvTfDN9rXhPwrNpsOmyWY1ELcxRSX08jI4vwGiMwOImxIPMGz1z46/GHw5%2Bz78HvEfxv8ZaZqN1o3hXSpdT1lNKhSSeKziG6eYK7oGWOMPKwznbG20M2FPl/wAZ/wDgoh8Hfgtpfi7XNU8N6nqFj4K8W2fhvWNRHiDQdKtHv7jTYtRCQ3Gr6lZwybIJ4AwD798wVFfZIU94zPOvgj/wSmi%2BEXiKHxND8SfCFht%2BLg8cvoPgL4Xx6BpEDDwjeeHDZ21ql5KYQ32oXbSs8jM6MpHzh09C%2BBv7FHiH4BR%2BBLvwj8XLK5v/AAN8DdK%2BHVvLqHhd2hu/sckDG%2BaNLtWXesLAQhzsLg%2BY23a3KWv/AAUd0nxT4%2Bjv/BNxaXHgLXPBnwk13wjqsWhST3l1/wAJh4g1bTSsyPdwrHGIrOzKsAXgaSZ2S5wsFWPBv/BRo/Ez9orwf4I8IfB/xNZeAfEfgrxZr9p4s1TQlnbxDDpNxp0Mc%2Blx2VzNOY3%2B1St5U9uk8waBoUIJyAen/tG/ALxx8VPEHg/4mfB/4n6d4R8Z%2BCb28fStU1rw0%2Br2M9reWrW9zbT2qXVq7g/uZVZZkKyW8ed6F0bnLn9lL4veCv2Pk/ZP/Zx/aOh8Gzad4H07QfD/AI2vfCbahqNncRuRe6hIEvIEkknh4QIIvImZpd0o2xLu/tSfGj4gfD3RvAvhb4OJpEPij4k%2BN7fw7oWoeJ9LnuLLTc2V5qE9zPaxzW8s221sLgLEJYiZGQFlGai/Z5%2BMPxZ%2BPf7Nd94niTw7pnjzTtc8ReGbmd7GeXSf7V0nVrzSnulgEwmNtJLZmdYfO3hJAhk3AvQBieEv2a/2ifht%2BzzoPwM%2BF/xY%2BE%2BinRoJ7F5P%2BFOX9xp72DoAqJay68ZPP3F3knluJhMZGLx7iWOFrv7BHjW8%2BCHgH9kvQfjjpFv8LvBuheGNNurbUPA73XiK%2BGizQSxSRamL5ILZnNtDyLJ2jJkMbKWQx8T4j/bP/a80r4b%2BKYvDlv4Y8S6r4U%2BNln4Nu/HnhD4Sa7rOnXFgbGGe/uo9Fsb%2BW8eWzuJJLOXy7qRBJA%2BSrLJFHZ%2BLH7c/xS8LN8LPEvhf4y%2BDI/h54i8D6vq/jT4uH4IeINV0e3vLS706GOGRbTUUGhRsk980j38ziI2bK7KUcUAbl3/wTUm8U%2BM5bD4j/Ga21f4fx%2BLvF/iPT/DsHhU2%2BsG68RWuo2t7b3Wqm6cXFpHHqt2sMK20TKI7QNI4tl3W/Df7B3xQg8IeLF%2BJnxo8DeO/FHiDwdoHhG0u/Fvwma50RdF0q4uJkS80v%2B0h9tuZmu7lpZlnhjL%2BSUhRYtjweIf2yPjVp3x71S407T/CrfDLQPjJo3w11Kxk065bWrq81CwsZl1OK6FyIEhjutStbc2zW7MyRyy%2BcuVjrkviD/wUR%2BL37Ouv/F/Sfi3/AMI94kg%2BH3gRdbsL6HwDq3hGJb6W/wDsVvaltRubn%2B1LRnkjMmo2QMMIQgqzSIoAOj1H/gmZb237Nuk/s9eEdf8AhrGE13U9Z1vVvEPwag1JLe%2BvZGf7RotobyOHSHt1cxW24XSxxxxK6ylWZ9Tx3/wTb8D%2BNfFnw405YvAtr4J%2BGlpoEGiWz/DlZ/FCxaPPFcWlpHrsl0TDZtLb25khW23SKsiGUCU44zxP%2B2v%2B0XZ/Bzw9rvgPx/4e8TazL8WT4e8e6rpf7Nni15PCWm/2FdagpufDi351MStPHZqJ2dIjDfxOI8EMZPit/wAFIl0Lxl4O8B%2BDvjx4EtLCf4Xaf428U/Em6%2BG%2Bs6xpN5ZXVxJbRzQwWN4v9k2he2upJby8uXitVMCOZC7OoB6H8JP2Uf2jvh98Z/iP8ZvF/wC0R4J8T6j46S5h068u/hbdx3ujWaF/7M05Zf7ZeJ7K13szwpDC1xJJLK0iPISLHgz9l79ojwfr/jn4wxfH3wPN8R/HDaNBdamPhZcx6Fb2emrOsSjThq/nyXDfaZd1w17nCwqECxBS/wAafGz4%2B/DP9rjwP8Ldd8R%2BB9c8NePtR1VYfDukeHLyDWvD%2Bl2emzXJ1e4u2vZIriAXSWtm6i1g2yanBiRipV/DPhr/AMFTPiB8Sv2V/FP7Tvh7xJ4Pu7y48B2fivwh8P5vAGsafdabp11cRotw97dXSxeIhCkyiRdOjiDXCfZ43LyxkgHo3i79gD4ySfsxaH%2Bz98L/ANozwto97b/FWD4geI9b1r4Zz31ve6nF4pi8TLDaWdvqtqLK2%2B2xeWY2kncwMRv8zMx0fHX7Bvj7x98Wbzxlq3x60tdA8ReMvCXizxbo6%2BCHa%2Bk1TQHs5IE0%2B%2Ba%2BP2CzlksYWeB4bhwJbnZMrTs489uP26f2rdU/Y1%2BIPx88HXvgRtY%2BGvxBfTL6fxB8OtY0v%2B2NLS3s5WD6LdX6X2jXZku9irdSPuiiS5EbR3MQHuHx6%2BLvxw%2BGH7TfwS8KeHb3wpJ4F%2BIvjG98NeILG90a5fVo7iPw7rmrx3FvdLdLDFGG0qKNo3glLCZyHTaMgHI/C79g/wCI/wAJ/FNrregftA6VcWPgvRPEGnfCDTL3wO7DQF1a9hunbUHW/U6mIFgjt4RGLMiEyBzJIwlWpqP/AAT68deJLq7%2BKfi743eHLz4m/wDCz9O8caPrMPw8kj0Cwv7LSX0iMf2U2ovNLus5pw8hvRJ5jRurIIUQcvo//BR/xtbftbWvwP8AFmoeCd2ufEXxF4S034bQWdxb%2BI9JTTtN1DULTWb26kuWhNnfRaaxiAtogFvoCJpPKlFQ/sR/tt/tU/tg6R4l8OWl74J0rxEvgDw94h0S/wBV%2BG2s6bbaZc6hLdLPaNZ3d%2BJdctYktx5eqWcsNpcs5EZO1sAHvXwX%2BBKfs3fsx3fwqPiYaxcRnXdV1HUY7AWkU17qN7d6jc%2BTbh3FvAJ7uVYod7%2BXEqJubbuOd44/5SF/C/8A7Iz48/8ATt4QqX9mT4zeKP2jv2Avh7%2B0L43sLC11rx58HtJ8Rava6VE6WsN1e6VFcypCsju6xh5WChnZgoGWY8mLxx/ykL%2BF/wD2Rnx5/wCnbwhQB7NRRRQAUUVx3x4%2BNnhr9n74dS/ETxNpGp6pu1Kx0zTNF0SGOS91TUL26itLS0gWWSOPzJJ5o13SOkaAl3dEVmAB2NFeOw/tsfDJf2d9V/aF1bwn4l09dE19vD%2Bq%2BD7qzt21iDW/7QTTo9M2RTvA00t1LDHG6zGBxPHIJfLbfUGmftj3niPwlqGreC/2WfiVrfiHQfE0mheLPAlg2hrqmg3a2kN6PtMk2qR2TK9tdWkyGG5lLrdR4GdwUA9prxn9g/8A5Ihrn/ZZviP/AOprrdehfBz4seDPjx8JfDPxs%2BHV7NcaB4t0G01fRpri3aKR7a4iWWMvG3zI21hlTyDkHpXnv7B//JENc/7LN8R//U11ugD2aiiigAooooAKKKKACiiigAoryz9o39tf9lr9k2xS5%2BPfxm0nQ7mZQbXSN7XF/cAnAMdrCHmcZ43BdozyRXjjf8Fi/gTrII%2BF37PPxx8bMw/cjwx8LrmQSHtgytH1rz6%2Ba5bhqjp1KsVJdL3f3JSf4Hl4nO8owdV0q1eKmvs3vL7oqT/A%2BtqK%2BRR%2B01/wVO%2BNZ2fAr9g/w/8AD%2Bwl/wCPfXvjH4tyxB7tYWI8%2BMj0JNOH7JX/AAU1%2BKJ8740f8FJLfwxbP/rNE%2BF3gO3gC/7t7cEzD8VNY/2q6n%2B70Kk/Pl5F983H/wBJOf8Atp1v91w1Wp58vJH76jj%2BET64rI8VeP8AwH4Ft/tnjfxtpGjRYz5uq6lFbrj1zIwFfMH/AA6I8AeI/n%2BMP7Yn7QHjff8A6221z4myrbH2WOGNNo9s1Kn/AASZ/wCCVXwftz4l8Y/BHQE53Tan4z8UXdwshHUsbu5KfoBQ8Tm7V1QhFd5VP/kY/qaU6vEmKmoUMJFN7J1HJ/KNOnJv0R6J4x/4KS/sCeBHaLxF%2B1/8P/MQ4eKw8SwXjqfQrbs5B9iK4DWf%2BC2H/BNvT5PsGifHyfX9Qfi20vw/4U1O5muW/upi3CEn3YVgax%2B0Z/wQ6/ZoVo9L1D4KWs8XHl%2BD/DNpqVwzdNpNjDKxbPHJ%2BtWdI/4KUaz4ti%2Bxfsb/APBOL4q%2BLrdv9Rqd7ocHhvSpx22XNzkEfVBivNqZtiFLleJo83aEZ1H9yk/xsfa4Twx8X8fQVd4SNCk/t1acqMP/AAPFVcNF/JS9LFmL/gof%2B1j8Tn%2B1/szf8EtPiNrWndRqHxB12y8KCVOzRpc%2BYZAeMcjg5qU/tYf8FWJx5MP/AASXsYGbgTT/AB40l0X3IWLJ/Cm/8LC/4LQ/En5vDH7PPwW%2BGsD/AHk8Z%2BK7vWLiMex08CMsPfil/wCGaP8AgrF43%2Bbxp/wUg8NeFI2/1tn4K%2BFNtcgj0Wa7cOv1xmo9rmFXWEsRJ%2BVOlTXy59UdH/ELsTQ1zLifC0X1UKkatv8At3D4Wsv/ACrL1Eb4o/8ABZ/xSPJ0D9ln4L%2BFWk4SbxP42u75IvdhZqC34VW1P4Qf8FbddtjqnxG/4KEfDL4cxn7y%2BE/hvHfxJ7B9SdT%2BdWj/AMEw/iX4t4%2BMP/BTD496wjf6610DxHDo0Ev%2ByyQxN8vtmrOk/wDBFj/gnvHdDVfG3ws1jxhqOPm1Pxb4y1K7lb1yBOqH/vmj6nm1beM/%2B366j%2BFKnf8A8mD/AFH8OsP/AL9xHiq/lQw9SK/8CqVMOvml8jzXxP8ACzXrVGi/aB/4L8Xlrbf8vK6HfaF4cl%2BiukrFD9Aa8y8V%2BCP%2BCC%2Bkb7j4%2Bftn%2BIviZdr/AKy/1/4j6vq0z%2BvOnBQc%2Bwr7P8Nf8EyP%2BCfPhRlfSv2PfAMhT7p1Hw/Fef8ApQHzXpfhH4HfBXwBt/4QP4QeFtE2fc/sjw/bW236eWgxR/YeJqfxIUn/AInWq/8Apc0vwD/V7wQofxMPj8U/%2BnlTDwX/AJM8Q1/4Cz8zLLTv%2BCAN1H5fwt/Y0%2BIHjaM/cl8O%2BHPEl1v%2BhuJ0NaGi/D/9gJ79L34T/wDBCL44atOP9S/iXwpc2tpJ75ur2RCPcrX6mUVa4bi3q6a/w0Kf/tzkXGPg9hn%2B44YjK2zq4qb%2B9UsPTT%2B9HwL4Z0/9pieyXR/gZ/wQw%2BGHgq1P%2Br1Lxb4i0aNB7vbWsHnZ9Tkmuk0j9mb/AIKna7KNQm8Z/s4fDct9yHwZ8O5r%2BSIdstdBQW9ccelfa1FdkMjpL46s36csF90IR/M9GHGOV4FWyzIsBQt1dCVeX34irNfdD5I%2BSl/Yk/4KHeIVC%2BPP%2BCs%2BuiMjBtvDHwt0vTQg9FdWZj9SKX/h1v4y1j954z/4Ka/tK3Mh%2B%2BNI8fx6fG3/AABIGwK%2BtKK2/sTL38SlL1qVH/7ejf8A4ifxhD/d50aP/XvCYOH5YWR8ln/gjt8BNX%2BT4h/tAfHHxfEfvQeJPildSo318pYz%2Btanh3/gjH/wTS8NyfaIf2YbG9mJzJPq%2Bu6jeM59SJrhh%2BlfUFFUsjydO/1eDfmub/0pyIqeKXiRUg4LNsRGL6QqOkvuoxor8DxvQv8Agnd%2BwZ4cRV0z9jj4aEr917rwZZzuP%2BBSxsf1rq9J/Zi/Zr0EAaH%2Bzz4Gsgv3RaeErOPH/fMYruaK64YLBU/gpRXpGK/9tPnsTxPxNjH/ALRj68/8VatL86r/ACM3RvB3hHw7j/hH/Cum2OOn2Oxjix/3yBWlRRXQoxirJHjVKlSrLmnJt922397bYUUUUyArxn9l/wD5Lf8AtHf9lmsf/UK8L17NXjP7L/8AyW/9o7/ss1j/AOoV4XoA9mooooAKKKKACiiigAooooAKKKKACiiigAooooAKKKKACiiigAooooAxviD8Ovh98WvB198O/ip4E0bxN4f1SNY9S0LxBpcV7Z3aBg4WWGZWSQBlVgGB5UHqK47Sf2Mv2PtA%2BH1z8JNC/ZR%2BGtl4UvLJrO88M2ngXT49PntmmEzQvbLCI2jMqrIUK4LqGxkZr0qigDmPhR8E/g18B/Ds3g/4HfCTwx4M0m4vWvLjS/Cmg2%2BnW0twyIjTNHboitIUjjUuRkhFGcAV8Z/8FLNV/sL/AIKsfsQapuxu1Pxja5/67jRIsf8Aj1fedfnZ/wAFjL2XR/8AgoT%2BxJrycJa%2BPdRFw392KTU/DkbH/wAfrzM4lyZbOXblf/k9M%2B48N6CxPGmGov7arx%2B/C4v/ACR%2BidFFFemfDhRRRQAUUUUAFFFFABRRRQAUUUUAFFFFAGV4w/5BMP8A2FLH/wBK4q1ahv7C01O0exvoBJFIMMpJHfIORyCDggjkEVQ/4Q/Sf%2BfvVP8AweXf/wAdoA1aKy/%2BEP0n/n71X/weXf8A8do/4Q/Sf%2BfvVf8AweXf/wAdoAs69oWj%2BKNDvfDPiLTYrzT9RtJLW%2Bs7hN0c8MilHjYd1ZSQR6GvnXwT/wAEwfhR8NPhH4D%2BGHw8%2BNXxH0rUPh9rep6ppfjldT0%2B51u8lv0miuhdSXNlJBJuim8pXWFJY0hiEbptJP0D/wAIfpP/AD96r/4PLv8A%2BO0f8IfpP/P3qv8A4PLv/wCO0AeDeBv%2BCYnwD%2BH/AIa8PeFdE8W%2BMJLbw14a%2BHmh2DXepWzyPbeDdVu9U0tpG%2BzjdJLPeSrcNwHRUEYhYF2tfDb/AIJ3eBfhT8RNL%2BIHhL46/ERV8L%2BG9d0LwHoVxeabJYeFrPVZraaZLRDY75TE9pB5JunuNipsO5Plr2//AIQ/Sf8An71X/wAHl3/8do/4Q/Sf%2BfvVf/B5d/8Ax2gDmPjn8A9E%2BO/g3S/Dmr%2BNNd0TVNA1q11jw94s0B7VdR0zUIAyrcxCeCW3YtHJNE6SQvG8c0ilMHjB0P8AZM07wf8AAq4%2BAngH43eOtAsrzRdZtrzXtKu7EarNqWqXLXd1rf2iS0bZqBuJbmVWRVhD3Uh8k7YvL9F/4Q/Sf%2BfvVf8AweXf/wAdo/4Q/Sf%2BfvVf/B5d/wDx2gDyb4Y/saa38HPgPp3wC%2BG37XPxI0qw0aeH%2BxdWtdJ8Lrd2NrHEyfY1QaL9mkjct5jvJC8zSfN5vJBz9e/4J/8AhTVvghb/ALN%2BkfH/AOI2i%2BC7jTdRs/Fuj6Zd6WzeKhqFxNcahLe3M9hJcRS3Elxcl3s5LYjz22bMJt9p/wCEP0n/AJ%2B9V/8AB5d//HaP%2BEP0n/n71X/weXf/AMdoA8pu/wBhX4XXPxwX4xweMvFFtYN4ksvEl54Bt7m0Gh3muWlhHYW2pSKbc3Pmx28NuBGtwsBe2hkaIyLvOfff8E//AAR40fX7v45/Grx78RbzWvB1z4Xs7/xPcaZby6Lp1xNDcSraDTbG1RZWmtrSXz5VllDWkRDDBB9m/wCEP0n/AJ%2B9V/8AB5d//HaP%2BEP0n/n71X/weXf/AMdoA8m0L9jLVfCuja2/hb9rj4n2HinxR4gi1XxP49jh8PSanqhiso7OG2eKXSXsooEiii2iG2jbchYuWeQvz/iv/gmN8C9f%2BHum/C7QPHHjTw5osXgJ/BXiaDRdStWk8V6DI7yS2eoTXVtNJ87zXLGa3aCcG7n2yLv495/4Q/Sf%2BfvVf/B5d/8Ax2j/AIQ/Sf8An71X/wAHl3/8doA8s8D/ALGsPgL9p/xJ%2B1Dpn7Rfj66vPFTwJqvhfUINDl01bOCBorawhkOmC9t7SJnedYY7pQZpJJG3mSTdyFn/AMEtvgfB4YPg6/8AiV47vdO0vw1baB8PoJtQsY/%2BEF0621Cz1C2g0ww2iE%2BVc6dpzq159qfFhCjMyB1f6C/4Q/Sf%2BfvVf/B5d/8Ax2j/AIQ/Sf8An71X/wAHl3/8doA8K8bf8E6fDvjn4G%2BMPgvf/tM/Ey2uviH4pTXfHvja1/sI6trkqWdvZpBIJdLezghWCzs1C29tCw%2Byod2Xl8zd%2BK37G2ufFvxF8MPFesfte/E7T7/4WakNU0yfTLPw2P7W1E2F5p0l5eLLo8gMklpf3cTJAIIR5u5I0dUZfWP%2BEP0n/n71X/weXf8A8do/4Q/Sf%2BfvVf8AweXf/wAdoA878Tfsj%2BGviH8VP%2BFj/Fv4oeLPFun2i33/AAjvgvWHsI9J0KS8s5LK4mt/stpDcySNaz3MIa4nnKJdTBNu/jn/AIV/sIab8IdP1CTw3%2B0v8SrnXZPB9j4V8PeK9UfRp77w5pFpI0kVtaIdNFtIct88t3DcSybV3OSoI9k/4Q/Sf%2BfvVf8AweXf/wAdo/4Q/Sf%2BfvVf/B5d/wDx2gDzr4E/s62H7Jn7JNh%2BznoXxP8AE3ivR/B3hIaRoGoeLRYfbINPtrRYLe2LWNpbRusccaqHaMyNyXdjzVLxx/ykL%2BF//ZGfHn/p28IV6ifBmhvhZ2vpkyCYrjVrmRG9mVpCrD2IIry7xx/ykL%2BF/wD2Rnx5/wCnbwhQB7NRRRQAV5f%2B1v8ABvxn8Z/hhYWPw1vNMi8TeGvGGi%2BJdAj1ueSKyurjT7%2BG5NrPJFHI8STRpJD5qxyGIyCQJJs2N6hRQB82%2BDv2YPiuvwJ%2BIvgf4ufDPwF4n1P4ja5qHibVdFHjO/t9PTUZ7hPIsUuk0/z4o4Le3tCuoJGJvtCNItvFhcebW37Df7YHwz%2BAXinwP8Cp/CNhrfxa%2BJ51/wCKEN58VdbM1lpH9mWmntY6frk%2Bn3V5PdzRafbiS%2BnhSRPtFw0QjYQtH9t0UAcX4X%2BFum3HwF0r4Pa74Sg8JWcHh62019C8BeKLy2h0mKKNUW3sr63W0uEjjVAiSIsLbVHyr0rz/wD4J0%2BHrDwl%2BzdfeFtKuL6W2074t/EO2t5dT1Se9uXRPGetKDLcXDvNO5A5kkdnY5LMSSa90rxn9g//AJIhrn/ZZviP/wCprrdAHs1FFFABRRRQAVmeMPGvg74eeHbnxf4%2B8Waboek2Sb7zU9Xvo7a3gX1eSQhVH1NfNH7Rf7enjTxH8TLr9kX9gDwtZ%2BOPibH8niHX7lidB8FxklTNezLkPMMHEC5O5SCCy%2BW1bwb/AMEo/BPjPxDa/Ev9uz4w%2BI/jn4ogfzYbfxLN9m0Kxk7/AGbTISIlXkgh9yt12A15U8xq1qkqWChztaOTdoJ9r6uTXVRTts5J6LxKmbVsRVlRy%2Bn7RxdnNvlpxfVc1m5tdVBO2zknop/FX/BYH9mG71qfwX%2Bzd4b8afGjxDEdrab8NPC893DEx6GS5cJEsfq6lwBzWN/wgv8AwVQ/bF/e/Efx3pf7OXgq55Og%2BEJl1TxRcRH%2BGW%2BOIrUkYIeHDqchlr608LeEfCfgbRIfDPgnwxp2j6bbDFvp%2BlWUdvBEPRY4wFX8BXhXx%2B/4Kc/svfBDxN/wrDQdZ1H4hePZHMdr4C%2BHNidV1FpR1SQRHy4CDjIdgwByFNcuJpShT58yxNo/yx9xPyum6kvRNX7HrZLwXxVxfi/qtH2leVruFCLhBLq5zvzKC6ynVpQ7voav7N//AATp/ZO/Zf1I%2BLfAvw5Gq%2BK5XMl5438V3B1LWLmU/ekNxNkxse/lBAfSvTfib8Y/hL8FtCPif4v/ABM0Hwxp4zi81/VobSNiOymRhuPsMk18wL4f/wCCqf7YjCXxT4i0n9m7wTcHP9m6I6av4quoj2e4OIbTIwQY8SIcgg11fwx/4JJfsXeBdeHjjx54L1L4m%2BKDgz%2BJvinq8mt3MxHOWSb9xnPORHn3p4erXVP2eX4ZQh3n7i9eRJzfrLlbP0HDcF8E8LUlSzXMI8y3oYKEa0k%2B08RJww0Zd%2BV4hrrJsyNd/wCCxn7KmpanN4Z/Z58O%2BPfjBrELbGsPht4MurtUftumlWOML3LqWAHPNUx8Uv8Agrx%2B0AcfDj9nvwD8FNGl6an8QdbbWNUMfZ47a0Ajjf8A2JunPPSvrDQ9B0PwzpcWh%2BG9GtNPsrddsFnY2yxRRj0VFAAH0FW66PqOPr/7xiWl2ppQX/gT55/ijb/WrhLK/wDkUZNCUulTF1J4mXqqUfYYdP1jUXr1%2BR1/4JvftB/FA/aP2p/%2BClnxT18PzLpXgIW/hiyb/pmyW6uZFHuQTjNanhn/AIIzf8E8ND1Aa7r3wRn8Uanx5mo%2BLvEt/qEkn%2B8kk3ln/vivqSinHJMqTvOkpvvO83/5O5fkjOr4o8fODp4fHzw8HpyYdQw0bdrYenS09ZSOK%2BG/7Nv7PPwdCf8ACp/gV4Q8NNH92TQ/Ddtav9S0aAk%2B5Oa7WiivSp0qdKPLTikuySS/BI%2BKxeNxuYVnWxVWVSb3lOUpy%2B%2BUpP8AEKKKKs5gooooAKKKKACiiigAooooAKKKKACiiigAooooAKKKKACiiigArxn9l/8A5Lf%2B0d/2Wax/9QrwvXs1eM/sv/8AJb/2jv8Ass1j/wCoV4XoA9mooooAKKKKACiiigAooooAKKKKACiiigAooooAKKKKACiiigAooooAKKx/iB8RPh/8JvB1/wDET4p%2BOtG8M%2BH9LiEmp674g1OKys7RCwUNLNMypGCzKMsQMkDvTrTx94E1DwJF8UbDxrpM/hmfSV1WHxFDqUTWElg0XnC7W4DeWYTERIJA20r82cc0Aa1fnL/wXJ/0D47fAHxf0/4R5NV1Hf8A3dviLwgmf/Ilffnw1%2BKfwx%2BM/hC3%2BIPwe%2BI%2Bg%2BLNAu3dbTXPDWsQX9nMyMUcJNAzIxVgVODwQQeRXwP/AMF87ab%2BwNL1u1XM%2BkfCbxDfQ%2BxTxb4EBP8A3yxrys9/5E2IfaDf3Wf6H3/hS1/xEvJ4P7eIpw/8GOVP/wByH6LUUy1uIry2ju4G3RyoHRvUEZFPr1T4Fpp2YUUUUCCiiigAooooAKKKKACiiigAooooAKKKKACiiigAooooAKKKKACiiigAooooAKKKKACiiigAooooAKKKKACiiigArxnxx/ykL%2BF//ZGfHn/p28IV7NXjPjj/AJSF/C//ALIz48/9O3hCgD2aiiigAooooAKKKKACvGf2D/8AkiGuf9lm%2BI//AKmut17NXjP7B/8AyRDXP%2ByzfEf/ANTXW6APZqKKR3SNDJI4VVGWZjgAetACTTRW8TTzyqiIpZ3dsBQOSST0FfFfxK/aI%2BMv/BRnx1qf7Nv7C/ii48PfDjS7k2fxH%2BONsp/fH/lpp2jN/wAtJSDhrgHCg5UgFDJU%2BJfxG8f/APBVj4i6n%2Bzf%2Bzt4lvNE%2BBOgXptPid8S9ObZJ4nlX7%2Bj6Y/QxEcSzjIIPdCqz/Ynwz%2BGXgH4N%2BA9L%2BGPwv8ACtnomg6Narb6bpljFtjhQfqzE5ZmJLMxLEkkmvElUqZxJwpScaC0clo594xfSHSU1rLVRdryPnJVa2fzdOjJxwy0lNaOo1vGD6QW0prWWsYNLmmYH7OP7NHwY/ZQ%2BGVp8Jvgf4Ng0jS7b553Hz3F9OQA1xcSn5ppWxyx6DAACgAcd%2B1x%2B3Z8KP2UF0/wlcaff%2BLfH/iA%2BX4T%2BHPhmPz9U1SQ5CkooPkw5BzK4xhW2hypWuC/ad/ba%2BI3ir4oXH7GP7AmlWfiP4nFAvifxRcjfo/gaBjgz3b4KyXA52W4ydw%2BZWI8tu4/ZF/YO%2BGP7K8l947vdXvvGnxI8QDf4s%2BJHiVvO1HUJDjckZYn7PBkACJD0VQxbaCD6xOq/qmXJRjDRzt7sbfZitpSX/gMX8Tb90/ZMr4UyLhTLKOP4jg0pRUqGDg%2BSpUj9mdWSV8Ph3vF8vt6yu6UYwftn5QP2Wf27v22SNR/bY%2BMn/CsvBFx8w%2BEnwuv8XVxEf8AlnqOp8l8j5XjizGwORsNfRfwB/Zb/Z7/AGW/DI8JfAL4S6P4ZtGQLcSWFtm4usdDNO%2BZZj7uzGu%2Borrw2WYXDVPa2c6n88nzS%2BTfwryior1PNzvjfPc6wn1FOOHwid1h6EfZUU%2BjlGLvVl/frTqzfeOwUUUV6B8gFFFFABRRRQAUUUUAFFFFABRRRQAUUUUAFFFFABRRRQAUUUUAFFFFABRRRQAUUUUAFFFFABXjP7L/APyW/wDaO/7LNY/%2BoV4Xr2avGf2X/wDkt/7R3/ZZrH/1CvC9AHs1FFFABRRRQAUUUUAFFFFABRRRQAUUUUAFFFFABRRRQAUUUUAFFFFAHK/G7xF4e8JfCfXfEXinQtU1OytbItJZaL4au9YupHLAR%2BVZ2cM08zBypxHGxXG7gKSPkPwjbeKPiZ/wRk8E/BPQfhN47Hibw78J/CcfiPwfr3w/1XSrq8j0ptP/ALT0xUv7aESyyx21zAsWT5wcFdyNur7mooA8E/Yng1bXfGvxr%2BMkHg3XtB8N%2BO/iZb6l4Ws/Evh660i8uYYfD%2BkWM949leRxXFsJLm0nULLGjOIRLjEisfmf/gr94T%2BK%2Bp6t4oXxt4y8PaloUn7O/ji58NabpXheezu7BINd8GyyC5uJL2ZLsnYhDJDbhdpyGyNv6J18c/8ABT7Rv7f17U9MCbmb9kv4sSRr6ulx4VdR%2BaiuHNIe0yyvHvCf/pMj6rgXE/U%2BOMqr/wAuJw7/APK9L/M%2BnvgjrP8AwkfwX8IeId%2B77f4X0%2B43eu%2B2jbP611FeV/sL6z/wkP7FHwh1svlrn4Y6C8h/2/7Pg3D8816pW%2BFn7TC0594xf3xi/wBTy8/w31LPsZh/5K1WP/gNWrH/ANtCiiitzyQooooAKKKKACiiigAooooAKKKKACiiigAooooAKKKKACiiigAooooAKKKKACiiigAooooAKKKKACiiigAooooAK8Z8cf8AKQv4X/8AZGfHn/p28IV7NXjPjj/lIX8L/wDsjPjz/wBO3hCgD2aiiigArjvjx8bPDX7P3w6l%2BInibSNT1TdqVjpmmaLokMcl7qmoXt1FaWlpAsskcfmSTzRrukdI0BLu6IrMOxry/wDa3%2BDfjP4z/DCwsfhreaZF4m8NeMNF8S6BHrc8kVldXGn38NybWeSKOR4kmjSSHzVjkMRkEgSTZsYAzYf22Phkv7O%2Bq/tC6t4T8S6euia%2B3h/VfB91Z27axBrf9oJp0embIp3gaaW6lhjjdZjA4njkEvltvrHuf2/fB8ehw2ll8DvHt545k8azeFZfhXappJ1y21KLTV1WRZHbUBYLGNPeG6837WUKXEKhjLIsZx/B37MHxXX4E/EXwP8AFz4Z%2BAvE%2Bp/EbXNQ8Taroo8Z39vp6ajPcJ5Fil0mn%2BfFHBb29oV1BIxN9oRpFt4sLjz74Zf8E%2B/jr8C57L48fDGy8I3PxDk%2BKOpeKdY8J6/4/wBXu9MktbzQbfRTa/23c2lxfXE6pY2V0bqa2Jkk8%2BPZGjo0YB9X/B74reDvjp8K/D3xj%2BH13NNovibSINR01rmAxSrHKgYJJG3Mci5Kuh5VlZTyDXnv7B//ACRDXP8Ass3xH/8AU11utH4Bfs0RfDH9krw7%2BzT418UXt7NZaCttrur%2BHdVu9Jknu3Yy3MttNbSx3FspmeQpskDqhALHknA/4J0%2BHrDwl%2BzdfeFtKuL6W2074t/EO2t5dT1Se9uXRPGetKDLcXDvNO5A5kkdnY5LMSSaAPdK%2BSv%2BCinxX8dfFfxZoP8AwTb/AGdtbe18X/Ee1afxtrlr8x8MeF1bbc3LY%2B7JMMwxg9dxGVLo1fSfxe%2BJWhfBr4U%2BJfi34nbGneGNBu9UvfmwWjghaVlHuQuB7kV88f8ABK74O68nwmvP2zvjHL9u%2BJXxvMXiDXb6SPAstPdc2FhACSUhjgKMF65YA5CLjyMxlPE1Y4Gm7c6bm%2B0E7O3nNvlXZcz7HhZtKpjK0MtpO3tE5Ta3VNNJpf3pt8ifRc73SPoT4PfCPwD8Bvhhonwf%2BF%2BgxaboPh/T0tNOtIwMhFHLsf43Y5ZnPLMzMeSa%2Ba/2rf2mfix8fvi3c/sB/sMa59m8SLGP%2BFofEqEF7bwTYvw0UbKRvv5BlUQEFDnlWDPDvft/ftPfETw7f6H%2Bxv8AsqypcfGH4kRtHp9yDmPwxpfK3Gr3BGdgRQwjz95wSAxTY3p37Jf7Kfwy/Y9%2BD9n8J/hvbPKwY3Ou65d/Nd61fuB515cOSSzu3YkhRhRwBWdZyxlV4HDPlpwspyWltNKcLbO1uZr4YtJe9LT9kyHL8t4JySjn2YUYzr1E/qeHkk4Wj7v1qtB6OlCS5aFJq1epBylejSaqWP2X/wBln4O/sh/C62%2BFXwb8PfZbVG87UtRuG8y81W6I%2Be6uZcZllY9%2BijCqFUAD0WiivXo0aWHpKnTioxWiS2SPhMxzHH5tjqmNxtWVWtUblKcm3KUnu23/AMMkkkkkkiiiitDjCiiigAooooAKKKKACiiigAooooAKKKKACiiigAooooAKKKKACiiigAooooAKKKKACiiigAooooAK8Z/Zf/5Lf%2B0d/wBlmsf/AFCvC9ezV4z%2By/8A8lv/AGjv%2ByzWP/qFeF6APZqKKKACiiigAooooAKKKKACiiigAooooAKKKKACiiigAooooAKKKKACiiigAr5m/bH0b/hI/wBoXS/D2zd9v/Zm%2BKFvt9d934VXH619M14f8U9Mi1r9vL4daPPjZd/A/wCIEL59G1Twip/nWdWHtKUod0196a/U68BiHg8fRxC%2BxOEv/AZxl/7aZ/8AwSr1r%2B3v%2BCdfwgvt%2B7y/BlvbZ/64locf%2BOV9AV8q/wDBEzU5dS/4JkfDNLnIms49VtJkPVTFq14gH/fIFfVVcOTT9plGHl3pw/8ASUfVeJOGWE8Rc5or7OKxC/8AK1R/qFFFFekfFBRRRQAUUUUAFFFFABRRRQAUUUUAFFFFABRRRQAUUUUAFFFFABRRRQAUUUUAFFFFABRRRQAUUUUAFFFFABRRRQAV4z44/wCUhfwv/wCyM%2BPP/Tt4Qr2avGfHH/KQv4X/APZGfHn/AKdvCFAHs1FFFABRRRQAUUUUAFeM/sH/APJENc/7LN8R/wD1Ndbr2avGf2D/APkiGuf9lm%2BI/wD6mut0AeZ/8FgNb1XxJ%2Bz/AOGv2VfCt68WsfGr4gaV4VjeE/vILJp1nu5/9xY4grf7Mte1/tBfGP4f/sbfsya/8WdXtI7fRPBPh7Njp6PsErIqxW1qh7F5DFEvoWFeFa5/xkN/wWN0jR8efovwA%2BG8t/P3WLXdZIjRGHT/AI81DgnkFePWqv7XH/GZH7dXw%2B/YesP9I8I%2BAfK8e/FcLzHM0Z26Zp0nY75G8x4z96NlYfcr5mpiakZ4nE09ZykqNP1jpf0U5Sk/KDPS8NckwnEnF%2BIxWPusJQvKs1o1h8Muaok%2BkqtWaow7zqR/l067/gnJ%2BzT4t8EeF9R/at/aGmOo/F/4sRxan4pu54tp0i0ZQ1tpMCnJiihTYGUdXXBLBEI%2BmKKK93B4WlgsNGjDZdXu29W33bd233fodPEefY3ibOauY4qylN6RjpGnCK5adOC2jCnBRhCK2Ue7k2UUUV0niBRRRQAUUUUAFFFFABRRRQAUUUUAFFFFABRRRQAUUUUAFFFFABRRRQAUUUUAFFFFABRRRQAUUUUAFFFFABXjP7L/APyW/wDaO/7LNY/%2BoV4Xr2avGf2X/wDkt/7R3/ZZrH/1CvC9AHs1FFFABRRRQAUUUUAFFFFABRRRQAUUUUAFFFFABRRRQAUUUUAFFFFAGb4z8Y%2BFfh34P1b4geOdftdK0TQtNn1DWNUvZQkNnawxtJLNIx4VERWYnsAa5H4YftSfA/4u%2BBte%2BIvhPxbc22meFpZI/Ew8S6Fe6Lc6QUto7om6tdQhgngU28scwZ0VWjkV1JUg1Q/bU%2BEPir4%2BfsmfEP4O%2BBXtRrfiDwpeWujx30pS3mujGTFFKwBKxO4VHbBwrMcHGD5F4e8A/tKePk%2BPHxAuP2fZ/CGtfFfwwNK8J6F4zvdJv7awlstHeCGbVUs7ueN0uLq6kjEcJnzBbKZfLLiMAHtXwK/al%2BCn7SD6lbfCnX9TmudIt7S5v9P1zwtqOj3SW12JDa3Ig1C3gle3m8mby51UxuYZArEowHN%2BOP8AlIX8L/8AsjPjz/07eEK81/4Ju/s5/EP4I%2BM/Geu6v8JPGPgzw5qfhHwvpmn6Z8R/HNv4j1qbUrFdQW8lS8ivLwx6f5c9msFsZlSORbp47a3EreZ1N/4L8SeHv%2BCm3gvxFq3xc8Q67Z6t8HvHD2Gg6rbaclpooXVvCWUtmtrSKdw%2B4Z%2B0Szn5BtK/NkA5L/gjBmw/Y/1DwgeP%2BEe%2BJniTTtn93bqEj4/8iV9aV8l/8El/%2BJdonx98INx/Yv7TXiy3iT0iLW7qfodxr60ryci0yiiuyt90pr9D9A8VdfEXMqn89RT/APBlKhU/9yBRRRXrH5%2BFFFFABRRRQAUUUUAFFFFABRRRQAUUUUAFFFFABRRRQAUUUUAFFFFABRRRQAUUUUAFFFFABRRRQAUUUUAFFFFABXjPjj/lIX8L/wDsjPjz/wBO3hCvZq8Z8cf8pC/hf/2Rnx5/6dvCFAHs1FFFABRRXHfHj42eGv2fvh1L8RPE2kanqm7UrHTNM0XRIY5L3VNQvbqK0tLSBZZI4/MknmjXdI6RoCXd0RWYAHY0V45/w258LrX9mzXv2lde8L%2BI9LtvDGp3Gk6/4VvbW3/tay1WG8FmbBljna3MjTtGqSCcwMsqS%2Bb5bb65v/h4x4LltIdGsfgD8Q7jxrJ44vPCknw5QaMupw39rpiarMWuH1JdOaNbKWGXcl2xPmBAPMV0QA%2Bh68Y/YSdI/gdrskjhVX4y/EcsxOAB/wAJrrfNeg/Bb4teD/j58IPC3xw%2BH0ty%2BheMPD9nrOjveWxhlNtcwrNHvQ8q21xkdj3PWvB/hX4w/wCFef8ABP74vePvN8s6H4v%2BLl%2BHzjaYfFPiCTP/AI7UVaipUpTeyTf3Jv8AQzrVY0aMqktopv7k3%2Bhxv/BMbxbpcvwF%2BMP/AAUV8cMUg%2BJHjXWvEi3D8PFoOm%2BZb2sRz/zzWCfGexFdL/wSW8A69e/AvVv2vPiVGH8afHPXJPFGsSEE/ZrEsyafZoTyYo4MMnoJiOQBXhnjafWfhL/wQL%2BHfwi8JDy9f%2BKGg6J4c0KLp50%2BtTieRMDk7oJJ/wA6/Qb4d%2BCNG%2BGfw/0L4b%2BHItmn%2BH9HtdNsExjbDBEsSD/vlBXzOUUnUrUIy19lSUn/ANfK15N%2BvLf05j7DhyE8g8F6MtquZVkpPq6WHhGrNf4Z4rERb7ulFP4UjYooor6k%2BTCiiigAooooAKKKKACiiigAooooAKKKKACiiigAooooAKKKKACiiigAooooAKKKKACiiigAooooAKKKKACiiigArxn9l/8A5Lf%2B0d/2Wax/9QrwvXs1eM/sv/8AJb/2jv8Ass1j/wCoV4XoA9mooooAKKKKACiiigAooooAKKKKACiiigAooooAKKKKACiiigAooooAKKKKACvGfHH/ACkL%2BF//AGRnx5/6dvCFezV84/Gr4hW/hH/gqV%2Bz/wCErqQAeKvhP8SLG3U45miu/Cl2CP8Atnby8e/tUznGCvLy/F2/UipUjTjzS20X3tJfi0cz/wAE4f8AiUftE/tUeEOnk/GltR2/9fdpG%2Bfx2V9aV8l/sZf8Sf8A4KU/tc%2BFj8qnUPBuowj%2B95%2BkSFyP%2BBACvrSvLyXTAcvadRfdUn/mfofid73Fntf%2BfmHwc/8AwLBYZ/8AtoUUUV6x%2BfhRRRQAUUUUAFFFFABRRRQAUUUUAFFFFABRRRQAUUUUAFFFFABRRRQAUUUUAFFFFABRRRQAUUUUAFFFFABRRRQAV4z44/5SF/C//sjPjz/07eEK9mrxnxx/ykL%2BF/8A2Rnx5/6dvCFAHs1FFFABXl/7W/wb8Z/Gf4YWFj8NbzTIvE3hrxhoviXQI9bnkisrq40%2B/huTazyRRyPEk0aSQ%2BaschiMgkCSbNjeoUUAfKeo/sgftGeJ/wBl/wCJXwq16XwVbeIvib4ln8Ta3FBrl3PpkskuoQtJoMhazSRrKXTbWKzlvAokY3E7rbJhVPncn/BMr4m/8IRBo178BPgbq3hUfE7UfEifs56jqdwPBem21xo1vYRpbz/2S%2BZEuorq/wBn9npCZdSnwqyIs7feFFAHl/wN/Z%2B1jwV%2ByR4U/Zu%2BK/j3VNavtI8IWekazr2ja7fafczyRRKrNDdwzJdRgFcLJ5olKgbmJLE/J3xav7D4M/8ABEz402GlXt81ta%2BM/iHo1vNqeqT3ty6XHjrVbIebcXDvNO5EvMkjs7EksxJJr9Aa/OP9qz/ie/8ABOaP4Tfe/wCE%2B/a%2B8Q%2BH/K/56eZ8Q9Zm247/AOo/SvMzqbhlFdrfkkl6tcq/GSPH4hqSp5FiXHfkkl6yXKvxkjufiJ4P/wCEn/a%2B/ZK/Y4jizY/DLwe/jXxFaYz5f2G0jsdOfHbbchxz68V9x18jfsaf8Xo/4KHftG/tJyfvbHw5e6f8OvDk3XyxZR%2BdqMef%2Bvlo2wPWvrmscmgnTq1ltObS/wAMLU4/hBv5n6vx5TjlccryKGiweEoqS/6e119ZqfNe2oxf%2BG3RBRRRXsnwAUUUUAFFFFABRRRQAUUUUAFFFFABRRRQAUUUUAFFFFABRRRQAUUUUAFFFFABRRRQAUUUUAFFFFABRRRQAUUUUAFeM/sv/wDJb/2jv%2ByzWP8A6hXhevZq8Z/Zf/5Lf%2B0d/wBlmsf/AFCvC9AHs1FFFABRRRQAUUUUAFFFFABRRRQAUUUUAFFFFABRRRQAUUUUAFFFFABRXHftB/GbQv2d/gd4s%2BOfiTTLq%2Bs/CmgXOpSafY7fPvGijLJbxbiF8yRgsa7iBucZIGTXD/C/9rTU7jRfiVH%2B0h4A07wPrnwpto7/AMV2mi%2BIpNZsTpklj9tjvILlrW2kkG1J42RoEZZLaQDepR2APaa/P3/gq14zufhf/wAFKv2K/ifDuWHT9b8T2GoTg4EFrf3Hh%2Bxldj/dAnwfrX05%2Bxl%2B1Rq37V/hLUfG9zo/gSxtIHtxbWXhH4lx%2BIb2yaRDI1rqkcVrFHYXkamMPAktwoZmAkIUM3zJ/wAFwfA%2BoeNItPvdD3Lqfhr4I%2BMfEOmzqMtBJY%2BIfBVw7j6RJKPxrzc451ldaUN4rmX/AG61L/21/eeRn/tFk1edP4ox5l/244z/AB5Gvmem/A3/AIkn/BYT46aZ0/tv4b%2BGNRx/e8kPb5/XFfWlfFMHj6z8Pf8ABUD4Q/tBxEDw/wDtBfBF9HspP4Ir62KanEd3%2B3DKqKD1JOK%2B1qxyecXTrQXSpN/KXLNP5qVz9W4%2BlHFPKcwpu8K%2BBwrT7ulGdCa9YyppP1XcKKKK9g%2BACiiigAooooAKKKKACiiigAooooAKKKKACiiigAooooAKKKKACiiigAooooAKKKKACiiigAooooAKKKKACiiigArxnxx/ykL%2BF/8A2Rnx5/6dvCFezV4z44/5SF/C/wD7Iz48/wDTt4QoA9mooooAKKKKACiiigAr82fiXq1reXH7PvgS%2BOYR%2B2F8SvE80f8AsaR4o1%2B4LfgJM1%2Bk1fk18VfFOz4r2dysnzfDrw9%2B0T4pUA/de48S67ZIfqWUAe9eLxBUVPLH5ygv/JlJ/hBnHi8FLNKuFy%2BO%2BIxGGpf%2BDMRRi/wv9x9c/wDBFrRLmH/gn94a%2BIOs/NrPjrWtY8R69OR/r7q41CdfM/GKOL8q%2BrK8U/4Jv%2BF/%2BEO/YG%2BD2iGPYx%2BHelXMiY6PPbJOwPvmQ17XXTlFP2OVUIPpCP3uKb/Fs%2B98RMasx4/zbEx2lia9vKMas4RS8lGnFLskl0CiiivRPjgooooAKKKKACiiigAooooAKKKKACiiigAooooAKKKKACiiigAooooAKKKKACiiigAooooAKKKKACiiigAooooAK8Z/Zf8A%2BS3/ALR3/ZZrH/1CvC9ezV4z%2By//AMlv/aO/7LNY/wDqFeF6APZqKKKACiiigAooooAKKKKACiiigAooooAKKKKACiiigAooooAKKKKAOO/aE%2BDOh/tE/A3xZ8DPEmqXVhZ%2BK9AudNk1Cx2%2BfZtLGVS4j3Ar5kbFZF3AjcgyCMivNvAn7H3jeS3%2BIMn7QHxa0Txfd/FawfTfHcmj%2BDptJik09NPWytrWzja/uDbBVa6lkaRpzJJdNt8pVVB71RQB4V%2ByX%2Bx94n/Z58V6h438dfFPSfEmoy%2BBtA8HaWmgeDv7EtrfSNIa8a1M0X2q48%2B6Y30u%2BVWjiCqixwxDdu4v42/sy/BzXf23rPSvDXwx8OaPqvxM/Z8%2BIun%2BLNa03RILe61bzL/wrCrXUsaB7gqJnwXLEbmx1NfVNeM%2BOP8AlIX8L/8AsjPjz/07eEKmcI1IOMtmmvv0/UmpCNSDhJXTTT9Gmn%2BDZ8RnV/E/jL/gid8JP2kdDs5H8X/s9%2BJLLU1tc4lVNI1CSxnt2PZDa7XYdCqDNfpl4T8T6L438LaZ4z8N3i3Gnavp8N7YXC9JYJUEiMPqrA/jXx7%2BwR4D0HUbn9q79iHxdb7tLtvijqkptMD91pOu2gkijA9NokI%2BprsP%2BCQfjvXta/Y6tPhB43n3eJPhL4h1HwPr6H%2BCSwmKwgA8hRbtCo/3TXy%2BSzlRrUoy/wCXlPlf%2BOg3B/Nws/kfWZBOWd%2BC%2BG5nerlld0339liOaP3RxOGfo6vmfUVFFFfVHyoUUUUAFFFFABRRRQAUUUUAFFFFABRRRQAUUUUAFFFFABRRRQAUUUUAFFFFABRRRQAUUUUAFFFFABRRRQAUUUUAFeM%2BOP8AlIX8L/8AsjPjz/07eEK9mrxnxx/ykL%2BF/wD2Rnx5/wCnbwhQB7NRRRQAV5/%2B0v8AHG5%2BAPw1i8WaL4RXxBrWq%2BIdL0Hw3ocmo/Y473UdQvYrSBZZ/LkMEKtL5ksgjkZYo3KpIwVG9Arz79pf4HXXx%2B%2BGsXhPRfF6%2BH9a0rxDpeveG9ck077ZHZ6jp97FdwNLb%2BZGZ4WaLypYxJGzRSOFeNirqAef3n7cl9oH7Jnjz9oXxZ8IxbeIPhvq9/pHivwpZ66Z7W2vbW4WJpRfG3Q/YfKkiu2uWgVo7dmdoQyNHXndr/wVq8N3Hwds/Hkmh/DmLUNU%2BId54X0bWpfi9Gngq/jtbFLy41SLxA1iN9mm/wCyFltGf7arQBSqmUdtL%2Bwt441X9n/xb8HfEXx2sJtV8Z%2BIv%2BEo1nxHZ%2BDniV9eGqRXyN9me9dW00JbWtobJmLvBE4e5YyFhkxf8E8/HkOuJ8bF%2BN3heT4sJ8ULrxrH4hn%2BHEjaFFNcaBDoMtrHpY1ITIjWdvFIZPtvmm4UuWMbGGgD6P8AAOval4q8C6N4n1m30uK71HSre6uotE1Y39kkkkauwt7oxxG4iyTsl8tN64bYucD8aPid4o8zWP2s/Gxk%2BXwh4L8YeFs54R9V%2BJ%2BrSY%2BpWTH0NfrD8G/2Wvhz8Mf2W9B/ZQ8VadZeMfDulaBHpmoW/iDSYJbbUlHzPvtWVoljLklYcFUUKo4UV%2BQPhL4beHtH%2BGn7V/gXwl4dstM0fxR%2B13YeBdE0nTbRILa0t7bxPqU4toYkAWOMAphFAACjA4r5fixy/s6MY9W/wpzt%2BMkfQcDYaON8UOG6M17n16jOX%2BGiqlZ/hTZ%2B03wc8L/8IP8ACLwr4K8vZ/Y/huxstmPu%2BVbpHj/x2ukoor6aEVCCitkkvuVv0PFxNepisTOvP4pylJ%2Bsm5P8ZMKKKKoxCiiigAooooAKKKKACiiigAooooAKKKKACiiigAooooAKKKKACiiigAooooAKKKKACiiigAooooAKKKKACiiigArxn9l//kt/7R3/AGWax/8AUK8L17NXjP7L/wDyW/8AaO/7LNY/%2BoV4XoA9mooooAKKKKACiiigAooooAKKKKACiiigAooooAKKKKACiiigAooooAKKKKACvGfHH/KQv4X/APZGfHn/AKdvCFezV4z44/5SF/C//sjPjz/07eEKAPJLnUl/Zl/4K/3GqeJoja%2BHf2hfA9pZ6ZqWcRN4g0kFVt5D0VmtWGwk/MzBRk5xB4a1mP8AYw/4Ki%2BJ/Dni%2BFrLwV%2B0fDZ33hbUs4trfxNaReVcWbn%2BCS4RhICfvuUVcnIHrP8AwUI/Zfv/ANqn9m3UfCng67Nj408P3UPiD4favGwWSx1q0Jkt2Vz9zf8ANEW7CQnqBXn2iQ%2BBf%2BCvv/BO60HiItofiWZNs88SMlz4V8VWR2mRRw8ZSYZxkM0MuMjdXy9ahWo4qVGl8ak61K%2BzvpUpv1u/RTT6M9Xw7znL8g4hxeS5s2sDj4SjKSV3BTnCbqRX2pYevGFbl3nSnVitWmfWFFfPX/BPL9qfxV8ePh3qnwt%2BONqmm/Fr4aX/APYfxE0kkAyzICItQjAxuhuEXzAwAUtv2/LtJ%2Bha%2BgwuJpYzDxrU9n96ezTXRpppro0Xn%2BR4/hvOK2W4xL2lN2uneMk0pRnCW0oThKM4SWkoyT7pFFFFdB44UUUUAFFFFABRRRQAUUUUAFFFFABRRRQAUUUUAFFFFABRRRQAUUUUAFFFFABRRRQAUUUUAFFFFABRRRQAV4z44/5SF/C//sjPjz/07eEK9mrxnxx/ykL%2BF/8A2Rnx5/6dvCFAHs1FFFABRRRQAUUUUAFfkT8N/CLS6tpfheSMmTxf/wAFQPF%2BtvkcyWum6teIV91DKx/Gv12r82/h3o2mX/7ZP7O/grS7RUij%2BOXx48R6soYndKviPVo4pDn/AG%2BPw4rw8%2BpKrhYf44L/AMCnBfkmfc%2BGtBf66UsY/wDmGo4yt844LEpfjNfNo/SSiiivcPhgooooAKKKKACiiigAooooAKKKKACiiigAooooAKKKKACiiigAooooAKKKKACiiigAooooAKKKKACiiigAooooAKKKKACvGf2X/wDkt/7R3/ZZrH/1CvC9ezV4z%2By//wAlv/aO/wCyzWP/AKhXhegD2aiiigAooooAKKKKACiiigAooooAKKKKACiiigAooooAKKKKACiiigDzD9tP4veKvgH%2ByZ8Q/jH4GjtTrfh/wpeXWjvfRF7eG6EZEUsqggtEjlXdcjKqwyM5Hn3wp%2BPXiP4B3Xxy8NftMfGzUPFugfB7TLLxFN451nSbK3vV0ybTHuriGePTreCB3he2ndTHCrGOaJWDspd/ffGng3wr8RfB2rfD7x1oFrquia7ps%2Bn6xpd7EHhvLWaNo5YZFPDI6MykdwTXIfBz9lv4N/AXe/w00/XoJri9lvL%2B71Xxpqup3GozvBDb%2BZdzXtzLJdlIbeCKLzmfyUjCx7BkEA8H/wCCXH7aut/tb%2BKPjHa%2BK/2gfBni%2B40bxbp11oeh%2BD9Z029i8OaXe6PZXKWPnWRb7V5M73EL3Ls4knhnCFUVY07O/wDid4b8Y/8ABTbwX4M0nTfEMN54e%2BD3jiO/m1XwjqNjaSl9W8JYNtdXMEcF6BtOWt3kC5G4jcufafC3wx8D%2BCvFfibxv4Z0P7NqnjHUoL/xJdfaZX%2B2XENpDZxvtdiseILeFMIFB2biCxJPm/jj/lIX8L/%2ByM%2BPP/Tt4QoA9mr4l%2BLyeNf%2BCYf7Svif9qzw94Wn1n4GfE3UILr4nafpULPc%2BEtWxsbWI4lz5lvLkGbA3bjnsit9tVDqWm6drOnXGkavYQ3VpdwvDdWtzEHjmjYFWRlYEMpBIIPBBrix2D%2Btwi4S5Zxd4y3s7W1XVNaSXVdmk152Y4B42nFwlyVIPmhLeztbVdYyXuyj1T3TSa%2BY/wBpP9k%2B0/aKutD/AG3v2IfilY%2BHfilaaXHL4f8AFlhKJdM8UWBAZbK/VMiaBwABJgsnHXaoXd/ZB/b98J/H7VLn4J/GDQv%2BFe/GPQGMHiX4eaxOElkdVybiyZji6t3HzqyFiFOTlSrv5fd/s%2BftV/8ABN/xDqni/wDYi8OR/ET4Q6hfPf6p8F7u7aLUdCdzumk0edshkJy32dgTnhVZmLDc/tT/AIJ1f8FePCUel6li38aaIzKlnct/ZPi/wtcxnJ2j/Wrsfk48yEsvOSOPDhVrUsU3TSp15fFTk2oVH/NCW3N5rW2lSGnMfdZDx7k%2BdYClw9xjCcJ01y0K0EpVaSu/dhzOKxOGu%2Bb2LnGtRu3Scbypy%2BuaK%2BN7S%2B/4Kf8A7EUZ0u/0C3/aT%2BH1mcW2oWt0LHxfZW47So%2BY78qOAVzLIckleg9D%2BCH/AAVH/Yy%2BNup/8Ii3xQXwb4qik8q88G/EK3OjalbTf88ik5CO/PSN3r1aWb4WU1Tr3pTf2Z6X/wAMvhl/27L5I9LH%2BHmfUsNLG5Xy4/Cx1dXDN1OVf9PaSXt6L7qrSSTuvaS3f0LRSRyJKiyxOGVgCrKcgj1FLXqHwgUUUUAFFFFABRRRQAUUUUAFFFFABRRRQAUUUUAFFFFABRRRQAUUUUAFFFFABRRRQAUUUUAFFFFABXjPjj/lIX8L/wDsjPjz/wBO3hCvZq8Z8cf8pC/hf/2Rnx5/6dvCFAHs1FFFABRRXn/7S/xxufgD8NYvFmi%2BEV8Qa1qviHS9B8N6HJqP2OO91HUL2K0gWWfy5DBCrS%2BZLII5GWKNyqSMFRgD0Civn68/bkvtA/ZM8eftC%2BLPhGLbxB8N9Xv9I8V%2BFLPXTPa217a3CxNKL426H7D5UkV21y0CtHbsztCGRo646x/4Ki6ddfsj%2BK/2jbL4a6L4g1bRvE154f8ACeleB/HK6ro3jO8gs1vGl03VvssXm2kcf2j7RP8AZ8wHTr3CS%2BSN4B9ZV%2Bb/AOyRf2msf8FObO1vpgtv4P8AD/xV1V3IJCSXXxL1m1A4/iIAwByc1%2Bgfwu8a/wDCyfhn4d%2BIv9mfYv7f0K01L7H53meR58KS%2BXv2ru27sbsDOM4HSvzt/wCCaX/FV/8ABQP9obX/AL3/AAifi7VNE3f3PtXxB1i82/jjNeTmvvSw1PvVh/5Kpy/RH6BwF%2B5o5ziv%2BfeAxC%2BdWWHor/0uS%2BZ%2BjX/CYaT/AM%2Bmqf8Agju//jVL/wAJhpP/AD6ar/4I7v8A%2BNV87ePv%2BCyP/BN74X%2BO9a%2BGnjn9o37Drfh3VrnTNYsv%2BEQ1iX7PdW8rRSx747Rkfa6MNykqcZBI5rJ/4fl/8EtP%2Bjof/LJ1v/5CqpZ5ksJOMsTTTX9%2BP%2BZnR8LfEzEUY1aWSYuUZJNNYeq000mmmoWaaaafVNPqfT//AAmGk/8APpqv/gju/wD41R/wmGk/8%2Bmq/wDgju//AI1Xzt4B/wCCyP8AwTe%2BKHjvRfhp4G/aN%2B3a34i1a20zR7L/AIRDWIvtF1cSrFFHvktFRNzuo3MQozkkDmu%2B/b%2B%2BMHxM/Z9/Ym%2BKfxx%2BDdpps3ifwl4H1DVdHXV5mS3WWCFpN77Y5N21QzBNuHZQhZAxdevC43B42Llh6kZpb8rTt62Pn884Z4k4YrQpZxgquGlNNxVWnOm5JOzaU0m0no2uuh6X/wAJhpP/AD6ar/4I7v8A%2BNUf8JhpP/Ppqv8A4I7v/wCNV896n%2B258bfCvxD8c%2BC/iF8CvAmhaf8ADL4eWnibxz4nu/ipdGxt3u4tUa3trbGjiWdQ%2BnxiWV0iKJcFo45nQRScz8Nv%2BClWr/FXVPDOh6t8J9X8L63F8aJfB3iHSFlvLaGRD4P1DX4Z9usaPaXrwukMSbfs9pIJUDLLJCpW46Twz6q/4TDSf%2BfTVf8AwR3f/wAao/4TDSf%2BfTVf/BHd/wDxqvnn9kr9vn4k/tD6folx45/Zg/4R%2B78WfCbRfiD4T0vw941h1We606%2BYI8E5uILKK3uIS8TFQ8iOj5DhlMddT%2B1X4s%2BKupfFr4X/ALPHwt%2BK%2BoeBG8bXWsXWreK9G02xur2K3sLISLbQLf29xbq0k00LMzxOfKglVdrMJEAPXf8AhMNJ/wCfTVf/AAR3f/xqj/hMNJ/59NV/8Ed3/wDGq%2BcoP2hP2kfif/wTI8IfH/4fWlz/AMJzrukeHZvEN34V0Nb24t7SW/tItY1DTrKRZBPKlmby5t4Csu5ljXZOcRvxfgL44/tK/Gj9mr4g6h4F8XfG3UNd%2BGfxKv8AQ9KufDvhTwvpniTxRZixtLy3lvLPXrOG0g2C9CMkcVtM3kD92rloqAPsH/hMNJ/59NV/8Ed3/wDGqP8AhMNJ/wCfTVf/AAR3f/xqvhaD9tD9pnxl4Ch/aC0n446fHZeBvAnw01XVvD3hvRLZtK8Z3GuyI%2BpSl7y3N5DC0Mgjs1ieB45VZphMD5S7OjftxfEj4U6tp37Tvx3%2BM9xN8O/Efib4kadq/g5tFslg8MWPhybUjbXVtLFAt1JMYNIkSdJ5pVaa8AjWIIFYA%2Bz/APhMNJ/59NU/8Ed3/wDGqv2F/aanaJfWM4kikGVYAjvgjB5BByCDyCK%2BT/8Aglj%2B2Xr/AO1nqXxntvGX7QfgvxpfeHfiDZPpGmeDNZ069g8P6Te6Dpd5HYrNZE/akhupb%2B3N25Yyy20%2BCoQRx/UPg/8A5BM3/YUvv/SuWgDVooooAKKKKACiiigAooooAKKKKACiiigAooooAKKKKACiiigAooooAKKKKACvGf2X/wDkt/7R3/ZZrH/1CvC9ezV4z%2By//wAlv/aO/wCyzWP/AKhXhegD2aiiigAooooAKKKKACiiigAooooAKKKKACiiigAooooAKKKKACiiigAooooAK8Z8cf8AKQv4X/8AZGfHn/p28IV7NXjPjj/lIX8L/wDsjPjz/wBO3hCgD2aiiigArxX9pb/gnx%2Byj%2B1ber4k%2BKPwyih8Sw7TZeMvD87afq9s6jCMtzDhn2/wiTeo9K9qorGvh8Piqbp1oKUezV/69dH5nPisJhcbRdLEQU4vo0mvx6%2Bas10Z8fw/s/8A/BU39mZPI/Z%2B/aj8O/F7w5bn/R/DnxisZIdUjiH/ACzXUrbmeT0eYKo9K4r4z/tPeDfG2k/8I3/wUz/4JI%2BMrVYEMcniHSvD9v4n061Hd0v7bbLbg8kbPmGSM9a%2B9aK8upk75HCjWko/yzSqQ%2B6d2vlI5cDhc1yTExxOT46rh5x%2BFqTlb0blGpH5Vfk9j8xPhlY/8E6Z2WT9gz/grb4q%2BDcxci28La54ldtJgfP3P7P1kRl2B4wZDnoK908N67/wV78G6amq%2BDPHXwL%2BO2hr9y%2Bhlm0bUrr3DQlrNc/U19IfEz9mn9nb4zhz8XPgT4Q8TPIMNNrnhy2upB7h5ELA%2B4Oa8O8Q/wDBF/8A4J6apqL674V%2BD%2BoeEdTbpqPg/wAV6hYun%2B6izGNfwSvN/sfMcN/A5V/gnUp/%2BSSVWn8kkj7j/iJviJV0zihg8zXfEUUqr/7ixjCrfzdWb63bKA/4KN/tJfD0eX%2B0P/wS5%2BLeleXxPc%2BApLXxPCvq%2B63aPC9/YetW9H/4LR/sAS3yaL47%2BJOueCtSf/mG%2BMvBuo2cinuGYQtGMe7VVH/BLnxz4SGfg3/wUm/aA0NV/wBTaaz4si1e1h9AsU0S4X2JNVdX/Y%2B/4KfWVi%2BmWH/BSPw54vsD93TPHHwZ0/YR6PJC5Z/qRT9pxJQ%2BzKXqqU/xhOk//JQ/1x4QxP8AyMOF6tJ9XhMddfKGIjUXy5vme0%2BCv27f2K/iKEXwZ%2B1f8Pb6WT7tsvi60Sf/AL9PIHH4ivTtJ1rRtfs11DQtWtb23b7s9pOsiH6MpIr89PGv/BPX9t7Wi7%2BJ/wBl79irxkrZ826l8G6hpd/L/wBtIEAH515nq3/BND4zaPeNqlt/wSV8GG973vw8/aDv9Jc/7q3MrIv/AHzR/bOc0v4mFv8A9u1F%2BlRC/tPwnxG8szwz/v4ShiF99CvB28%2BW/kfrBRX5Lf8ADPX7afgn5tI/Zv8A2uPB%2Bz7tv4P/AGmtO1W3Ht5Zg%2Bce2aP%2BFhf8FH/BA/4lfiP9s2w2dPtfwk0jxPj85o9/9aP9Z5Q/i4Wa9L/rTiHsvDSt/C4hUPKvgMfS%2B9xp119x%2BtNFfkt/w3t/wUp8H8aj8TvitPs6/wDCbfslrY/99fYrl8fhSr/wWU/br8LEDWPEfwqljX/WHxJ8K/F1lLj/ALd43UGj/XDLI/xITj/26v8ANB/ZPCdT%2BDxLlz/x1a9H/wBPYKNvmfrRRX5Nwf8ABwp8XdGmFtr%2BjfB7UpR96Owm8RWJP43NiQPxNbWl/wDBxv4kDiO//ZU8K3ynrPY/GK3tgP8AgFzaKf1qo8ZcPveq1/26/wBLlR4aw1b/AHfN8tqf4cywa/8ATk6T/A/Uqivzb07/AIOK/BBAOv8A7Mht/wC99i%2BKWj3GPplkzWnF/wAHIH7Klmu7xH8FPHEOPvf2bfaRd/li9XNbrizh174hL1Ul/wC2mkODM4rO1Crhqn%2BDHYCX5Y2J%2BiNFfBOi/wDBxZ%2BwvrIBPgL4o22f%2Bevhi1fH/fq7eul07/gvX%2BwHegG7vvG9kD1Nz4LuDj/v3ureHEuQT2xMPv8A80ipcCcWRdlhk/8ADVw0/wD0jFzPtGivkW2/4Ln/APBNFwDqXxw1KwHf7X4I1bj/AL4tmrV0/wD4LU/8ExNTx9m/apsFz/z8eHdUi/8AQ7UVss9ySW2Jp/8Agcf8w/1C43avHLazX92m5L74ykj6lor50sP%2BCtn/AATg1HH2f9rfwuuf%2Be7TRf8AocYrZsf%2BCmf/AAT61DHkfti/D5c/89/EkMX/AKGRW0c1yuW1eH/gcf8A5IiXAvG8Fd5Xif8AwnrP8qTPcqK8js/2/f2FdQx9l/bM%2BFZJ6K3xA05T%2BRmBrWs/2w/2R9Rx/Z/7U3w5nz08nxvYN/KatVjsDLarB/8Ab0f/AJI4qnC3FFH%2BJgK8fWhXX50UejUVxtp%2B0X%2Bz5qGPsHx28Gz56eT4otG/lJWnafFb4XX%2BPsPxJ0CbPTytYgb%2BTVqq9CW00/mv8zgqZXmlH%2BJh6kfWnNfnBG/RVK18R%2BHr7H2LXrKbPTyrpG/kaughhuU5B6EVomnsccoTg7STXqmvzSCiiimSFFFFABXjPjj/AJSF/C//ALIz48/9O3hCvZq8Z8cf8pC/hf8A9kZ8ef8Ap28IUAezUUUUAFefftL/AAOuvj98NYvCei%2BL18P61pXiHS9e8N65Jp32yOz1HT72K7gaW38yMzws0XlSxiSNmikcK8bFXX0GigD5wl/YW8car%2Bz/AOLfg74i%2BO1hNqvjPxF/wlGs%2BI7Pwc8Svrw1SK%2BRvsz3rq2mhLa1tDZMxd4InD3LGQsMHXf%2BCWHgz4qeFfG1/wDHr4malqPjzxnrGq6mfFHgO/1jwrZ6ZPfaRp%2BkukNlY6pumhMGmWrSR3NxN5snmklVk2D6tooA4H4efs6fD3wh%2Bzhof7MXi7TIvGHh3SvDdto97b%2BLA%2BpJqccUaqTOt68zSKxXO2Rn2jCg4UV8N/8ABF34ceGvBHxI/azufBvhux0jSIf2lrvRNM07TLNLe2tLex1%2B%2BEcMUcYCxoizgBVAAGAAK/SKvif/AIJR%2BGDo3w//AGg9elT59Z/bR8czq5HWOPxIIQPoGjf8zXBiqftMVh3/ACyk/wDyRr9T6zIMYsJkGbxvrVpUofJ4qnN/%2Bm0fbFFfMXj/AP4Ka/8ACBeO9b8C/wDDvn9p7Wv7F1e5sP7Y0D4T/abC/wDJlaPz7aX7SPNhfbvR8DcrKcDNZH/D2H/rGp%2B1p/4Zv/7qrKWdZZGTi6mq/uz/APlZ%2BdS4hyaEnGVXVafDU6af8%2Bj60rF%2BI/w88GfFz4fa58KviNoMWq%2BH/EukXOl65pk7MqXVpcRNFNEShDAMjMMqQRnIIPNfPngH/gpr/wAJ7470XwL/AMO%2Bf2ntF/trV7aw/tjX/hP9msLDzpVj8%2B5l%2B0nyoU3b3fB2qrHBxXs37SfjD4nfDz4BeL/iD8GfDlprPifQdAudS0fRb2F3TUpIEMptQEdCHlVGjRt2Fd1YhgCp68NjMNjIuVGV0t9JL/0qMf1O3B4/B5hFyw8uZLR6SXn9qMfwuY0H7Gv7PC%2BFfFPg7U/CGpavZ%2BNfDdvoPiqXxF4r1PU7rUrCD7T5Mclzd3Mk%2B9Ptc%2BJQ4lG5fn%2BRNud4H/YK/Za%2BHupLrnh/wFqU2pDxcPFEura14x1bUry41caRNowu5ri8upZZ2Gnzy2%2BJGZdpU43IjL4b4j/4KP8AxN%2BJHha58Y/suNoeq2HiPx3NpHwoli8JLqjeINOsNIW61W9ka51vSraGOK78%2BAO1wu0WbgJK0g8vifBv7dXxG%2BLniPRPjxZfabXTvHnwy/Z31WPwo2v3v2HSp/EXi7Xba/kg%2BzTxbnMXkozHKTrawrMksS%2BUek7D7D8MfsnfAjwTY6JYeDvCd7pS%2BHPA1p4O0SbTvEeoQzWmi2rxvBarKk4c7TFHmQsZGAIZ2DMDo/G/9nr4U/tE6Jp%2Bh/FLR9RmGkaib7SL/RPEV9pF9Y3BhlgZ4bywmhuIt0M00ThJAHSRlYFSRXyb8E/2qf2oPjd%2B1J8IPGGp%2BKvCP9ieO/hb4/1vw58PdKur3T2tZLO/0aC2g1aUzXCXUsfmlGuEtojbSPcIsUmcn279t/VvEk%2BmfCj4by%2BKtV8O6R47%2BK9hofjPUvDeu3Gn3UNmdPv7pIIb23aKe38%2B9tbO18yNo5GW4KqVLigD0KT9nf4WJ4DHww0ax1jRdAi8OWGhWWmeGfFeo6VHp9jZkm3S0%2Bx3ERs3UHaZYCkroiIzssaKvO3f7Ev7P0/w8074W2Nh4t0vSNNury5B0D4l69pt3ez3bmS5lvbu1vY7i/eVyXdrmSUsx3Ek815f8ItR/aF%2BKf8AwTb8b6H8J/iTdz%2BNLPUvHfhzwD4s1jVS1xcW%2Bn69qmn6ZcSXkoctKbW2gH2tw5dsTtv3HPFfs%2B2fxV%2BLOnfG/wCBZ8F%2BPrCw8JeKdGPgnw944/aE1a01WG/l0qKe70%2B78QaTdX10kY3JdCFZrrat0m5VVliiAPoTU/2F/wBlbU/EvhfxQ3wpS0l8HabpOn6FYaXrF7Z6eLXS5jPpkM9jBMlteJZyky24uI5BA5Lx7GOa0vBX7JHwA%2BHvxg1D47%2BEvBM9t4k1F713ll16%2Bms7WS9ljlvZbWylma1s5biSJJJpIIo3mcFpCxJJ%2BA5/jV8XPF/7NGpa/wCMP2kvGWmav8Lv2a/EXinw1f6X4su7YXvifTtY1Gzma4eGYf27BZvYWVsv2jzYrtLwSyRl7hdvrPgr49fFO6/bY1zxv8cPCHiOPR7D4zaf8P8Aw7Dp3xYv7KHSZrrw7Z3kKv4egC2mpQySXUsr3Vy7zx%2BapSLyrcOAD7N8JfDHwP4F8S%2BKfF/hXQ/suo%2BNNai1bxNcfaZX%2B2XkVja2CS7XYrHi2sraPagVT5e4gszM1rwf/wAgmb/sK33/AKVy1qVl%2BD/%2BQTN/2Fb7/wBK5aANSiiigAooooAKKKKACiiigAooooAKKKKACiiigAooooAKKKKACiiigAooooAK8Z/Zf/5Lf%2B0d/wBlmsf/AFCvC9ezV4z%2By/8A8lv/AGjv%2ByzWP/qFeF6APZqKKKACiiigAooooAKKKKACiiigAooooAKKKKACiiigAooooAKKKKACiiigArxnxx/ykL%2BF/wD2Rnx5/wCnbwhXs1fOH7R%2Br/GvR/28PhPP8Dvh/wCFvEWpN8I/Ha3dp4r8YXOiwRwf2p4SJdJbfT71nfdtGwxqMEnfkBSAfR9FeM/8Jx/wUL/6Nf8Agz/4fjVv/mXo/wCE4/4KF/8ARr/wZ/8AD8at/wDMvQB7NRXjP/Ccf8FC/wDo1/4M/wDh%2BNW/%2BZej/hOP%2BChf/Rr/AMGf/D8at/8AMvQB7NRXzjpP7R37dusfGfX/AIHW/wCyh8JF1Tw74X0jXby5f466p5EkGo3OpW8KIR4Y3F1bS5ywKgAPHgsSwXqP%2BE4/4KF/9Gv/AAZ/8Pxq3/zL0AezUV4z/wAJx/wUL/6Nf%2BDP/h%2BNW/8AmXo/4Tj/AIKF/wDRr/wZ/wDD8at/8y9AHs1FeM/8Jx/wUL/6Nf8Agz/4fjVv/mXrl/AP7R37dvxE8V%2BN/CGj/sofCSG48B%2BKItC1WS5%2BOuqBJ55NK0/Uw8W3wwSU8nUYVJYKd6OMYAZgD6Oorxn/AITj/goX/wBGv/Bn/wAPxq3/AMy9H/Ccf8FC/wDo1/4M/wDh%2BNW/%2BZegD2aivGf%2BE4/4KF/9Gv8AwZ/8Pxq3/wAy9H/Ccf8ABQv/AKNf%2BDP/AIfjVv8A5l6APZqK%2BcfhF%2B0d%2B3b8ZfCl34v8OfsofCS2t7PxRrehSR3vx11RXM%2Bl6rdaZO42%2BGGGxprSRkOclGUkKcqOo/4Tj/goX/0a/wDBn/w/Grf/ADL0AexXNpa3kZhu7aOVD1SRAw/I1jah8Lvhlq2f7V%2BHWhXOev2jSIXz%2Ba15t/wnH/BQv/o1/wCDP/h%2BNW/%2BZej/AITj/goX/wBGv/Bn/wAPxq3/AMy9TKEJfEkyZQhP4kn6pP8AQ66%2B/Zk/Zt1PP9pfs%2BeB7jPXz/Cdm%2BfzjrIvf2I/2MNSz/aP7IvwwuM9fO8A6c384ayP%2BE4/4KF/9Gv/AAZ/8Pxq3/zL1y/wR/aO/bt%2BPHwY8IfHHwr%2Byh8JLXS/GfhfT9d0221D466os8MF3bR3EaSBPDDKHCyAMFZhkHBI5rGWEwkt6cX/ANux/wDkTnlgcDP4qUH6xi//AG06m8/4J2fsEX2fO/Yx%2BGC5/wCePgexj/8AQIhWZd/8Ev8A/gnneZ879jzwGM/88tCjj/8AQcVpf8Jx/wAFC/8Ao1/4M/8Ah%2BNW/wDmXo/4Tj/goX/0a/8ABn/w/Grf/MvWTy3Lpb0If%2BAR/wDkTCWUZTLfD0//AACH/wAgc3df8Elf%2BCcF3nzf2RvCoz/zyilT/wBBkFZ9z/wRv/4Jn3efN/ZP0UZ/55alfJ/6DOK7T/hOP%2BChf/Rr/wAGf/D8at/8y9cv8bv2jv27fgP8GPF/xx8VfsofCS60vwZ4X1DXdSttP%2BOuqNPNBaW0lxIkYfwwqlysZChmUZIyQOazeT5S98PD/wAAj/kZPIcjlvhaf/guH/yJiXH/AARL/wCCX1z/AKz9le0H/XPxPqyf%2Bg3YqlN/wQv/AOCW8uSn7MzxE94/Gutf1vDXqH/Ccf8ABQv/AKNf%2BDP/AIfjVv8A5l6P%2BE4/4KF/9Gv/AAZ/8Pxq3/zL1m8jyV74an/4BH/Iz/1c4ebv9Upf%2BC4/5Hkdx/wQc/4JhzElPgNfx/7njLVD/wChXBqnN/wQJ/4JnS/6v4S61H/ueL77%2Bshr2j/hOP8AgoX/ANGv/Bn/AMPxq3/zL0f8Jx/wUL/6Nf8Agz/4fjVv/mXqXw/kT/5haf8A4CjaOSZRT%2BChFeia/KSPDZv%2BDfj/AIJtS/c8BeJY/wDc8WXH9Saqy/8ABvV/wTlk%2B54d8XR/7niqT%2BqmvVPi7%2B0d%2B3b8GvClp4v8R/sofCS5t7zxRomhRx2Xx11RnE%2Bqara6ZA53eGFGxZruNnOchFYgMcKeo/4Tj/goX/0a/wDBn/w/Grf/ADL1D4cyB/8AMLD/AMBRvHL8JD4U16TqL8qqPnqX/g3c/wCCd8n3Lfxwn%2B74nH9YjUP/ABDrfsBxnNnrfxFtz6w%2BJ4R/O3NfRf8AwnH/AAUL/wCjX/gz/wCH41b/AOZej/hOP%2BChf/Rr/wAGf/D8at/8y9T/AKs8Pf8AQLD7v%2BCbKgo7TqL/ALi1/wD5efO6f8G9X7GEH/Hl8Vvi5b%2BnkeL7cf8AtpViH/ggT%2BzBa/8AHj%2B0f8c7fHTyfHNsuP8AyTr6A/4Tj/goX/0a/wDBn/w/Grf/ADL1y/j79o79u34d%2BK/BHhDWP2UPhJNcePPFEuhaVJbfHXVCkE8elahqZeXd4YBCeTp0ygqGO90GMEsouGsgW2Gj%2BP8A8kKWGjLec/8AwbX/APmg8yt/%2BCF/wRsv%2BPH9sT9omDHTyfiJbr/7Z1ft/wDgi74Dsxix/b0/achx08v4oxD%2BVnXs3/Ccf8FC/wDo1/4M/wDh%2BNW/%2BZej/hOP%2BChf/Rr/AMGf/D8at/8AMvVrh7JVtRX3z/8AkznnleDqfFzP/uLW/wDl55HF/wAEgrW1/wCPH/go9%2B1NDjpt%2BK4H8rYUz4F/sl3v7Ln/AAUM8Hfa/wBp34qfEddc%2BDPjLYPib4rOqf2d5OreFs/Zsovl%2BZ5o3/3vKj/u16//AMJx/wAFC/8Ao1/4M/8Ah%2BNW/wDmXqh4H8D/ALVnjH9qzw58bvjd8OPh74Z0bwz8PfEOhww%2BFfiHfa1dXd1qV9olwjMlxpFikUaJpcoLB3YtKgC4yR0UMpy/C1VUpQtJf3pv8HNr8BUMqwGGrKrTi%2BZdXOo/wlUkvwZ7rRRRXonohRRRQAUUUUAFfOX7EPhnTvC/7PHiy8sfMIvf2hvH%2Bp3zsM4P/CeapvbgdFSMfgtfRtfJX7JXiz9s7T/h74os/hj8A/hhq%2BhJ8afiL/Z%2Bo698XdR027mX/hM9ZLGS2i0C5SIhtwAEz5AByCdoTSbT7FxqTjCUE9JWv52d19z1PqD/AITnwT/0OGl/%2BDCP/wCKpf8AhOfBP/Q4aV/4MI//AIqvLf8AhOP%2BChf/AEa/8Gf/AA/Grf8AzL0f8Jx/wUL/AOjX/gz/AOH41b/5l6ZB6l/wnPgn/ocNK/8ABhH/APFUf8Jz4J/6HDSv/BhH/wDFV5b/AMJx/wAFC/8Ao1/4M/8Ah%2BNW/wDmXo/4Tj/goX/0a/8ABn/w/Grf/MvQBqX3wM/Yo1T4caT8HdT%2BDvwtuPCOgXv2zQvCs/h7TX03TbndI3nQWxTyoZN0sp3ooOZHOfmOdDT/AIcfso6Ta2tlpXgP4e20NlaaTaWUNvpdii28GlzyXGmRIAoCJaTyyy26jAgkkd4wrMSfM/gj%2B0d%2B3b8ePgx4Q%2BOPhX9lD4SWul%2BM/C%2Bn67pttqHx11RZ4YLu2juI0kCeGGUOFkAYKzDIOCRzXUf8Jx/wUL/6Nf8Agz/4fjVv/mXoA1bH4H/sVaX4p1vxzpnwg%2BF1vrfiWC6h8R6xB4f01LrVY7rH2lLmUJvnWXavmByQ%2BBuziug8b6V8APiZ4Iufhl8SNN8HeIPDd5CkV34e1yG0u7GeNGVkR4JQ0bKrKpAK4BUEdBXFf8Jx/wAFC/8Ao1/4M/8Ah%2BNW/wDmXo/4Tj/goX/0a/8ABn/w/Grf/MvQB1Q8E/swjw9b%2BER4R8BjSbTw3P4etdL%2BwWX2eHSJxGs2nJHt2rayCGIPAB5bCJAVO0Yw7r9nz9hi%2B%2BFtr8Dr34IfCebwVZX5vrPwfL4a0xtLgujvzOloY/JST94/zhQ3ztzya4n43ftHft2/Af4MeL/jj4q/ZQ%2BEl1pfgzwvqGu6lbaf8ddUaeaC0tpLiRIw/hhVLlYyFDMoyRkgc11H/Ccf8FC/%2BjX/AIM/%2BH41b/5l6AN3xB8Jv2QPFlj4Y0vxV8NPhtqdt4Jljl8GW%2BoaNp80egOgQI1kroRalRGmDFtI2LjoKuXXgb9l6%2B%2BKlv8AHS98H%2BAZvG9pZm0tPGMun2TarDblWUxJdlfOVMO42hsYZhjk1y3/AAnH/BQv/o1/4M/%2BH41b/wCZej/hOP8AgoX/ANGv/Bn/AMPxq3/zL0Aeo/8ACc%2BCf%2Bhw0v8A8GEf/wAVR4MO/QzOoOya%2Bu5YiRjcj3MjK30KkEexry7/AITj/goX/wBGv/Bn/wAPxq3/AMy9cv8AF39o79u34NeFLTxf4j/ZQ%2BElzb3nijRNCjjsvjrqjOJ9U1W10yBzu8MKNizXcbOc5CKxAY4UgH0dRXjP/Ccf8FC/%2BjX/AIM/%2BH41b/5l6P8AhOP%2BChf/AEa/8Gf/AA/Grf8AzL0AezUV4z/wnH/BQv8A6Nf%2BDP8A4fjVv/mXo/4Tj/goX/0a/wDBn/w/Grf/ADL0AezUV84%2BPv2jv27fh34r8EeENY/ZQ%2BEk1x488US6FpUlt8ddUKQTx6VqGpl5d3hgEJ5OnTKCoY73QYwSy9R/wnH/AAUL/wCjX/gz/wCH41b/AOZegD2aivGf%2BE4/4KF/9Gv/AAZ/8Pxq3/zL0f8ACcf8FC/%2BjX/gz/4fjVv/AJl6APZqK8Z/4Tj/AIKF/wDRr/wZ/wDD8at/8y9cvq37R37duj/GfQPgdcfsofCRtU8ReF9X12zuU%2BOuqeRHBp1zptvMjk%2BGNwdm1SAqApBCSZKkKGAPo6ivGf8AhOP%2BChf/AEa/8Gf/AA/Grf8AzL0f8Jx/wUL/AOjX/gz/AOH41b/5l6APZqK8Z/4Tj/goX/0a/wDBn/w/Grf/ADL0f8Jx/wAFC/8Ao1/4M/8Ah%2BNW/wDmXoA9mor5x0n9o79u3WPjPr/wOt/2UPhIuqeHfC%2Bka7eXL/HXVPIkg1G51K3hRCPDG4uraXOWBUAB48FiWC9R/wAJx/wUL/6Nf%2BDP/h%2BNW/8AmXoA9morxn/hOP8AgoX/ANGv/Bn/AMPxq3/zL0f8Jx/wUL/6Nf8Agz/4fjVv/mXoA9morxn/AITj/goX/wBGv/Bn/wAPxq3/AMy9cv4B/aO/bt%2BInivxv4Q0f9lD4SQ3HgPxRFoWqyXPx11QJPPJpWn6mHi2%2BGCSnk6jCpLBTvRxjADMAfR1FeM/8Jx/wUL/AOjX/gz/AOH41b/5l6P%2BE4/4KF/9Gv8AwZ/8Pxq3/wAy9AHs1eM/sv8A/Jb/ANo7/ss1j/6hXhej/hOP%2BChf/Rr/AMGf/D8at/8AMvVv9lb4c/GnwfrHxQ8d/HTQPC%2Bk6p4%2B%2BIUWuWeleE/Etzq1va2sWg6Ppiq9xcWVmzSNJp0rlRFtCyINzHOAD1uiiigAooooAKKKKACiiigAooooAKKKKACiiigAooooAKKKKACiiigAooooAK%2BV/wBp79rT4ufDD4x%2BLNa8A%2BHfB8nhj4P%2BH/D9741OtaRcTarqlvq9/KlzBYXEdxGll5FtZx3GZIpxcyFIyIfL80/VFeM/Gf8AYh%2BHHxu%2BKR%2BJmueOfFWlxaja6Ra%2BL/DWjXVqmneKYNLvZL2xivllt5Jgsc00ufs8sBljkMUxljCoAD2aiiigAooooA%2BY/Dn7SvxMh/b/APFHwf8AiNrHh7wn4bXxBaaJ4Mi1H4Rayl14xgGgQajiDxG12unNLHd3OoAWgheTy7SYBQWaRfpyvK/Fn7LUHj/4yaR8U/Hvxv8AGur6V4e12PWtA8AXB0yLRrHUI7d4I5w0Nkl7Ls8ySRUmupIxI%2B7Z8iBfVKACiiigDxf/AIKC/F344fs/fsj%2BNPj18Ar3wpHrHgnQrvXLqDxhotzfW13aWttLM9uiW11bMkrsiKJC5VAWJR%2BBXn/jz9rT4ueC/jx4t1Pwp4d8IRfDzwh8Y/CPw%2B8ZWc2kXB1vVdV12DRUj1CG7S4WGOOD%2B3NJjMUlvK8iQz4lj2oK9h/ax/Zxsv2tPgRr37PutfFXxT4R0nxPZS2OuX/hBdO%2B13NlLE8U1tuv7S6jRHV%2BWRFkBUbXXnPFwfsA%2BDp/iLZ/EXxV8cfH2usdZ0nXPE2jahLpUVj4n1zTEjSx1a9jtrCJluIhBaYW2aCBjY2xeJjHkgHvdFFFABXi/wC2T8Xfjh8ErXwD4x%2BFl74U/sbUPiZ4c8PeL7HxBotzc3Vza6rrNjpoNnLDdQpbSRrcyyb5EnUlEXZyTXtFeVftXfstv%2B1V4b0LwvP8ffG/ga30LxJYa6jeC4dHZ7u9sbyC8s2lOpafeDbFcW8bhYwgblZN6naADzj9nn9pX4ma3%2B1V4t%2BCPxQ1fw94T06HxTrdv4J8JSfCLWdMudetoXSU39vrVxd/YNQdjJNLLFbQF%2BS7FcMT9OV5LpP7KIf4yaL8ZfiP%2B0B478azeF7u8u/CeheIRpMNho91c28lrJcRLYafbSyv9nmnhXz5JVRZ32gEgj1qgAooooA8P/bu%2BLnx4/Z%2B%2BDWr/HX4UeMfAtjp/hbRbm8vdF8WeGb2/ufEN7lFs9Ms5La9g%2BzzXEpFujeVdM0s8QWFj8ref/BH9r74z658S/BX9reDPCWkfDTxv8T/ABR8NvCvhrTtLmj1fRL/AECHVt889yLhreaCRvD%2BposMdvEY1a2PmSZYD0/9pX9kGD9pLx54I%2BIE37QPjvwhc%2BAbu5vdFsfDEWjT2cl7KgjW8mg1PTrxHnhj8xYZAFMYnlI%2BZsir4D/Ya%2BHvgP4y2/xdh%2BIvi7UoNO13U9e0TwhqVzZf2TpWt6jG8eoapAkVqk/nzie7LK8zwo19cmOKPzOAD2uiiigAr5f/AGufjx%2B0v8FviJp/hTSofAHjXR/HMOtW2i/DmLwffSawlraaHdXcl/cTi9eK6thdRW9tJCLWIH7fCgmMjIkn1BXh037E1xH%2B0f4r/aa0T9qv4l6dq/i3TYdOudLhg8Pz2mn2cMDRw21m1zpMtzbxLK73WxZtrzuXcODtoAZ%2Bwh%2B0H43%2BPfw9vLr4r%2BPtGvvF2nCzbX/Ddl8LtX8I3mgPPbLKILmy1e6nuHBbf5dwAkciodobaTXuleb/AAO/Zu074M%2BJ/EnxD1j4peKfHHirxXFY2%2BseJ/FzWC3L2lmJvstqkWn2trbRxRtc3LjbCGZriQszZGPSKACiiigD45/4KCftx/FT9jDxz/aeuaLoHjHwi%2Bjajrdv4Vl%2BHOp2Utumm6Nfakkn/CRTXT6ZPd/a9NGyxWBLoRzLKBthaRvXv2aPi78c9W%2BKnjf9nr9o658Kah4n8I6ToetR614K0i5sLG5sdUF5GkRgubm5dZYrjTrtS/m4kQxNsjJKit8df2EvBH7TmtXVr8f/AIt%2BNfFHgu5kuJF%2BGV5JpsOixSTWM1kzb7eyjvpAI7iZgkt06B33bfkQL0/7Pn7M2kfAO817xFd/FDxZ448R%2BJDZx6t4q8a3Fm99LbWkRitbUfY7a3hWKIPKwxHvZ55XdnZyaAPSqKKKACviP9qf9sr9rP4N/GrxB8KPB3hvw5411Ow0W413wwE%2BB/iCOTRQNR0y1Qwt9uceJpBY6pced/ZflPC0JWURiYR19uV4fr37Fup%2BJfHp%2BJ2tftc/FGbW9PgvIvBt4U0ADwqt1NDJP9kjGk7J2aOBbfderdMsTOFKu7OQDqv2WPiw/wAZPhHB4svfiZo3iq/h1G6stUvtG8GX3h0W1xFKytazabqFxPdWc8YwrxzOHz821QwFejVw3wD%2BAvh74AeGdT0bSvFOt%2BINR1/XrjW/EniTxHNA17qt/MERp5RbxQwJiOKGJUhijjVIkAUYJPc0AFFFFABRRRQAUUUUAFFFFAFHxR4hsPCXhrUfFeqhza6ZYzXdyIly3lxoXbA7nCmvnP8AYm/aT%2BNfj/xTo/gz42eHvBlmPHXwtsviN4Zh8GaVcWg0yO8uCbvT7szXEou5o3ubZ/tiCATtLMTBHtBf6Wu7S1v7WWxvbdJoZo2jmilUMrqRgqQeCCOMV5D%2BzN%2BxX4C/Zg1V9X0D4g%2BLfEstt4YsfDPh0eLL21mGgaFZvI9vptqbe3hLRqZPmlnM1xII4vMmfy1wAexUUUUAFcL%2B1B48%2BIvws/Zo%2BInxO%2BD/AIUXXvFvhzwLq%2BqeFtDaxmuhqOo29nLLbWxhgZZZhJKiJ5cbB23YUgkGu6rO8W6Jf%2BJfDGoeH9L8V6joVze2kkNvrWkLA11YuykCaIXEUsRdTyBJG6ZHzKwyCAeXfsU/Fqf4ofDO%2BstW%2BIXh/WdT8O6qunXmmaJ8MNT8HPoaC2gkis7jStUuZ7mFwjiRXby0eKWLYmBvf2KvPPgP%2BztpPwOvPEviO5%2BIniTxj4k8X6jDeeIvFPit7MXd0YbdLeCIR2NtbW0UUcaAKscKZLOzFmZmPodABRRRQB8uftUftY/FD9nD4veOLL4laN4S8RfC%2Bw/Z38X%2BPbbQrfRLhNVdtEGlrPbXFzJcvbzRTrfTgILZCoRMu%2BWFdv8Asz/F/wCPmqfFzxl%2Bzr%2B0s/hK88UeGPDHh7xLHqvgrSbmxspLLVn1K3W2MNzc3LmWG40i7BlEgWRHiby4zuWoPjH%2Bwr4d%2BOnx1b4y%2BPPjt45l02bwVqfhG%2B%2BHsMGi/wBiXejaktt9vtJC%2BmtekTtaQOzi6DqUIRkRmQ9J%2Bzv%2By7of7Pt9rXiOf4oeLfG/iHX7Wwsr/wAT%2BNrm0kvTYWKSLZ2Y%2ByW1vH5URnuHBKGR3uZXd3Zs0Aen0UUUAFfInxr/AGl/2tvBmu/tAeBLfwr4M8WXvgLw/wCFPEnw2sdJ%2BH%2Bp386x6jqupQhLy1ivHl1GeBdNjnU2wtyXJCr8qtX13Xhcv7FHiGL46eNvj/oX7aHxW0rVvG%2BkWOmXNjZWfhhrTTbayuLmezS2EuivJ%2B6N5dKDM8pdZyJPMKoVAOr/AGVPi3N8ZfhSPE2o/E7RvFOo2uq3Njq11o/gi/8ADZs7iJvmtZ9M1G4nurSdFK7kmYMQyttVWFek1wnwD%2BAegfAHQtZsdP8AFuueI9V8TeIJdc8T%2BJvEktu17qt/JDDB5sgtoYYIwsFvbwqkUUaKkKALnJPd0AFFFFAHxt%2B0t%2B13%2B0t%2Bzx8ZoPhtrKfDPxrfa3BBN4Rh07wte2kvgu81LxDpnh7SJtTle%2BmF1FO2rzgtEtnI4sbpYwy%2BYYvcf2Vfi/8AEj4jDx/8PvjEdEn8VfDTx43hrWdV8NadNZ2Gp%2BZpenatb3ENvNPPJb5tdUt0eNppcSRyYYgjHC23/BNXwk118Q38Q/tL/E7Wbf4k68dc1i31I6F5lnqUVxDPp9zbXUWlpdKbB7e3FpG80kUSwoGR%2Bc%2BsfAP4C6H8A/D2rabZeL9c8Sat4i16bWvE/ijxK9sb/V76SOKHzphawQQLsggt4ESKKNFjgjULwSQDuqKKKAGXP2n7NJ9j2edsPlebnbuxxnHOM18QfFb9rn9tP4afETXPhtb23gPxnr3hi98NW%2BreOvBHwV1/Vo/DlvqzXj3thLpVnqU93czRw2VjdExTp%2B7uoWlgQGJpPt67hkuLWW3hupIHkjZVniCl4yRgMu4FcjqMgj1Br57%2BDH7AXiD4CfDa4%2BGnw7/bq%2BMUUd1qz6nNrN5ZeE59Qlu5XlkuZ5pn0I/aZJ3l3SSTiR8xpsKAYIB6z8BPiHZfFb4O%2BH/iFYfEDRvFSanp4kfX/D%2BkzWFpdyAlZClrPNNLbFXVkaGSR3jZWVjuUgdfXJfAv4L%2BEv2ffhfp3wp8FXN/cWVhLdXE19qtyJrq%2Bu7q5lurq6mcKoaWa4nmlfaqrukO1VXCjraACqPieHxJc%2BG9Qt/Bup2Nlq8llKul3mp2D3VtBcFCI5JYY5YmmjVsFkWSMsAQHUncL1ZvjHQb/wAUeFr/AMO6X4t1LQbm8tXig1rRxAbqxcjiaIXEUsRdTyBJG6HHzKwyKAPh74b/ALdn7Wvxg%2BKet/BL4Wab8Pk8Z6ba67fSeM/Ffwu1rQ11TTNItdFlSxl0S8vk1DT5Xu/EOxJp5nj8qGS4SF1nQH7G%2BAXxa034%2BfAnwV8ddG02Wzs/GvhLTdetLOZ9zwRXlrHcLGxAGSokAJ9RXi2r/wDBMjwPrWuX3xFu/wBpT4pp8QNWS8tda%2BJNte6RDq1/pl1bWttNphRNNFnDbFLK0YeRbRSrJAsqyhyzH6D8F%2BD/AA18PPB2k%2BAPBmkxafo%2Bh6ZBp%2Bk2EOdltbQxrHFGuecKiqo%2BlAGnRRRQBy/xp1Hxxo3wt1rW/hz4hsdL1awszdQ32oeD73xAiRxkPKBp1jPBc3kjRK6pFDIHLsuFc/I3xb8Jf%2BCiPx%2B8SeNND1PxvceEfAngzUp518QeOLz4GeIprbWL%2BHX7rSES5lW%2BjTwzPJa2lr%2B41RpJYHlWN87AlfbfxM8Ga7498JTeHPDfxS1/wbeSSxvFr/hmKxe7g2sCVVb%2B2uYGDAFSHibgnGDgjxW6/wCCc3hTUPB9x8NtW/aQ%2BJt34Y1zUJr/AMeaBNcaOIvGF3PeNdXE19Kumi4i80ssLR2ctrEIYkjVFG7cAfRNFFFABRRRQAUUUUAFFFFABRRRQAUUUUAFFFFABRRRQAUUUUAFFFFABRRRQAUUUUAFFFFABRRRQAUUUUAFFFFABRRRQAUUUUAFFFFABRRRQAUUUUAFFFFABRRRQAUUUUAFFFFABRRRQAUUUUAFFFFABRRRQAUUUUAFFFFABRRRQAUUUUAFFFFABRRRQAUUUUAFFFFABRRRQAUUUUAFFFFABRRRQAUUUUAFFFFABRRRQAUUUUAFFFFABRRRQAUUUUAFFFFABRRRQAUUUUAFFFFABRRRQAUUUUAFFFFABRRRQAUUUUAFFFFABRRRQAUUUUAFFFFAH//Z\">"
            ]
          },
          "metadata": {
            "tags": []
          }
        }
      ]
    },
    {
      "cell_type": "markdown",
      "metadata": {
        "id": "9CDZzEcWod1N",
        "colab_type": "text"
      },
      "source": [
        "# Submit a linear model"
      ]
    },
    {
      "cell_type": "code",
      "metadata": {
        "id": "zPvsood-od1P",
        "colab_type": "code",
        "colab": {}
      },
      "source": [
        "## GRADED PART, DO NOT CHANGE!\n",
        "# Testing shapes \n",
        "grader.set_answer(\"9XaAS\", grading_utils.get_tensors_shapes_string([W, b, input_X, input_y, logits, probas, classes]))\n",
        "# Validation loss\n",
        "grader.set_answer(\"vmogZ\", s.run(loss, {input_X: X_val_flat, input_y: y_val_oh}))\n",
        "# Validation accuracy\n",
        "grader.set_answer(\"RMv95\", accuracy_score(y_val, s.run(classes, {input_X: X_val_flat})))"
      ],
      "execution_count": 100,
      "outputs": []
    },
    {
      "cell_type": "code",
      "metadata": {
        "id": "ENXT3sCJod1T",
        "colab_type": "code",
        "colab": {
          "base_uri": "https://localhost:8080/",
          "height": 34
        },
        "outputId": "6b43093e-2a67-466a-e291-6fe643dc019c"
      },
      "source": [
        "# you can make submission with answers so far to check yourself at this stage\n",
        "grader.submit(COURSERA_EMAIL, COURSERA_TOKEN)"
      ],
      "execution_count": 101,
      "outputs": [
        {
          "output_type": "stream",
          "text": [
            "Submitted to Coursera platform. See results on assignment page!\n"
          ],
          "name": "stdout"
        }
      ]
    },
    {
      "cell_type": "markdown",
      "metadata": {
        "id": "0UZcLpwuod1W",
        "colab_type": "text"
      },
      "source": [
        "# MLP with hidden layers"
      ]
    },
    {
      "cell_type": "markdown",
      "metadata": {
        "id": "S6Z2VecSod1W",
        "colab_type": "text"
      },
      "source": [
        "Previously we've coded a dense layer with matrix multiplication by hand. \n",
        "But this is not convenient, you have to create a lot of variables and your code becomes a mess. \n",
        "In TensorFlow there's an easier way to make a dense layer:\n",
        "```python\n",
        "hidden1 = tf.layers.dense(inputs, 256, activation=tf.nn.sigmoid)\n",
        "```\n",
        "\n",
        "That will create all the necessary variables automatically.\n",
        "Here you can also choose an activation function (remember that we need it for a hidden layer!).\n",
        "\n",
        "Now define the MLP with 2 hidden layers and restart training with the cell above.\n",
        "\n",
        "You're aiming for ~0.97 validation accuracy here."
      ]
    },
    {
      "cell_type": "code",
      "metadata": {
        "id": "zQRtpVePod1X",
        "colab_type": "code",
        "colab": {}
      },
      "source": [
        "# write the code here to get a new `step` operation and then run the cell with training loop above.\n",
        "# name your variables in the same way (e.g. logits, probas, classes, etc) for safety.\n",
        "### YOUR CODE HERE ###"
      ],
      "execution_count": null,
      "outputs": []
    },
    {
      "cell_type": "markdown",
      "metadata": {
        "id": "Vgj6y7Ncod1a",
        "colab_type": "text"
      },
      "source": [
        "# Submit the MLP with 2 hidden layers\n",
        "Run these cells after training the MLP with 2 hidden layers"
      ]
    },
    {
      "cell_type": "code",
      "metadata": {
        "id": "12Cj4iMrod1a",
        "colab_type": "code",
        "colab": {}
      },
      "source": [
        "## GRADED PART, DO NOT CHANGE!\n",
        "# Validation loss for MLP\n",
        "grader.set_answer(\"i8bgs\", s.run(loss, {input_X: X_val_flat, input_y: y_val_oh}))\n",
        "# Validation accuracy for MLP\n",
        "grader.set_answer(\"rE763\", accuracy_score(y_val, s.run(classes, {input_X: X_val_flat})))"
      ],
      "execution_count": null,
      "outputs": []
    },
    {
      "cell_type": "code",
      "metadata": {
        "id": "-VXFuTSOod1c",
        "colab_type": "code",
        "colab": {}
      },
      "source": [
        "# you can make submission with answers so far to check yourself at this stage\n",
        "grader.submit(COURSERA_EMAIL, COURSERA_TOKEN)"
      ],
      "execution_count": null,
      "outputs": []
    },
    {
      "cell_type": "code",
      "metadata": {
        "id": "ArLTDmHlod1e",
        "colab_type": "code",
        "colab": {}
      },
      "source": [
        ""
      ],
      "execution_count": null,
      "outputs": []
    }
  ]
}